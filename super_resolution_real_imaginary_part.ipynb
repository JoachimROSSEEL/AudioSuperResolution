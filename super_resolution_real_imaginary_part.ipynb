{
 "cells": [
  {
   "cell_type": "code",
   "execution_count": 2,
   "metadata": {},
   "outputs": [
    {
     "name": "stderr",
     "output_type": "stream",
     "text": [
      "Using TensorFlow backend.\n"
     ]
    }
   ],
   "source": [
    "import numpy as np\n",
    "import scipy.signal\n",
    "from matplotlib.pyplot import *\n",
    "import librosa\n",
    "import os\n",
    "import matplotlib.pyplot as plt\n",
    "import librosa.display\n",
    "from filter_function import *\n",
    "from spectrogram import *\n",
    "\n",
    "import matplotlib.image as mpimg\n",
    "import glob\n",
    "from keras.models import Sequential,Model\n",
    "from keras.layers import Dense, Conv2D, Flatten,MaxPooling2D, UpSampling2D, Input,Dropout,Conv2DTranspose,Concatenate\n",
    "from keras.layers import  Conv1D, MaxPooling1D, UpSampling1D,Concatenate, PReLU\n",
    "from keras import optimizers"
   ]
  },
  {
   "cell_type": "code",
   "execution_count": 3,
   "metadata": {},
   "outputs": [],
   "source": [
    "original_dataset_dir = \"C:\\\\Users\\\\joaro\\\\OneDrive\\\\Documents\\\\deep_learning_jupiter\\\\free_spoken_digit_dataset\\\\recordings\\\\\"\n",
    "\n",
    "base_dir = \"C:\\\\Users\\\\joaro\\\\OneDrive\\\\Documents\\\\deep_learning_jupiter\\\\free_spoken_digit_dataset\\\\super_resolution_re_im\"\n",
    "train_dir = os.path.join(base_dir, 'train\\\\')\n",
    "\n",
    "test_dir = os.path.join(base_dir, 'test\\\\')\n",
    "train_dir_filtré=os.path.join(base_dir, 'train_dir_filtré\\\\')\n",
    "test_dir_filtré=os.path.join(base_dir, 'test_dir_filtré\\\\')"
   ]
  },
  {
   "cell_type": "code",
   "execution_count": null,
   "metadata": {},
   "outputs": [],
   "source": [
    "os.mkdir(base_dir)\n",
    "os.mkdir(train_dir)\n",
    "os.mkdir(test_dir)\n",
    "os.mkdir(train_dir_filtré)\n",
    "os.mkdir(test_dir_filtré)"
   ]
  },
  {
   "cell_type": "code",
   "execution_count": null,
   "metadata": {},
   "outputs": [],
   "source": [
    "speakername=['_jackson_{}.wav','_nicolas_{}.wav','_theo_{}.wav','_yweweler_{}.wav']\n",
    "for i in range(10):    \n",
    "    for s in speakername:\n",
    "        fnames_test=[str(i)+s.format(j) for j in range(5)]\n",
    "        fnames_train=[str(i)+s.format(j) for j in range(5,50)]\n",
    "        \n",
    "        for fname in fnames_test:\n",
    "            src = os.path.join(original_dataset_dir, fname)\n",
    "            dst = os.path.join(test_dir, fname)\n",
    "            \n",
    "            shutil.copyfile(src, dst)\n",
    "            \n",
    "        for fname in fnames_train:\n",
    "             src = os.path.join(original_dataset_dir, fname)\n",
    "             dst = os.path.join(train_dir, fname)\n",
    "            \n",
    "             shutil.copyfile(src, dst)\n",
    "             \n",
    "    i=i+1;\n"
   ]
  },
  {
   "cell_type": "code",
   "execution_count": 4,
   "metadata": {},
   "outputs": [
    {
     "name": "stdout",
     "output_type": "stream",
     "text": [
      "processing C:\\Users\\joaro\\OneDrive\\Documents\\deep_learning_jupiter\\free_spoken_digit_dataset\\super_resolution_re_im\\train\\\n",
      "processing C:\\Users\\joaro\\OneDrive\\Documents\\deep_learning_jupiter\\free_spoken_digit_dataset\\super_resolution_re_im\\test\\\n"
     ]
    }
   ],
   "source": [
    "fce=0.0226 #sr=22050\n",
    "ftype=\"butter\"\n",
    "ordre=2\n",
    "b,a = creer_filter(fce,\"highpass\",ftype,ordre)\n",
    "filter_path(train_dir,train_dir_filtré,b,a)\n",
    "filter_path(test_dir,test_dir_filtré,b,a)"
   ]
  },
  {
   "cell_type": "code",
   "execution_count": 5,
   "metadata": {
    "scrolled": true
   },
   "outputs": [
    {
     "name": "stdout",
     "output_type": "stream",
     "text": [
      "processing C:\\Users\\joaro\\OneDrive\\Documents\\deep_learning_jupiter\\free_spoken_digit_dataset\\super_resolution_re_im\\test\\\n"
     ]
    }
   ],
   "source": [
    "Xtest,testmaxr,testmaxi=dir_to_spectro_RI(test_dir)"
   ]
  },
  {
   "cell_type": "code",
   "execution_count": 6,
   "metadata": {
    "scrolled": true
   },
   "outputs": [
    {
     "name": "stdout",
     "output_type": "stream",
     "text": [
      "[[-1.68969240e-02  1.37014238e-18]\n",
      " [ 1.14567764e-02 -3.60413594e-03]\n",
      " [-2.05927179e-03  2.31237942e-03]\n",
      " [-1.55291834e-03  1.97633199e-04]\n",
      " [ 1.45434856e-03  5.11254184e-03]\n",
      " [ 1.02588290e-03 -1.40695022e-02]\n",
      " [-2.53181392e-03  1.07910717e-02]\n",
      " [ 6.51929644e-04 -2.35448941e-03]\n",
      " [ 3.52810730e-06  1.34198172e-05]\n",
      " [ 0.00000000e+00  0.00000000e+00]\n",
      " [ 0.00000000e+00  0.00000000e+00]\n",
      " [ 0.00000000e+00  0.00000000e+00]\n",
      " [ 0.00000000e+00  0.00000000e+00]\n",
      " [ 0.00000000e+00  0.00000000e+00]\n",
      " [ 0.00000000e+00  0.00000000e+00]\n",
      " [ 0.00000000e+00  0.00000000e+00]]\n"
     ]
    }
   ],
   "source": [
    "print(Xtest[10][10])"
   ]
  },
  {
   "cell_type": "code",
   "execution_count": 7,
   "metadata": {},
   "outputs": [
    {
     "name": "stdout",
     "output_type": "stream",
     "text": [
      "(200, 1024, 16, 2)\n"
     ]
    }
   ],
   "source": [
    "print(Xtest.shape)"
   ]
  },
  {
   "cell_type": "code",
   "execution_count": 8,
   "metadata": {
    "scrolled": true
   },
   "outputs": [
    {
     "name": "stdout",
     "output_type": "stream",
     "text": [
      "processing C:\\Users\\joaro\\OneDrive\\Documents\\deep_learning_jupiter\\free_spoken_digit_dataset\\super_resolution_re_im\\train\\\n",
      "C:\\Users\\joaro\\OneDrive\\Documents\\deep_learning_jupiter\\free_spoken_digit_dataset\\super_resolution_re_im\\train\\5_theo_36.wav\n",
      "C:\\Users\\joaro\\OneDrive\\Documents\\deep_learning_jupiter\\free_spoken_digit_dataset\\super_resolution_re_im\\train\\7_theo_36.wav\n",
      "C:\\Users\\joaro\\OneDrive\\Documents\\deep_learning_jupiter\\free_spoken_digit_dataset\\super_resolution_re_im\\train\\9_theo_16.wav\n",
      "C:\\Users\\joaro\\OneDrive\\Documents\\deep_learning_jupiter\\free_spoken_digit_dataset\\super_resolution_re_im\\train\\9_theo_28.wav\n",
      "processing C:\\Users\\joaro\\OneDrive\\Documents\\deep_learning_jupiter\\free_spoken_digit_dataset\\super_resolution_re_im\\train_dir_filtré\\\n",
      "C:\\Users\\joaro\\OneDrive\\Documents\\deep_learning_jupiter\\free_spoken_digit_dataset\\super_resolution_re_im\\train_dir_filtré\\5_theo_36.wav\n",
      "C:\\Users\\joaro\\OneDrive\\Documents\\deep_learning_jupiter\\free_spoken_digit_dataset\\super_resolution_re_im\\train_dir_filtré\\7_theo_36.wav\n",
      "C:\\Users\\joaro\\OneDrive\\Documents\\deep_learning_jupiter\\free_spoken_digit_dataset\\super_resolution_re_im\\train_dir_filtré\\9_theo_16.wav\n",
      "C:\\Users\\joaro\\OneDrive\\Documents\\deep_learning_jupiter\\free_spoken_digit_dataset\\super_resolution_re_im\\train_dir_filtré\\9_theo_28.wav\n",
      "processing C:\\Users\\joaro\\OneDrive\\Documents\\deep_learning_jupiter\\free_spoken_digit_dataset\\super_resolution_re_im\\test_dir_filtré\\\n"
     ]
    }
   ],
   "source": [
    "Xtrain,trainmaxr,trainmaxi=dir_to_spectro_RI(train_dir)\n",
    "Xtrain_fil,trainmaxr_fil,trainmaxi_fil=dir_to_spectro_RI(train_dir_filtré)\n",
    "Xtest_fil,testmaxr_fil,testmaxi_fil=dir_to_spectro_RI(test_dir_filtré)"
   ]
  },
  {
   "cell_type": "code",
   "execution_count": 9,
   "metadata": {},
   "outputs": [
    {
     "name": "stdout",
     "output_type": "stream",
     "text": [
      "[[-4.75316355e-03 -1.24887509e-19]\n",
      " [ 2.54680845e-03 -9.81870180e-05]\n",
      " [-2.69427925e-04  2.50527082e-04]\n",
      " [-6.09608251e-05 -1.23854683e-04]\n",
      " [ 2.45518604e-04 -2.16387096e-04]\n",
      " [ 1.16974695e-06 -4.25049860e-04]\n",
      " [-1.74329252e-04  1.56760192e-03]\n",
      " [ 7.77964378e-05 -1.00152125e-03]\n",
      " [ 1.00065272e-05  2.03098280e-05]\n",
      " [ 0.00000000e+00  0.00000000e+00]\n",
      " [ 0.00000000e+00  0.00000000e+00]\n",
      " [ 0.00000000e+00  0.00000000e+00]\n",
      " [ 0.00000000e+00  0.00000000e+00]\n",
      " [ 0.00000000e+00  0.00000000e+00]\n",
      " [ 0.00000000e+00  0.00000000e+00]\n",
      " [ 0.00000000e+00  0.00000000e+00]]\n"
     ]
    }
   ],
   "source": [
    "print(Xtest_fil[10][10])"
   ]
  },
  {
   "cell_type": "code",
   "execution_count": 70,
   "metadata": {},
   "outputs": [
    {
     "name": "stdout",
     "output_type": "stream",
     "text": [
      "_________________________________________________________________\n",
      "Layer (type)                 Output Shape              Param #   \n",
      "=================================================================\n",
      "input_7 (InputLayer)         (None, 1024, 16, 2)       0         \n",
      "_________________________________________________________________\n",
      "conv2d_45 (Conv2D)           (None, 1024, 16, 32)      608       \n",
      "_________________________________________________________________\n",
      "max_pooling2d_19 (MaxPooling (None, 512, 16, 32)       0         \n",
      "_________________________________________________________________\n",
      "conv2d_46 (Conv2D)           (None, 512, 16, 32)       9248      \n",
      "_________________________________________________________________\n",
      "prelu2 (PReLU)               (None, 512, 16, 32)       32        \n",
      "_________________________________________________________________\n",
      "max_pooling2d_20 (MaxPooling (None, 256, 16, 32)       0         \n",
      "_________________________________________________________________\n",
      "conv2d_47 (Conv2D)           (None, 256, 16, 32)       9248      \n",
      "_________________________________________________________________\n",
      "prelu8 (PReLU)               (None, 256, 16, 32)       32        \n",
      "_________________________________________________________________\n",
      "max_pooling2d_21 (MaxPooling (None, 128, 16, 32)       0         \n",
      "_________________________________________________________________\n",
      "conv2d_48 (Conv2D)           (None, 128, 16, 32)       9248      \n",
      "_________________________________________________________________\n",
      "prelu7 (PReLU)               (None, 128, 16, 32)       32        \n",
      "_________________________________________________________________\n",
      "conv2d_49 (Conv2D)           (None, 128, 16, 32)       9248      \n",
      "_________________________________________________________________\n",
      "prelu10 (PReLU)              (None, 128, 16, 32)       32        \n",
      "_________________________________________________________________\n",
      "conv2d_50 (Conv2D)           (None, 128, 16, 32)       9248      \n",
      "_________________________________________________________________\n",
      "prelu11 (PReLU)              (None, 128, 16, 32)       32        \n",
      "_________________________________________________________________\n",
      "up_sampling2d_19 (UpSampling (None, 256, 16, 32)       0         \n",
      "_________________________________________________________________\n",
      "conv2d_51 (Conv2D)           (None, 256, 16, 32)       9248      \n",
      "_________________________________________________________________\n",
      "prelu4 (PReLU)               (None, 256, 16, 32)       32        \n",
      "_________________________________________________________________\n",
      "up_sampling2d_20 (UpSampling (None, 512, 16, 32)       0         \n",
      "_________________________________________________________________\n",
      "conv2d_52 (Conv2D)           (None, 512, 16, 32)       9248      \n",
      "_________________________________________________________________\n",
      "prelu5 (PReLU)               (None, 512, 16, 32)       32        \n",
      "_________________________________________________________________\n",
      "up_sampling2d_21 (UpSampling (None, 1024, 16, 32)      0         \n",
      "_________________________________________________________________\n",
      "conv2d_53 (Conv2D)           (None, 1024, 16, 2)       578       \n",
      "_________________________________________________________________\n",
      "prelu (PReLU)                (None, 1024, 16, 2)       2         \n",
      "=================================================================\n",
      "Total params: 66,148\n",
      "Trainable params: 66,148\n",
      "Non-trainable params: 0\n",
      "_________________________________________________________________\n"
     ]
    }
   ],
   "source": [
    "\n",
    "#pas séquentiel\n",
    "#comme une image rgb sauf que couleurs sont ici partie reelle et imag\n",
    "input_img = Input(shape=(1024, 16,2))  \n",
    "conv1= Conv2D(32, (3, 3), padding='same',activation='tanh')(input_img)\n",
    "# conv1 = PReLU(shared_axes=[1, 2], name='prelu1')(conv1)\n",
    "max1= MaxPooling2D((2, 1), padding='same')(conv1)\n",
    "conv2 = Conv2D(32, (3, 3), padding='same')(max1)\n",
    "conv2 = PReLU(shared_axes=[1, 2], name='prelu2')(conv2)\n",
    "max2= MaxPooling2D((2, 1), padding='same')(conv2)\n",
    "conv3 = Conv2D(32, (3, 3), padding='same')(max2)\n",
    "conv3 = PReLU(shared_axes=[1, 2], name='prelu8')(conv3)\n",
    "max3= MaxPooling2D((2, 1), padding='same')(conv3)\n",
    "conv4 = Conv2D(32, (3, 3),padding='same')(max3)\n",
    "conv4 = PReLU(shared_axes=[1, 2], name='prelu7')(conv4)\n",
    "# # max4= MaxPooling2D((2, 1), padding='same')(conv4)\n",
    "# conv5 = Conv2D(32, (3, 3),padding='same')(conv4)\n",
    "# x = PReLU(shared_axes=[1, 2], name='prelu10')(conv5)\n",
    "# # x = UpSampling2D((2, 1))(x)\n",
    "# x = Conv2D(32, (3, 3), padding='same')(x)\n",
    "# x = PReLU(shared_axes=[1, 2], name='prelu11')(x)\n",
    "x = UpSampling2D((2, 1))(conv4)\n",
    "# merge1=Concatenate(axis=-1)([x,conv3])\n",
    "x = Conv2D(32, (3, 3), padding='same')(x)\n",
    "x = PReLU(shared_axes=[1, 2], name='prelu4')(x)\n",
    "x = UpSampling2D((2, 1))(x)\n",
    "merge2=Concatenate(axis=-1)([x,conv2])\n",
    "x = Conv2D(32, (3, 3), padding='same')(merge2)\n",
    "x = PReLU(shared_axes=[1, 2], name='prelu5')(x)\n",
    "x = UpSampling2D((2,1))(x)\n",
    "#merge2=Concatenate(axis=-1)([x,conv1])\n",
    "decoded = Conv2D(2, (3, 3),padding='same')(x)\n",
    "decoded = PReLU(shared_axes=[1, 2], name='prelu')(decoded)\n",
    "# decoded =Dropout(0.5)(decoded)\n",
    "autoencoder = Model(input_img, decoded)\n",
    "autoencoder.compile(optimizer=optimizers.Adadelta(lr=10),loss='mae')\n",
    "#optimizer=optimizers.SGD(lr=0.0001, momentum=0.9, decay=0.0, nesterov=False)\n",
    "autoencoder.summary()\n"
   ]
  },
  {
   "cell_type": "code",
   "execution_count": 71,
   "metadata": {
    "scrolled": true
   },
   "outputs": [
    {
     "name": "stdout",
     "output_type": "stream",
     "text": [
      "Train on 1800 samples, validate on 200 samples\n",
      "Epoch 1/20\n",
      "1800/1800 [==============================] - 21s 12ms/step - loss: 0.0807 - val_loss: 0.0838\n",
      "Epoch 2/20\n",
      "1800/1800 [==============================] - 18s 10ms/step - loss: 0.0807 - val_loss: 0.0838\n",
      "Epoch 3/20\n",
      "1800/1800 [==============================] - 19s 10ms/step - loss: 0.0807 - val_loss: 0.0838\n",
      "Epoch 4/20\n",
      "1800/1800 [==============================] - 18s 10ms/step - loss: 0.0807 - val_loss: 0.0838\n",
      "Epoch 5/20\n",
      "1800/1800 [==============================] - 18s 10ms/step - loss: 0.0807 - val_loss: 0.0838\n",
      "Epoch 6/20\n",
      "1800/1800 [==============================] - 18s 10ms/step - loss: 0.0807 - val_loss: 0.0838\n",
      "Epoch 7/20\n",
      "1800/1800 [==============================] - 18s 10ms/step - loss: 0.0807 - val_loss: 0.0838\n",
      "Epoch 8/20\n",
      "1800/1800 [==============================] - 18s 10ms/step - loss: 0.0807 - val_loss: 0.0838\n",
      "Epoch 9/20\n",
      "1800/1800 [==============================] - 18s 10ms/step - loss: 0.0807 - val_loss: 0.0838\n",
      "Epoch 10/20\n",
      "1800/1800 [==============================] - 18s 10ms/step - loss: 0.0807 - val_loss: 0.0838\n",
      "Epoch 11/20\n",
      "1800/1800 [==============================] - 18s 10ms/step - loss: 0.0807 - val_loss: 0.0838\n",
      "Epoch 12/20\n",
      "1800/1800 [==============================] - 18s 10ms/step - loss: 0.0807 - val_loss: 0.0838\n",
      "Epoch 13/20\n",
      "1800/1800 [==============================] - 18s 10ms/step - loss: 0.0807 - val_loss: 0.0838\n",
      "Epoch 14/20\n",
      "1800/1800 [==============================] - 18s 10ms/step - loss: 0.0807 - val_loss: 0.0838\n",
      "Epoch 15/20\n",
      "1800/1800 [==============================] - 18s 10ms/step - loss: 0.0807 - val_loss: 0.0838\n",
      "Epoch 16/20\n",
      "1800/1800 [==============================] - 18s 10ms/step - loss: 0.0807 - val_loss: 0.0838\n",
      "Epoch 17/20\n",
      "1800/1800 [==============================] - 18s 10ms/step - loss: 0.0807 - val_loss: 0.0838\n",
      "Epoch 18/20\n",
      "1800/1800 [==============================] - 18s 10ms/step - loss: 0.0807 - val_loss: 0.0838\n",
      "Epoch 19/20\n",
      "1800/1800 [==============================] - 18s 10ms/step - loss: 0.0807 - val_loss: 0.0838\n",
      "Epoch 20/20\n",
      "1800/1800 [==============================] - 18s 10ms/step - loss: 0.0807 - val_loss: 0.0838\n"
     ]
    },
    {
     "data": {
      "text/plain": [
       "<keras.callbacks.History at 0x28f1bbc6cc0>"
      ]
     },
     "execution_count": 71,
     "metadata": {},
     "output_type": "execute_result"
    }
   ],
   "source": [
    "G=10\n",
    "autoencoder.fit(Xtrain_fil*G,Xtrain*G,epochs=20,\n",
    "                batch_size=16,\n",
    "                shuffle=True,\n",
    "                validation_data=(Xtest_fil*G, Xtest*G))"
   ]
  },
  {
   "cell_type": "code",
   "execution_count": 72,
   "metadata": {},
   "outputs": [
    {
     "name": "stdout",
     "output_type": "stream",
     "text": [
      "[[-3.7142236e-06  1.2071803e-06]\n",
      " [-9.3488443e-06  1.7131182e-06]\n",
      " [-9.6583735e-06  1.7449867e-06]\n",
      " [-9.5189116e-06  1.6183182e-06]\n",
      " [-9.4027073e-06  1.6331521e-06]\n",
      " [-9.4335010e-06  1.6218823e-06]\n",
      " [-9.3901181e-06  1.5445668e-06]\n",
      " [-9.4105917e-06  1.5592140e-06]\n",
      " [-9.3901226e-06  1.6031820e-06]\n",
      " [-9.4831539e-06  1.6490958e-06]\n",
      " [-9.4904008e-06  1.6309275e-06]\n",
      " [-9.4829293e-06  1.6330315e-06]\n",
      " [-9.4888401e-06  1.6371405e-06]\n",
      " [-9.4918487e-06  1.6412616e-06]\n",
      " [-9.2080554e-06  1.5636580e-06]\n",
      " [-8.1625003e-06  1.7878398e-06]]\n",
      "[[ 6.04809187e-02  1.54488404e-17]\n",
      " [ 2.95964666e-02 -1.41340978e-02]\n",
      " [-1.47888558e-02 -1.67798270e-02]\n",
      " [-3.62167656e-02 -3.11062881e-03]\n",
      " [-1.52316382e-02  9.16804560e-03]\n",
      " [-2.11727433e-03 -3.28151463e-03]\n",
      " [ 2.45762174e-04 -1.68522843e-03]\n",
      " [ 1.87064670e-02  7.08211726e-03]\n",
      " [ 6.86734263e-03  6.94964081e-03]\n",
      " [-2.35070614e-03 -7.23413832e-04]\n",
      " [ 7.06664068e-05 -2.34084460e-03]\n",
      " [-2.14303305e-04 -6.01612206e-04]\n",
      " [ 1.46038502e-07 -1.44031264e-06]\n",
      " [ 0.00000000e+00  0.00000000e+00]\n",
      " [ 0.00000000e+00  0.00000000e+00]\n",
      " [ 0.00000000e+00  0.00000000e+00]]\n",
      "(200, 1024, 16, 2)\n"
     ]
    }
   ],
   "source": [
    "decoded = autoencoder.predict(Xtest_fil)\n",
    "p=0#indice to display\n",
    "print(decoded[p][100])\n",
    "print(Xtest[p][100])\n",
    "print(decoded.shape)"
   ]
  },
  {
   "cell_type": "code",
   "execution_count": 73,
   "metadata": {},
   "outputs": [
    {
     "name": "stdout",
     "output_type": "stream",
     "text": [
      "(1024, 16)\n"
     ]
    }
   ],
   "source": [
    "ic=complex(0,1)\n",
    "p=122\n",
    "size_freq=1024\n",
    "size_time=16\n",
    "Spec_test=np.zeros((size_freq,size_time),dtype=complex)\n",
    "Spec_test_fil=np.zeros((size_freq,size_time),dtype=complex)\n",
    "Spec_decoded=np.zeros((size_freq,size_time),dtype=complex)\n",
    "for i in range(size_freq):\n",
    "    for j in range(size_time):\n",
    "            Spec_test[i][j]=Xtest[p][i][j][0]*testmaxr[p]+Xtest[p][i][j][1]*ic*testmaxi[p]\n",
    "            Spec_test_fil[i][j]=Xtest_fil[p][i][j][0]*testmaxr_fil[p]+Xtest_fil[p][i][j][1]*ic*testmaxi_fil[p]\n",
    "            Spec_decoded[i][j]=decoded[p][i][j][0]*testmaxr[p]+decoded[p][i][j][1]*ic*testmaxi[p]\n",
    "            j=j+1 \n",
    "    i=i+1\n",
    "\n",
    "print(Spec_test.shape)"
   ]
  },
  {
   "cell_type": "code",
   "execution_count": 74,
   "metadata": {},
   "outputs": [
    {
     "data": {
      "text/plain": [
       "<matplotlib.colorbar.Colorbar at 0x28f1c9ee240>"
      ]
     },
     "execution_count": 74,
     "metadata": {},
     "output_type": "execute_result"
    },
    {
     "data": {
      "image/png": "[encoded data removed]",
      "text/plain": [
       "<Figure size 432x288 with 2 Axes>"
      ]
     },
     "metadata": {
      "needs_background": "light"
     },
     "output_type": "display_data"
    }
   ],
   "source": [
    "Spec_testdb= librosa.amplitude_to_db(abs(Spec_test))\n",
    "librosa.display.specshow(Spec_testdb, sr=8000, x_axis='time', y_axis='log',cmap='Spectral_r')\n",
    "colorbar()"
   ]
  },
  {
   "cell_type": "code",
   "execution_count": 75,
   "metadata": {},
   "outputs": [
    {
     "data": {
      "text/plain": [
       "<matplotlib.colorbar.Colorbar at 0x28f1caa4d30>"
      ]
     },
     "execution_count": 75,
     "metadata": {},
     "output_type": "execute_result"
    },
    {
     "data": {
      "image/png": "[encoded data removed]",
      "text/plain": [
       "<Figure size 432x288 with 2 Axes>"
      ]
     },
     "metadata": {
      "needs_background": "light"
     },
     "output_type": "display_data"
    }
   ],
   "source": [
    "Spec_testdb2= librosa.amplitude_to_db(abs(Spec_test_fil))\n",
    "\n",
    "librosa.display.specshow(Spec_testdb2, sr=8000, x_axis='time', y_axis='log',cmap='Spectral_r')\n",
    "colorbar()\n"
   ]
  },
  {
   "cell_type": "code",
   "execution_count": 76,
   "metadata": {},
   "outputs": [
    {
     "data": {
      "text/plain": [
       "<matplotlib.colorbar.Colorbar at 0x28f1cb60f28>"
      ]
     },
     "execution_count": 76,
     "metadata": {},
     "output_type": "execute_result"
    },
    {
     "data": {
      "image/png": "[encoded data removed]",
      "text/plain": [
       "<Figure size 432x288 with 2 Axes>"
      ]
     },
     "metadata": {
      "needs_background": "light"
     },
     "output_type": "display_data"
    }
   ],
   "source": [
    "Spec_testdb3= librosa.amplitude_to_db(abs(Spec_decoded))\n",
    "\n",
    "librosa.display.specshow(Spec_testdb3, sr=8000, x_axis='time', y_axis='log',cmap='Spectral_r')\n",
    "colorbar()"
   ]
  },
  {
   "cell_type": "code",
   "execution_count": 77,
   "metadata": {},
   "outputs": [
    {
     "data": {
      "text/plain": [
       "<matplotlib.colorbar.Colorbar at 0x28f1cc77780>"
      ]
     },
     "execution_count": 77,
     "metadata": {},
     "output_type": "execute_result"
    },
    {
     "data": {
      "image/png": "[encoded data removed]",
      "text/plain": [
       "<Figure size 1152x288 with 4 Axes>"
      ]
     },
     "metadata": {
      "needs_background": "light"
     },
     "output_type": "display_data"
    }
   ],
   "source": [
    "Spec_testdb3= librosa.amplitude_to_db(abs(Spec_decoded))\n",
    "plt.figure(figsize=(16, 4))\n",
    "plt.subplot(1,2,1)\n",
    "librosa.display.specshow(Spec_test, sr=8000, x_axis='time', y_axis='hz',cmap='Spectral_r')\n",
    "colorbar()\n",
    "plt.subplot(1,2,2)\n",
    "librosa.display.specshow(Spec_decoded, sr=8000, x_axis='time', y_axis='hz',cmap='Spectral_r')\n",
    "colorbar()"
   ]
  },
  {
   "cell_type": "code",
   "execution_count": 78,
   "metadata": {},
   "outputs": [
    {
     "data": {
      "text/html": [
       "\n",
       "                <audio  controls=\"controls\" >\n",
       "                    <source src=\"data:audio/wav;base64,UklGRgY8AABXQVZFZm10IBAAAAABAAEAQB8AAIA+AAACABAAZGF0YeI7AAAAAAAAAAAAAAAAAAAAAAAAAAAAAAAAAAAAAAAAAAAAAAAAAAAAAAAAAAAAAAAAAAAAAAAAAAAAAAAAAAAAAAAAAAAAAAAAAAAAAAAAAAAAAAAAAAAAAAAAAAAAAAAAAAAAAAAAAAAAAAAAAAAAAAAAAAAAAAAAAAAAAAAAAAAAAAAAAAAAAAAAAAAAAAAAAAAAAAAAAAAAAAAAAAAAAAAAAAAAAAAAAAAAAAAAAAAAAAAAAAAAAAAAAAAAAAAAAAAAAAAAAAAAAAAAAAAAAAAAAAAAAAAAAAAAAAAAAAAAAAAAAAAAAAAAAAAAAAAAAAAAAAAAAAAAAAAAAAAAAAAAAAAAAAAAAAAAAAAAAAAAAAAAAAAAAAAAAAAAAAAAAAAAAAAAAAAAAAAAAAAAAAAAAAAAAAAAAAAAAAAAAAAAAAAAAAAAAAAAAAAAAAAAAAAAAAAAAAAAAAAAAAAAAAAAAAAAAAAAAAAAAAAAAAAAAAAAAAAAAAAAAAAAAAAAAAAAAAAAAAAAAAAAAAAAAAAAAAAAAAAAAAAAAAAAAAAAAAAAAAAAAAAAAAAAAAAAAAAAAAAAAAAAAAAAAAAAAAAAAAAAAAAAAAAAAAAAAAAAAAAAAAAAAAAAAAAAAAAAAAAAAAAAAAAAAAAAAAAAAAAAAAAAAAAAAAAAAAAAAAAAAAAAAAAAAAAAAAAAAAAAAAAAAAAAAAAAAAAAAAAAAAAAAAAAAAAAAAAAAAAAAAAAAAAAAAAAAAAAAAAAAAAAAAAAAAAAAAAAAAAAAAAAAAAAAAAAAAAAAAAAAAAAAAAAAAAAAAAAAAAAAAAAAAAAAAAAAAAAAAAAAAAAAAAAAAAAAAAAAAAAAAAAAAAAAAAAAAAAAAAAAAAAAAAAAAAAAAAAAAAAAAAAAAAAAAAAAAAAAAAAAAAAAAAAAAAAAAAAAAAAAAAAAAAAAAAAAAAAAAAAAAAAAAAAAAAAAAAAAAAAAAAAAAAAAAAAAAAAAAAAAAAAAAAAAAAAAAAAAAAAAAAAAAAAAAAAAAAAAAAAAAAAAAAAAAAAAAAAAAAAAAAAAAAAAAAAAAAAAAAAAAAAAAAAAAAAAAAAAAAAAAAAAAAAAAAAAAAAAAAAAAAAAAAAAAAAAAAAAAAAAAAAAAAAAAAAAAAAAAAAAAAAAAAAAAAAAAAAAAAAAAAAAAAAAAAAAAAAAAAAAAAAAAAAAAAAAAAAAAAAAAAAAAAAAAAAAAAAAAAAAAAAAAAAAAAAAAAAAAAAAAAAAAAAAAAAAAAAAAAAAAAAAAAAAAAAAAAAAAAAAAAAAAAAAAAAAAAAAAAAAAAAAAAAAAAAAAAAAAAAAAAAAAAAAAAAAAAAAAAAAAAAAAAAAAAAAAAAAAAAAAAAAAAAAAAAAAAAAAAAAAAAAAAAAAAAAAAAAAAAAAAAAAAAAAAAAAAAAAAAAAAAAAAAAAAAAAAAAAAAAAAAAAAAAAAAAAAAAAAAAAAAAAAAAAAAAAAAAAAAAAAAAAAAAAAAAAAAAAAAAAAAAAAAAAAAAAAAAAAAAAAAAAAAAAAAAAAAAAAAAAAAAAAAAAAAAAAAAAAAAAAAAAAAAAAAAAAAAAAAAAAAAAAAAAAAAAAAAAAAAAAAAAAAAAAAAAAAAAAAAAAAAAAAAAAAAAAAAAAAAAAAAAAAAAAAAAAAAAAAAAAAAAAAAAAAAAAAAAAAAAAAAAAAAAAAAAAAAAAAAAAAAAAAAAAAAAAAAAAAAAAAAAAAAAAAAAAAAAAAAAAAAAAAAAAAAAAAAAAAAAAAAAAAAAAAAAAAAAAAAAAAAAAAAAAAAAAAAAAAAAAAAAAAAAAAAAAAAAAAAAAAAAAAAAAAAAAAAAAAAAAAAAAAAAAAAAAAAAAAAAAAAAAAAAAAAAAAAAAAAAAAAAAAAAAAAAAAAAAAAAAAAAAAAAAAAAAAAAAAAAAAAAAAAAAAAAAAAAAAAAAAAAAAAAAAAAAAAAAAAAAAAAAAAAAAAAAAAAAAAAAAAAAAAAAAAAAAAAAAAAAAAAAAAAAAAAAAAAAAAAAAAAAAAAAAAAAAAAAAAAAAAAAAAAAAAAAAAAAAAAAAAAAAAAAAAAAAAAAAAAAAAAAAAAAAAAAAAAAAAAAAAAAAAAAAAAAAAAAAAAAAAAAAAAAAAAAAAAAAAAAAAAAAAAAAAAAAAAAAAAAAAAAAAAAAAAAAAAAAAAAAAAAAAAAAAAAAAAAAAAAAAAAAAAAAAAAAAAAAAAAAAAAAAAAAAAAAAAAAAAAAAAAAAAAAAAAAAAAAAAAAAAAAAAAAAAAAAAAAAAAAAAAAAAAAAAAAAAAAAAAAAAAAAAAAAAAAAAAAAAAAAAAAAAAAAAAAAAAAAAAAAAAAAAAAAAAAAAAAAAAAAAAAAAAAAAAAAAAAAAAAAAAAAAAAAAAAAAAAAAAAAAAAAAAAAAAAAAAAAAAAAAAAAAAAAAAAAAAAAAAAAAAAAAAAAAAAAAAAAAAAAAAAAAAAAAAAAAAAAAAAAAAAAAAAAAAAAAAAAAAAAAAAAAAAAAAAAAAAAAAAAAAAAAAAAAAAAAAAAAAAAAAAAAAAAAAAAAAAAAAAAAAAAAAAAAAAAAAAAAAAAAAAAAAAAAAAAAAAAAAAAAAAAAAAAAAAAAAAAAAAAAAAAAAAAAAAAAAAAAAAAAAAAAAAAAAAAAAAAAAAAAAAAAAAAAAAAAAAAAAAAAAAAAAAAAAAAAAAAAAAAAAAAAAAAAAAAAAAAAAAAAAAAAAAAAAAAAAAAAAAAAAAAAAAAAAAAAAAAAAAAAAAAAAAAAAAAAAAAAAAAAAAAAAAAAAAAAAAAAAAAAAAAAAAAAAAAAAAAAAAAAAAAAAAAAAAAAAAAAAAAAAAAAAAAAAAAAAAAAAAAAAAAAAAAAAAAAAAAAAAAAAAAAAAAAAAAAAAAAAAAAAAAAAAAAAAAAAAAAAAAAAAAAAAAAAAAAAAAAAAAAAAAAAAAAAAAAAAAAAAAAAAAAAAAAAAAAAAAAAAAAAAAAAAAAAAAAAAAAAAAAAAAAAAAAAAAAAAAAAAAAAAAAAAAAAAAAAAAAAAAAAAAAAAAAAAAAAAAAAAAAAAAAAAAAAAAAAAAAAAAAAAAAAAAAAAAAAAAAAAAAAAAAAAAAAAAAAAAAAAAAAAAAAAAAAAAAAAAAAAAAAAAAAAAAAAAAAAAAAAAAAAAAAAAAAAAAAAAAAAAAAAAAAAAAAAAAAAAAAAAAAAAAAAAAAAAAAAAAAAAAAAAAAAAAAAAAAAAAAAAAAAAAAAAAAAAAAAAAAAAAAAAAAAAAAAAAAAAAAAAAAAAAAAAAAAAAAAAAAAAAAAAAAAAAAAAAAAAAAAAAAAAAAAAAAAAAAAAAAAAAAAAAAAAAAAAAAAAAAAAAAAAAAAAAAAAAAAAAAAAAAAAAAAAAAAAAAAAAAAAAAAAAAAAAAAAAAAAAAAAAAAAAAAAAAAAAAAAAAAAAAAAAAAAAAAAAAAAAAAAAAAAAAAAAAAAAAAAAAAAAAAAAAAAAAAAAAAAAAAAAAAAAAAAAAAAAAAAAAAAAAAAAAAAAAAAAAAAAAAAAAAAAAAAAAAAAAAAAAAAAAAAAAAAAAAAAAAAAAAAAAAAAAAAAAAAAAAAAAAAAAAAAAAAAAAAAAAAAAAAAAAAAAAAAAAAAAAAAAAAAAAAAAAAAAAAAAAAAAAAAAAAAAAAAAAAAAAAAAAAAAAAAAAAAAAAAAAAAAAAAAAAAAAAAAAAAAAAAAAAAAAAAAAAAAAAAAAAAAAAAAAAAAAAAAAAAAAAAAAAAAAAAAAAAAAAAAAAAAAAAAAAAAAAAAAAAAAAAAAAAAAAAAAAAAAAAAAAAAAAAAAAAAAAAAAAAAAAAAAAAAAAAAAAAAAAAAAAAAAAAAAAAAAAAAAAAAAAAAAAAAAAAAAAAAAAAAAAAAAAAAAAAAAAAAAAAAAAAAAAAAAAAAAAAAAAAAAAAAAAAAAAAAAAAAAAAAAAAAAAAAAAAAAAAAAAAAAAAAAAAAAAAAAAAAAAAAAAAAAAAAAAAAAAAAAAAAAAAAAAAAAAAAAAAAAAAAAAAAAAAAAAAAAAAAAAAAAAAAAAAAAAAAAAAAAAAAAAAAAAAAAAAAAAAAAAAAAAAAAAAAAAAAAAAAAAAAAAAAAAAAAAAAAAAAAAAAAAAAAAAAAAAAAAAAAAAAAAAAAAAAAAAAAAAAAAAAAAAAAAAAAAAAAAAAAAAAAAAAAAAAAAAAAAAAAAAAAAAAAAAAAAAAAAAAAAAAAAAAAAAAAAAAAAAAAAAAAAAAAAAAAAAAAAAAAAAAAAAAAAAAAAAAAAAAAAAAAAAAAAAAAAAAAAAAAAAAAAAAAAAAAAAAAAAAAAAAAAAAAAAAAAAAAAAAAAAAAAAAAAAAAAAAAAAAAAAAAAAAAAAAAAAAAAAAAAAAAAAAAAAAAAAAAAAAAAAAAAAAAAAAAAAAAAAAAAAAAAAAAAAAAAAAAAAAAAAAAAAAAAAAAAAAAAAAAAAAAAAAAAAAAAAAAAAAAAAAAAAAAAAAAAAAAAAAAAAAAAAAAAAAAAAAAAAAAAAAAAAAAAAAAAAAAAAAAAAAAAAAAAAAAAAAAAAAAAAAAAAAAAAAAAAAAAAAAAAAAAAAAAAAAAAAAAAAAAAAAAAAAAAAAAAAAAAAAAAAAAAAAAAAAAAAAAAAAAAAAAAAAAAAAAAAAAAAAAAAAAAAAAAAAAAAAAAAAAAAAAAAAAAAAAAAAAAAAAAAAAAAAAAAAAAAAAAAAAAAAAAAAAAAAAAAAAAAAAAAAAAAAAAAAAAAAAAAAAAAAAAAAAAAAAAAAAAAAAAAAAAAAAAAAAAAAAAAAAAAAAAAAAAAAAAAAAAAAAAAAAAAAAAAAAAAAAAAAAAAAAAAAAAAAAAAAAAAAAAAAAAAAAAAAAAAAAAAAAAAAAAAAAAAAAAAAAAAAAAAAAAAAAAAAAAAAAAAAAAAAAAAAAAAAAAAAAAAAAAAAAAAAAAAAAAAAAAAAAAAAAAAAAAAAAAAAAAAAAAAAAAAAAAAAAAAAAAAAAAAAAAAAAAAAAAAAAAAAAAAAAAAAAAAAAAAAAAAAAAAAAAAAAAAAAAAAAAAAAAAAAAAAAAAAAAAAAAAAAAAAAAAAAAAAAAAAAAAAAAAAAAAAAAAAAAAAAAAAAAAAAAAAAAAAAAAAAAAAAAAAAAAAAAAAAAAAAAAAAAAAAAAAAAAAAAAAAAAAAAAAAAAAAAAAAAAAAAAAAAAAAAAAAAAAAAAAAAAAAAAAAAAAAAAAAAAAAAAAAAAAAAAAAAAAAAAAAAAAAAAAAAAAAAAAAAAAAAAAAAAAAAAAAAAAAAAAAAAAAAAAAAAAAAAAAAAAAAAAAAAAAAAAAAAAAAAAAAAAAAAAAAAAAAAAAAAAAAAAAAAAAAAAAAAAAAAAAAAAAAAAAAAAAAAAAAAAAAAAAAAAAAAAAAAAAAAAAAAAAAAAAAAAAAAAAAAAAAAAAAAAAAAAAAAAAAAAAAAAAAAAAAAAAAAAAAAAAAAAAAAAAAAAAAAAAAAAAAAAAAAAAAAAAAAAAAAAAAAAAAAAAAAAAAAAAAAAAAAAAAAAAAAAAAAAAAAAAAAAAAAAAAAAAAAAAAAAAAAAAAAAAAAAAAAAAAAAAAAAAAAAAAAAAAAAAAAAAAAAAAAAAAAAAAAAAAAAAAAAAAAAAAAAAAAAAAAAAAAAAAAAAAAAAAAAAAAAAAAAAAAAAAAAAAAAAAAAAAAAAAAAAAAAAAAAAAAAAAAAAAAAAAAAAAAAAAAAAAAAAAAAAAAAAAAAAAAAAAAAAAAAAAAAAAAAAAAAAAAAAAAAAAAAAAAAAAAAAAAAAAAAAAAAAAAAAAAAAAAAAAAAAAAAAAAAAAAAAAAAAAAAAAAAAAAAAAAAAAAAAAAAAAAAAAAAAAAAAAAAAAAAAAAAAAAAAAAAAAAAAAAAAAAAAAAAAAAAAAAAAAAAAAAAAAAAAAAAAAAAAAAAAAAAAAAAAAAAAAAAAAAAAAAAAAAAAAAAAAAAAAAAAAAAAAAAAAAAAAAAAAAAAAAAAAAAAAAAAAAAAAAAAAAAAAAAAAAAAAAAAAAAAAAAAAAAAAAAAAAAAAAAAAAAAAAAAAAAAAAAAAAAAAAAAAAAAAAAAAAAAAAAAAAAAAAAAAAAAAAAAAAAAAAAAAAAAAAAAAAAAAAAAAAAAAAAAAAAAAAAAAAAAAAAAAAAAAAAAAAAAAAAAAAAAAAAAAAAAAAAAAAAAAAAAAAAAAAAAAAAAAAAAAAAAAAAAAAAAAAAAAAAAAAAAAAAAAAAAAAAAAAAAAAAAAAAAAAAAAAAAAAAAAAAAAAAAAAAAAAAAAAAAAAAAAAAAAAAAAAAAAAAAAAAAAAAAAAAAAAAAAAAAAAAAAAAAAAAAAAAAAAAAAAAAAAAAAAAAAAAAAAAAAAAAAAAAAAAAAAAAAAAAAAAAAAAAAAAAAAAAAAAAAAAAAAAAAAAAAAAAAAAAAAAAAAAAAAAAAAAAAAAAAAAAAAAAAAAAAAAAAAAAAAAAAAAAAAAAAAAAAAAAAAAAAAAAAAAAAAAAAAAAAAAAAAAAAAAAAAAAAAAAAAAAAAAAAAAAAAAAAAAAAAAAAAAAAAAAAAAAAAAAAAAAAAAAAAAAAAAAAAAAAAAAAAAAAAAAAAAAAAAAAAAAAAAAAAAAAAAAAAAAAAAAAAAAAAAAAAAAAAAAAAAAAAAAAAAAAAAAAAAAAAAAAAAAAAAAAAAAAAAAAAAAAAAAAAAAAAAAAAAAAAAAAAAAAAAAAAAAAAAAAAAAAAAAAAAAAAAAAAAAAAAAAAAAAAAAAAAAAAAAAAAAAAAAAAAAAAAAAAAAAAAAAAAAAAAAAAAAAAAAAAAAAAAAAAAAAAAAAAAAAAAAAAAAAAAAAAAAAAAAAAAAAAAAAAAAAAAAAAAAAAAAAAAAAAAAAAAAAAAAAAAAAAAAAAAAAAAAAAAAAAAAAAAAAAAAAAAAAAAAAAAAAAAAAAAAAAAAAAAAAAAAAAAAAAAAAAAAAAAAAAAAAAAAAAAAAAAAAAAAAAAAAAAAAAAAAAAAAAAAAAAAAAAAAAAAAAAAAAAAAAAAAAAAAAAAAAAAAAAAAAAAAAAAAAAAAAAAAAAAAAAAAAAAAAAAAAAAAAAAAAAAAAAAAAAAAAAAAAAAAAAAAAAAAAAAAAAAAAAAAAAAAAAAAAAAAAAAAAAAAAAAAAAAAAAAAAAAAAAAAAAAAAAAAAAAAAAAAAAAAAAAAAAAAAAAAAAAAAAAAAAAAAAAAAAAAAAAAAAAAAAAAAAAAAAAAAAAAAAAAAAAAAAAAAAAAAAAAAAAAAAAAAAAAAAAAAAAAAAAAAAAAAAAAAAAAAAAAAAAAAAAAAAAAAAAAAAAAAAAAAAAAAAAAAAAAAAAAAAAAAAAAAAAAAAAAAAAAAAAAAAAAAAAAAAAAAAAAAAAAAAAAAAAAAAAAAAAAAAAAAAAAAAAAAAAAAAAAAAAAAAAAAAAAAAAAAAAAAAAAAAAAAAAAAAAAAAAAAAAAAAAAAAAAAAAAAAAAAAAAAAAAAAAAAAAAAAAAAAAAAAAAAAAAAAAAAAAAAAAAAAAAAAAAAAAAAAAAAAAAAAAAAAAAAAAAAAAAAAAAAAAAAAAAAAAAAAAAAAAAAAAAAAAAAAAAAAAAAAAAAAAAAAAAAAAAAAAAAAAAAAAAAAAAAAAAAAAAAAAAAAAAAAAAAAAAAAAAAAAAAAAAAAAAAAAAAAAAAAAAAAAAAAAAAAAAAAAAAAAAAAAAAAAAAAAAAAAAAAAAAAAAAAAAAAAAAAAAAAAAAAAAAAAAAAAAAAAAAAAAAAAAAAAAAAAAAAAAAAAAAAAAAAAAAAAAAAAAAAAAAAAAAAAAAAAAAAAAAAAAAAAAAAAAAAAAAAAAAAAAAAAAAAAAAAAAAAAAAAAAAAAAAAAAAAAAAAAAAAAAAAAAAAAAAAAAAAAAAAAAAAAAAAAAAAAAAAAAAAAAAAAAAAAAAAAAAAAAAAAAAAAAAAAAAAAAAAAAAAAAAAAAAAAAAAAAAAAAAAAAAAAAAAAAAAAAAAAAAAAAAAAAAAAAAAAAAAAAAAAAAAAAAAAAAAAAAAAAAAAAAAAAAAAAAAAAAAAAAAAAAAAAAAAAAAAAAAAAAAAAAAAAAAAAAAAAAAAAAAAAAAAAAAAAAAAAAAAAAAAAAAAAAAAAAAAAAAAAAAAAAAAAAAAAAAAAAAAAAAAAAAAAAAAAAAAAAAAAAAAAAAAAAAAAAAAAAAAAAAAAAAAAAAAAAAAAAAAAAAAAAAAAAAAAAAAAAAAAAAAAAAAAAAAAAAAAAAAAAAAAAAAAAAAAAAAAAAAAAAAAAAAAAAAAAAAAAAAAAAAAAAAAAAAAAAAAAAAAAAAAAAAAAAAAAAAAAAAAAAAAAAAAAAAAAAAAAAAAAAAAAAAAAAAAAAAAAAAAAAAAAAAAAAAAAAAAAAAAAAAAAAAAAAAAAAAAAAAAAAAAAAAAAAAAAAAAAAAAAAAAAAAAAAAAAAAAAAAAAAAAAAAAAAAAAAAAAAAAAAAAAAAAAAAAAAAAAAAAAAAAAAAAAAAAAAAAAAAAAAAAAAAAAAAAAAAAAAAAAAAAAAAAAAAAAAAAAAAAAAAAAAAAAAAAAAAAAAAAAAAAAAAAAAAAAAAAAAAAAAAAAAAAAAAAAAAAAAAAAAAAAAAAAAAAAAAAAAAAAAAAAAAAAAAAAAAAAAAAAAAAAAAAAAAAAAAAAAAAAAAAAAAAAAAAAAAAAAAAAAAAAAAAAAAAAAAAAAAAAAAAAAAAAAAAAAAAAAAAAAAAAAAAAAAAAAAAAAAAAAAAAAAAAAAAAAAAAAAAAAAAAAAAAAAAAAAAAAAAAAAAAAAAAAAAAAAAAAAAAAAAAAAAAAAAAAAAAAAAAAAAAAAAAAAAAAAAAAAAAAAAAAAAAAAAAAAAAAAAAAAAAAAAAAAAAAAAAAAAAAAAAAAAAAAAAAAAAAAAAAAAAAAAAAAAAAAAAAAAAAAAAAAAAAAAAAAAAAAAAAAAAAAAAAAAAAAAAAAAAAAAAAAAAAAAAAAAAAAAAAAAAAAAAAAAAAAAAAAAAAAAAAAAAAAAAAAAAAAAAAAAAAAAAAAAAAAAAAAAAAAAAAAAAAAAAAAAAAAAAAAAAAAAAAAAAAAAAAAAAAAAAAAAAAAAAAAAAAAAAAAAAAAAAAAAAAAAAAAAAAAAAAAAAAAAAAAAAAAAAAAAAAAAAAAAAAAAAAAAAAAAAAAAAAAAAAAAAAAAAAAAAAAAAAAAAAAAAAAAAAAAAAAAAAAAAAAAAAAAAAAAAAAAAAAAAAAAAAAAAAAAAAAAAAAAAAAAAAAAAAAAAAAAAAAAAAAAAAAAAAAAAAAAAAAAAAAAAAAAAAAAAAAAAAAAAAAAAAAAAAAAAAAAAAAAAAAAAAAAAAAAAAAAAAAAAAAAAAAAAAAAAAAAAAAAAAAAAAAAAAAAAAAAAAAAAAAAAAAAAAAAAAAAAAAAAAAAAAAAAAAAAAAAAAAAAAAAAAAAAAAAAAAAAAAAAAAAAAAAAAAAAAAAAAAAAAAAAAAAAAAAAAAAAAAAAAAAAAAAAAAAAAAAAAAAAAAAAAAAAAAAAAAAAAAAAAAAAAAAAAAAAAAAAAAAAAAAAAAAAAAAAAAAAAAAAAAAAAAAAAAAAAAAAAAAAAAAAAAAAAAAAAAAAAAAAAAAAAAAAAAAAAAAAAAAAAAAAAAAAAAAAAAAAAAAAAAAAAAAAAAAAAAAAAAAAAAAAAAAAAAAAAAAAAAAAAAAAAAAAAAAAAAAAAAAAAAAAAAAAAAAAAAAAAAAAAAAAAAAAAAAAAAAAAAAAAAAAAAAAAAAAAAAAAAAAAAAAAAAAAAAAAAAAAAAAAAAAAAAAAAAAAAAAAAAAAAAAAAAAAAAAAAAAAAAAAAAAAAAAAAAAAAAAAAAAAAAAAAAAAAAAAAAAAAAAAAAAAAAAAAAAAAAAAAAAAAAAAAAAAAAAAAAAAAAAAAAAAAAAAAAAAAAAAAAAAAAAAAAAAAAAAAAAAAAAAAAAAAAAAAAAAAAAAAAAAAAAAAAAAAAAAAAAAAAAAAAAAAAAAAAAAAAAAAAAAAAAAAAAAAAAAAAAAAAAAAAAAAAAAAAAAAAAAAAAAAAAAAAAAAAAAAAAAAAAAAAAAAAAAAAAAAAAAAAAAAAAAAAAAAAAAAAAAAAAAAAAAAAAAAAAAAAAAAAAAAAAAAAAAAAAAAAAAAAAAAAAAAAAAAAAAAAAAAAAAAAAAAAAAAAAAAAAAAAAAAAAAAAAAAAAAAAAAAAAAAAAAAAAAAAAAAAAAAAAAAAAAAAAAAAAAAAAAAAAAAAAAAAAAAAAAAAAAAAAAAAAAAAAAAAAAAAAAAAAAAAAAAAAAAAAAAAAAAAAAAAAAAAAAAAAAAAAAAAAAAAAAAAAAAAAAAAAAAAAAAAAAAAAAAAAAAAAAAAAAAAAAAAAAAAAAAAAAAAAAAAAAAAAAAAAAAAAAAAAAAAAAAAAAAAAAAAAAAAAAAAAAAAAAAAAAAAAAAAAAAAAAAAAAAAAAAAAAAAAAAAAAAAAAAAAAAAAAAAAAAAAAAAAAAAAAAAAAAAAAAAAAAAAAAAAAAAAAAAAAAAAAAAAAAAAAAAAAAAAAAAAAAAAAAAAAAAAAAAAAAAAAAAAAAAAAAAAAAAAAAAAAAAAAAAAAAAAAAAAAAAAAAAAAAAAAAAAAAAAAAAAAAAAAAAAAAAAAAAAAAAAAAAAAAAAAAAAAAAAAAAAAAAAAAAAAAAAAAAAAAAAAAAAAAAAAAAAAAAAAAAAAAAAAAAAAAAAAAAAAAAAAAAAAAAAAAAAAAAAAAAAAAAAAAAAAAAAAAAAAAAAAAAAAAAAAAAAAAAAAAAAAAAAAAAAAAAAAAAAAAAAAAAAAAAAAAAAAAAAAAAAAAAAAAAAAAAAAAAAAAAAAAAAAAAAAAAAAAAAAAAAAAAAAAAAAAAAAAAAAAAAAAAAAAAAAAAAAAAAAAAAAAAAAAAAAAAAAAAAAAAAAAAAAAAAAAAAAAAAAAAAAAAAAAAAAAAAAAAAAAAAAAAAAAAAAAAAAAAAAAAAAAAAAAAAAAAAAAAAAAAAAAAAAAAAAAAAAAAAAAAAAAAAAAAAAAAAAAAAAAAAAAAAAAAAAAAAAAAAAAAAAAAAAAAAAAAAAAAAAAAAAAAAAAAAAAAAAAAAAAAAAAAAAAAAAAAAAAAAAAAAAAAAAAAAAAAAAAAAAAAAAAAAAAAAAAAAAAAAAAAAAAAAAAAAAAAAAAAAAAAAAAAAAAAAAAAAAAAAAAAAAAAAAAAAAAAAAAAAAAAAAAAAAAAAAAAAAAAAAAAAAAAAAAAAAAAAAAAAAAAAAAAAAAAAAAAAAAAAAAAAAAAAAAAAAAAAAAAAAAAAAAAAAAAAAAAAAAAAAAAAAAAAAAAAAAAAAAAAAAAAAAAAAAAAAAAAAAAAAAAAAAAAAAAAAAAAAAAAAAAAAAAAAAAAAAAAAAAAAAAAAAAAAAAAAAAAAAAAAAAAAAAAAAAAAAAAAAAAAAAAAAAAAAAAAAAAAAAAAAAAAAAAAAAAAAAAAAAAAAAAAAAAAAAAAAAAAAAAAAAAAAAAAAAAAAAAAAAAAAAAAAAAAAAAAAAAAAAAAAAAAAAAAAAAAAAAAAAAAAAAAAAAAAAAAAAAAAAAAAAAAAAAAAAAAAAAAAAAAAAAAAAAAAAAAAAAAAAAAAAAAAAAAAAAAAAAAAAAAAAAAAAAAAAAAAAAAAAAAAAAAAAAAAAAAAAAAAAAAAAAAAAAAAAAAAAAAAAAAAAAAAAAAAAAAAAAAAAAAAAAAAAAAAAAAAAAAAAAAAAAAAAAAAAAAAAAAAAAAAAAAAAAAAAAAAAAAAAAAAAAAAAAAAAAAAAAAAAAAAAAAAAAAAAAAAAAAAAAAAAAAAAAAAAAAAAAAAAAAAAAAAAAAAAAAAAAAAAAAAAAAAAAAAAAAAAAAAAAAAAAAAAAAAAAAAAAAAAAAAAAAAAAAAAAAAAAAAAAAAAAAAAAAAAAAAAAAAAAAAAAAAAAAAAAAAAAAAAAAAAAAAAAAAAAAAAAAAAAAAAAAAAAAAAAAAAAAAAAAAAAAAAAAAAAAAAAAAAAAAAAAAAAAAAAAAAAAAAAAAAAAAAAAAAAAAAAAAAAAAAAAAAAAAAAAAAAAAAAAAAAAAAAAAAAAAAAAAAAAAAAAAAAAAAAAAAAAAAAAAAAAAAAAAAAAAAAAAAAAAAAAAAAAAAAAAAAAAAAAAAAAAAAAAAAAAAAAAAAAAAAAAAAAAAAAAAAAAAAAAAAAAAAAAAAAAAAAAAAAAAAAAAAAAAAAAAAAAAAAAAAAAAAAAAAAAAAAAAAAAAAAAAAAAAAAAAAAAAAAAAAAAAAAAAAAAAAAAAAAAAAAAAAAAAAAAAAAAAAAAAAAAAAAAAAAAAAAAAAAAAAAAAAAAAAAAAAAAAAAAAAAAAAAAAAAAAAAAAAAAAAAAAAAAAAAAAAAAAAAAAAAAAAAAAAAAAAAAAAAAAAAAAAAAAAAAAAAAAAAAAAAAAAAAAAAAAAAAAAAAAAAAAAAAAAAAAAAAAAAAAAAAAAAAAAAAAAAAAAAAAAAAAAAAAAAAAAAAAAAAAAAAAAAAAAAAAAAAAAAAAAAAAAAAAAAAAAAAAAAAAAAAAAAAAAAAAAAAAAAAAAAAAAAAAAAAAAAAAAAAAAAAAAAAAAAAAAAAAAAAAAAAAAAAAAAAAAAAAAAAAAAAAAAAAAAAAAAAAAAAAAAAAAAAAAAAAAAAAAAAAAAAAAAAAAAAAAAAAAAAAAAAAAAAAAAAAAAAAAAAAAAAAAAAAAAAAAAAAAAAAAAAAAAAAAAAAAAAAAAAAAAAAAAAAAAAAAAAAAAAAAAAAAAAAAAAAAAAAAAAAAAAAAAAAAAAAAAAAAAAAAAAAAAAAAAAAAAAAAAAAAAAAAAAAAAAAAAAAAAAAAAAAAAAAAAAAAAAAAAAAAAAAAAAAAAAAAAAAAAAAAAAAAAAAAAAAAAAAAAAAAAAAAAAAAAAAAAAAAAAAAAAAAAAAAAAAAAAAAAAAAAAAAAAAAAAAAAAAAAAAAAAAAAAAAAAAAAAAAAAAAAAAAAAAAAAAAAAAAAAAAAAAAAAAAAAAAAAAAAAAAAAAAAAAAAAAAAAAAAAAAAAAAAAAAAAAAAAAAAAAAAAAAAAAAAAAAAAAAAAAAAAAAAAAAAAAAAAAAAAAAAAAAAAAAAAAAAAAAAAAAAAAAAAAAAAAAAAAAAAAAAAAAAAAAAAAAAAAAAAAAAAAAAAAAAAAAAAAAAAAAAAAAAAAAAAAAAAAAAAAAAAAAAAAAAAAAAAAAAAAAAAAAAAAAAAAAAAAAAAAAAAAAAAAAAAAAAAAAAAAAAAAAAAAAAAAAAAAAAAAAAAAAAAAAAAAAAAAAAAAAAAAAAAAAAAAAAAAAAAAAAAAAAAAAAAAAAAAAAAAAAAAAAAAAAAAAAAAAAAAAAAAAAAAAAAAAAAAAAAAAAAAAAAAAAAAAAAAAAAAAAAAAAAAAAAAAAAAAAAAAAAAAAAAAAAAAAAAAAAAAAAAAAAAAAAAAAAAAAAAAAAAAAAAAAAAAAAAAAAAAAAAAAAAAAAAAAAAAAAAAAAAAAAAAAAAAAAAAAAAAAAAAAAAAAAAAAAAAAAAAAAAAAAAAAAAAAAAAAAAAAAAAAAAAAAAAAAAAAAAAAAAAAAAAAAAAAAAAAAAAAAAAAAAAAAAAAAAAAAAAAAAAAAAAAAAAAAAAAAAAAAAAAAAAAAAAAAAAAAAAAAAAAAAAAAAAAAAAAAAAAAAAAAAAAAAAAAAAAAAAAAAAAAAAAAAAAAAAAAAAAAAAAAAAAAAAAAAAAAAAAAAAAAAAAAAAAAAAAAAAAAAAAAAAAAAAAAAAAAAAAAAAAAAAAAAAAAAAAAAAAAAAAAAAAAAAAAAAAAAAAAAAAAAAAAAAAAAAAAAAAAAAAAAAAAAAAAAAAAAAAAAAAAAAAAAAAAAAAAAAAAAAAAAAAAAAAAAAAAAAAAAAAAAAAAAAAAAAAAAAAAAAAAAAAAAAAAAAAAAAAAAAAAAAAAAAAAAAAAAAAAAAAAAAAAAAAAAAAAAAAAAAAAAAAAAAAAAAAAAAAAAAAAAAAAAAAAAAAAAAAAAAAAAAAAAAAAAAAAAAAAAAAAAAAAAAAAAAAAAAAAAAAAAAAAAAAAAAAAAAAAAAAAAAAAAAAAAAAAAAAAAAAAAAAAAAAAAAAAAAAAAAAAAAAAAAAAAAAAAAAAAAAAAAAAAAAAAAAAAAAAAAAAAAAAAAAAAAAAAAAAAAAAAAAAAAAAAAAAAAAAAAAAAAAAAAAAAAAAAAAAAAAAAAAAAAAAAAAAAAAAAAAAAAAAAAAAAAAAAAAAAAAAAAAAAAAAAAAAAAAAAAAAAAAAAAAAAAAAAAAAAAAAAAAAAAAAAAAAAAAAAAAAAAAAAAAAAAAAAAAAAAAAAAAAAAAAAAAAAAAAAAAAAAAAAAAAAAAAAAAAAAAAAAAAAAAAAAAAAAAAAAAAAAAAAAAAAAAAAAAAAAAAAAAAAAAAAAAAAAAAAAAAAAAAAAAAAAAAAAAAAAAAAAAAAAAAAAAAAAAAAAAAAAAAAAAAAAAAAAAAAAAAAAAAAAAAAAAAAAAAAAAAAAAAAAAAAAAAAAAAAAAAAAAAAAAAAAAAAAAAAAAAAAAAAAAAAAAAAAAAAAAAAAAAAAAAAAAAAAAAAAAAAAAAAAAAAAAAAAAAAAAAAAAAAAAAAAAAAAAAAAAAAAAAAAAAAAAAAAAAAAAAAAAAAAAAAAAAAAAAAAAAAAAAAAAAAAAAAAAAAAAAAAAAAAAAAAAAAAAAAAAAAAAAAAAAAAAAAAAAAAAAAAAAAAAAAAAAAAAAAAAAAAAAAAAAAAAAAAAAAAAAAAAAAAAAAAAAAAAAAAAAAAAAAAAAAAAAAAAAAAAAAAAAAAAAAAAAAAAAAAAAAAAAAAAAAAAAAAAAAAAAAAAAAAAAAAAAAAAAAAAAAAAAAAAAAAAAAAAAAAAAAAAAAAAAAAAAAAAAAAAAAAAAAAAAAAAAAAAAAAAAAAAAAAAAAAAAAAAAAAAAAAAAAAAAAAAAAAAAAAAAAAAAAAAAAAAAAAAAAAAAAAAAAAAAAAAAAAAAAAAAAAAAAAAAAAAAAAAAAAAAAAAAAAAAAAAAAAAAAAAAAAAAAAAAAAAAAAAAAAAAAAAAAAAAAAAAAAAAAAAAAAAAAAAAAAAAAAAAAAAAAAAAAAAAAAAAAAAAAAAAAAAAAAAAAAAAAAAAAAAAAAAAAAAAAAAAAAAAAAAAAAAAAAAAAAAAAAAAAAAAAAAAAAAAAAAAAAAAAAAAAAAAAAAAAAAAAAAAAAAAAAAAAAAAAAAAAAAAAAAAAAAAAAAAAAAAAAAAAAAAAAAAAAAAAAAAAAAAAAAAAAAAAAAAAAAAAAAAAAAAAAAAAAAAAAAAAAAAAAAAAAAAAAAAAAAAAAAAAAAAAAAAAAAAAAAAAAAAAAAAAAAAAAAAAAAAAAAAAAAAAAAAAAAAAAAAAAAAAAAAAAAAAAAAAAAAAAAAAAAAAAAAAAAAAAAAAAAAAAAAAAAAAAAAAAAAAAAAAAAAAAAAAAAAAAAAAAAAAAAAAAAAAAAAAAAAAAAAAAAAAAAAAAAAAAAAAAAAAAAAAAAAAAAAAAAAAAAAAAAAAAAAAAAAAAAAAAAAAAAAAAAAAAAAAAAAAAAAAAAAAAAAAAAAAAAAAAAAAAAAAAAAAAAAAAAAAAAAAAAAAAAAAAAAAAAAAAAAAAAAAAAAAAAAAAAAAAAAAAAAAAAAAAAAAAAAAAAAAAAAAAAAAAAAAAAAAAAAAAAAAAAAAAAAAAAAAAAAAAAAAAAAAAAAAAAAAAAAAAAAAAAAAAAAAAAAAAAAAAAAAAAAAAAAAAAAAAAAAAAAAAAAAAAAAAAAAAAAAAAAAAAAAAAAAAAAAAAAAAAAAAAAAAAAAAAAAAAAAAAAAAAAAAAAAAAAAAAAAAAAAAAAAAAAAAAAAAAAAAAAAAAAAAAAAAAAAAAAAAAAAAAAAAAAAAAAAAAAAAAAAAAAAAAAAAAAAAAAAAAAAAAAAAAAAAAAAAAAAAAAAAAAAAAAAAAAAAAAAAAAAAAAAAAAAAAAAAAAAAAAAAAAAAAAAAAAAAAAAAAAAAAAAAAAAAAAAAAAAAAAAAAAAAAAAAAAAAAAAAAAAAAAAAAAAAAAAAAAAAAAAAAAAAAAAAAAAAAAAAAAAAAAAAAAAAAAAAAAAAAAAAAAAAAAAAAAAAAAAAAAAAAAAAAAAAAAAAAAAAAAAAAAAAAAAAAAAAAAAAAAAAAAAAAAAAAAAAAAAAAAAAAAAAAAAAAAAAAAAAAAAAAAAAAAAAAAAAAAAAAAAAAAAAAAAAAAAAAAAAAAAAAAAAAAAAAAAAAAAAAAAAAAAAAAAAAAAAAAAAAAAAAAAAAAAAAAAAAAAAAAAAAAAAAAAAAAAAAAAAAAAAAAAAAAAAAAAAAAAAAAAAAAAAAAAAAAAAAAAAAAAAAAAAAAAAAAAAAAAAAAAAAAAAAAAAAAAAAAAAAAAAAAAAAAAAAAAAAAAAAAAAAAAAAAAAAAAAAAAAAAAAAAAAAAAAAAAAAAAAAAAAAAAAAAAAAAAAAAAAAAAAAAAAAAAAAAAAAAAAAAAAAAAAAAAAAAAAAAAAAAAAAAAAAAAAAAAAAAAAAAAAAAAAAAAAAAAAAAAAAAAAAAAAAAAAAAAAAAAAAAAAAAAAAAAAAAAAAAAAAAAAAAAAAAAAAAAAAAAAAAAAAAAAAAAAAAAAAAAAAAAAAAAAAAAAAAAAAAAAAAAAAAAAAAAAAAAAAAAAAAAAAAAAAAAAAAAAAAAAAAAAAAAAAAAAAAAAAAAAAAAAAAAAAAAAAAAAAAAAAAAAAAAAAAAAAAAAAAAAAAAAAAAAAAAAAAAAAAAAAAAAAAAAAAAAAAAAAAAAAAAAAAAAAAAAAAAAAAAAAAAAAAAAAAAAAAAAAAAAAAAAAAAAAAAAAAAAAAAAAAAAAAAAAAAAAAAAAAAAAAAAAAAAAAAAAAAAAAAAAAAAAAAAAAAAAAAAAAAAAAAAAAAAAAAAAAAAAAAAAAAAAAAAAAAAAAAAAAAAAAAAAAAAAAAAAAAAAAAAAAAAAAAAAAAAAAAAAAAAAAAAAAAAAAAAAAAAAAAAAAAAAAAAAAAAAAAAAAAAAAAAAAAAAAAAAAAAAAAAAAAAAAAAAAAAAAAAAAAAAAAAAAAAAAAAAAAAAAAAAAAAAAAAAAAAAAAAAAAAAAAAAAAAAAAAAAAAAAAAAAAAAAAAAAAAAAAAAAAAAAAAAAAAAAAAAAAAAAAAAAAAAAAAAAAAAAAAAAAAAAAAAAAAAAAAAAAAAAAAAAAAAAAAAAAAAAAAAAAAAAAAAAAAAAAAAAAAAAAAAAAAAAAAAAAAAAAAAAAAAAAAAAAAAAAAAAAAAAAAAAAAAAAAAAAAAAAAAAAAAAAAAAAAAAAAAAAAAAAAAAAAAAAAAAAAAAAAAAAAAAAAAAAAAAAAAAAAAAAAAAAAAAAAAAAAAAAAAAAAAAAAAAAAAAAAAAAAAAAAAAAAAAAAAAAAAAAAAAAAAAAAAAAAAAAAAAAAAAAAAAAAAAAAAAAAAAAAAAAAAAAAAAAAAAAAAAAAAAAAAAAAAAAAAAAAAAAAAAAAAAAAAAAAAAAAAAAAAAAAAAAAAAAAAAAAAAAAAAAAAAAAAAAAAAAAAAAAAAAAAAAAAAAAAAAAAAAAAAAAAAAAAAAAAAAAAAAAAAAAAAAAAAAAAAAAAAAAAAAAAAAAAAAAAAAAAAAAAAAAAAAAAAAAAAAAAAAAAAAAAAAAAAAAAAAAAAAAAAAAAAAAAAAAAAAAAAAAAAAAAAAAAAAAAAAAAAAAAAAAAAAAAAAAAAAAAAAAAAAAAAAAAAAAAAAAAAAAAAAAAAAAAAAAAAAAAAAAAAAAAAAAAAAAAAAAAAAAAAAAAAAAAAAAAAAAAAAAAAAAAAAAAAAAAAAAAAAAAAAAAAAAAAAAAAAAAAAAAAAAAAAAAAAAAAAAAAAAAAAAAAAAAAAAAAAAAAAAAAAAAAAAAAAAAAAAAAAAAAAAAAAAAAAAAAAAAAAAAAAAAAAAAAAAAAAAAAAAAAAAAAAAAAAAAAAAAAAAAAAAAAAAAAAAAAAAAAAAAAAAAAAAAAAAAAAAAAAAAAAAAAAAAAAAAAAAAAAAAAAAAAAAAAAAAAAAAAAAAAAAAAAAAAAAAAAAAAAAAAAAAAAAAAAAAAAAAAAAAAAAAAAAAAAAAAAAAAAAAAAAAAAAAAAAAAAAAAAAAAAAAAAAAAAAAAAAAAAAAAAAAAAAAAAAAAAAAAAAAAAAAAAAAAAAAAAAAAAAAAAAAAAAAAAAAAAAAAAAAAAAAAAAAAAAAAAAAAAAAAAAAAAAAAAAAAAAAAAAAAAAAAAAAAAAAAAAAAAAAAAAAAAAAAAAAAAAAAAAAAAAAAAAAAAAAAAAAAAAAAAAAAAAAAAAAAAAAAAAAAAAAAAAAAAAAAAAAAAAAAAAAAAAAAAAAAAAAAAAAAAAAAAAAAAAAAAAAAAAAAAAAAAAAAAAAAAAAAAAAAAAAAAAAAAAAAAAAAAAAAAAAAAAAAAAAAAAAAAAAAAAAAAAAAAAAAAAAAAAAAAAAAAAAAAAAAAAAAAAAAAAAAAAAAAAAAAAAAAAAAAAAAAAAAAAAAAAAAAAAAAAAAAAAAAAAAAAAAAAAAAAAAAAAAAAAAAAAAAAAAAAAAAAAAAAAAAAAAAAAAAAAAAAAAAAAAAAAAAAAAAAAAAAAAAAAAAAAAAAAAAAAAAAAAAAAAAAAAAAAAAAAAAAAAAAAAAAAAAAAAAAAAAAAAAAAAAAAAAAAAAAAAAAAAAAAAAAAAAAAAAAAAAAAAAAAAAAAAAAAAAAAAAAAAAAAAAAAAAAAAAAAAAAAAAAAAAAAAAAAAAAAAAAAAAAAAAAAAAAAAAAAAAAAAAAAAAAAAAAAAAAAAAAAAAAAAAAAAAAAAAAAAAAAAAAAAAAAAAAAAAAAAAAAAAAAAAAAAAAAAAAAAAAAAAAAAAAAAAAAAAAAAAAAAAAAAAAAAAAAAAAAAAAAAAAAAAAAAAAAAAAAAAAAAAAAAAAAAAAAAAAAAAAAAAAAAAAAAAAAAAAAAAAAAAAAAAAAAAAAAAAAAAAAAAAAAAAAAAAAAAAAAAAAAAAAAAAAAAAAAAAAAAAAAAAAAAAAAAAAAAAAAAAAAAAAAAAAAAAAAAAAAAAAAAAAAAAAAAAAAAAAAAAAAAAAAAAAAAAAAAAAAAAAAAAAAAAAAAAAAAAAAAAAAAAAAAAAAAAAAAAAAAAAAAAAAAAAAAAAAAAAAAAAAAAAAAAAAAAAAAAAAAAAAAAAAAAAAAAAAAAAAAAAAAAAAAAAAAAAAAAAAAAAAAAAAAAAAAAAAAAAAAAAAAAAAAAAAAAAAAAAAAAAAAAAAAAAAAAAAAAAAAAAAAAAAAAAAAAAAAAAAAAAAAAAAAAAAAAAAAAAAAAAAAAAAAAAAAAAAAAAAAAAAAAAAAAAAAAAAAAAAAAAAAAAAAAAAAAAAAAAAAAAAAAAAAAAAAAAAAAAAAAAAAAAAAAAAAAAAAAAAAAAAAAAAAAAAAAAAAAAAAAAAAAAAAAAAAAAAAAAAAAAAAAAAAAAAAAAAAAAAAAAAAAAAAAAAAAAAAAAAAAAAAAAAAAAAAAAAAAAAAAAAAAAAAAAAAAAAAAAAAAAAAAAAAAAAAAAAAAAAAAAAAAAAAAAAAAAAAAAAAAAAAAAAAAAAAAAAAAAAAAAAAAAAAAAAAAAAAAAAAAAAAAAAAAAAAAAAAAAAAAAAAAAAAAAAAAAAAAAAAAAAAAAAAAAAAAAAAAAAAAAAAAAAAAAAAAAAAAAAAAAAAAAAAAAAAAAAAAAAAAAAAAAAAAAAAAAAAAAAAAAAAAAAAAAAAAAAAAAAAAAAAAAAAAAAAAAAAAAAAAAAAAAAAAAAAAAAAAAAAAAAAAAAAAAAAAAAAAAAAAAAAAAAAAAAAAAAAAAAAAAAAAAAAAAAAAAAAAAAAAAAAAAAAAAAAAAAAAAAAAAAAAAAAAAAAAAAAAAAAAAAAAAAAAAAAAAAAAAAAAAAAAAAAAAAAAAAAAAAAAAAAAAAAAAAAAAAAAAAAAAAAAAAAAAAAAAAAAAAAAAAAAAAAAAAAAAAAAAAAAAAAAAAAAAAAAAAAAAAAAAAAAAAAAAAAAAAAAAAAAAAAAAAAAAAAAAAAAAAAAAAAAAAAAAAAAAAAAAAAAAAAAAAAAAAAAAAAAAAAAAAAAAAAAAAAAAAAAAAAAAAAAAAAAAAAAAAAAAAAAAAAAAAAAAAAAAAAAAAAAAAAAAAAAAAAAAAAAAAAAAAAAAAAAAAAAAAAAAAAAAAAAAAAAAAAAAAAAAAAAAAAAAAAAAAAAAAAA=\" type=\"audio/wav\" />\n",
       "                    Your browser does not support the audio element.\n",
       "                </audio>\n",
       "              "
      ],
      "text/plain": [
       "<IPython.lib.display.Audio object>"
      ]
     },
     "execution_count": 78,
     "metadata": {},
     "output_type": "execute_result"
    }
   ],
   "source": [
    "sr=8000\n",
    "y=librosa.istft(Spec_decoded)\n",
    "audio_path_record=\"C:\\\\Users\\\\joaro\\\\OneDrive\\\\Documents\\\\deep_learning_jupiter\\\\free_spoken_digit_dataset\\\\\"\n",
    "audio_path_record_out=os.path.join(audio_path_record,\"0_jackson_0_reconstructed.wav\")\n",
    "soundfile.write(audio_path_record_out,y,sr)\n",
    "ipd.Audio(audio_path_record_out)\n"
   ]
  },
  {
   "cell_type": "code",
   "execution_count": 79,
   "metadata": {},
   "outputs": [
    {
     "data": {
      "text/html": [
       "\n",
       "                <audio  controls=\"controls\" >\n",
       "                    <source src=\"data:audio/wav;base64,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\" type=\"audio/wav\" />\n",
       "                    Your browser does not support the audio element.\n",
       "                </audio>\n",
       "              "
      ],
      "text/plain": [
       "<IPython.lib.display.Audio object>"
      ]
     },
     "execution_count": 79,
     "metadata": {},
     "output_type": "execute_result"
    }
   ],
   "source": [
    "\n",
    "xtest=librosa.istft(Spec_test)\n",
    "audio_path_record_in=os.path.join(audio_path_record,\"0_jackson_0_normal.wav\")\n",
    "soundfile.write(audio_path_record_in,xtest,sr)\n",
    "ipd.Audio(audio_path_record_in)\n"
   ]
  },
  {
   "cell_type": "code",
   "execution_count": 51,
   "metadata": {},
   "outputs": [
    {
     "data": {
      "text/html": [
       "\n",
       "                <audio  controls=\"controls\" >\n",
       "                    <source src=\"data:audio/wav;base64,UklGRgY8AABXQVZFZm10IBAAAAABAAEAQB8AAIA+AAACABAAZGF0YeI7AAA4AOQA//+mANz/DwDV/7L/BgCn/2QAyv9NAM3/BgDa/9n/JgDo/ysADAD//xAAuf9JALf/TwDC/zYA0v8DAAMAv/9AANb/ZAC1/0MAtf9NAJb/LADS/xkA9f/0/1UA1/9GAKL/MACw/w4Ay/9NANn/OQDA/14A2v/x/zwApP+VAEb/rQBP/24Anf8kABQApv+CAHb/rAB//2UAm/9OAMT//P8UAO//RQDS/z8Alf8jAMH/IQAZABkAGgDj/xkA1/8EAOv/BgDz/wcA6v/8/+z/HgAhAN//QACv/2AAqP8aAOb/9v84AJz/eQCv/04Ar/8MAAEACQDZ/x4AKgDp/wwAwP9VAL7/VgCj/xYAyv8GABYA4/9UANb/HADS/w0AFwD6//v/8/8MACEAwP/9/+r/EQAWABAAJADl/wwA3//i/x0A3/8bAMD/UQDx/+T/DADG/zAA+f8aANf/MQD+//v/4/8hAOD/KwDH/zUA8v/9/+j/xv8rAL3/VwDW/3kAt/9JAMj/GADc/8n/IADI/zIA1/9GAPD/9v/L/+v/CABAAOv/SADe/xsAzf/4/wwAx/8fAAAAJwDO/yAA1P8iAMX/PwAWAPz/EgDj/wwApP8iALj/NwDo/zMACAAAAAYA0/9iALL/TQDh/0EAqv/q/wIA2/8ZAOz/IwDX/yYAx/8HAB8AMwDh/wsA/v8BAN3/CwDy/+3/7P/3/x8AAgAeAPD/KQDt//3/9v8AAO//AgDh/xIAAAD9/yIA+P/1//L/DgA9AM3/HwDq/wIACwCw/wMAx/9UAOv/EAALAOX/+P/r////CQAGABgAGwAZACUA1P8BAM7/8f8RAOr/FQDN/zcAAgDd/wQA+f86ANT/RgDd/+v/1//p/xgACwAdACAA9P/P/+j/6f8TABEALwABAPf/BgAEAPX/BADV//X/zf8XABYASQABAOv/0v/l/+b/HQBCAMX/UQCr/0wA1v8dAO7/yf9hAKb/WACY/wcAy/84AB0A+/80ALb/FwCw/0QAsv9/ANL/IgDv//n/CACS/0kA/f9CAMv/BADP/ykA/P8cAPf/KwDM/w8A7//v/xAA0/8nALH/PgDd/zQA9P8HAA0A3/8bANP/AgDy//X/JwAAAAoA6P8AACAA8/8SAPf/BAAHAPn/5P/0//b/7/8iACoA/P/b/wEA3/8ZAAoA+P8AAOr/AgDS/xgADAAZABsAIQDt/+f/0//8/wYA+f8YANT/DwDb/x8ADgAWAF0AvP8EANj/AwAFAO3/FADw/8b/9P/n/xAAaQDh/1YAev8ZAND/LwBYAND/VQCT/xQAuf/r/xAAAwAwAAkABAAHAOj/6v8JAN7/QQDW/xEA7/8TAAcAx/9bAJX/WAC+/yIA1P8QACQAyf9KAN7/IQCl/1oAu/8+ALr/7//8/+//OQD4/z0A8/86AMj/LACn/ysA1/8+AMD/w/8wALz/SgCn/24Arv86AAsAHQAIAOT/GADH/zEAuv8tANr/JwDU/xUABgD5/xcA7v/p//L/EwDb/x8A4P9HALv/LQD8/xMABwDO/zsAtv88AOf/FwAAAPv/HQCR/xYA0/8JABoA6f9vAMv/KADO//H/8f/t/0AA1/88AOL/EgAUAN3/6P/u////DQD6/zoAx/8UABsA6f81ANb/8v/V/x4A7f/S/w0ACgABABcA+P8RAN//KgDx/xAAAgAPANr/5v8uAOn/cwCI/zQAlv8xAPb/7P8lAMj/VwDX/yoAxv9AAN3/HwC6/wIAAAAEADAA7/8gAK3/EgDG/yAAPQD5/8//HgDP/z8A9/8OAAYAxv9UAIH/QgCi/1cAKwASAD8AhP85AI7/PwDB/xEAHQDv/woA+f9NAMH/DgDV/wkAHgAMAOH/CgARAOn/zv9WALn/yv9MAOH/TgDE/0cApP8/AAUAy/8bAOD/OgC4/0oAsP8yALn/UgDa/wgACADj/3cASv9PAJL/kgDX/xIAKAC4/ysArf9YALv/YADa/zYAo/8VAOD/sP9FAN//VQC4/4sAt//+/+X/CQA2ALr/+P/i/0YA1v87ANr/0//e/zgABADt/0AA5v8hAJX/JgDn/1YA9//p//H/AgD//6T/XQABAEIA0f8VAJP/EwAOAP//GgAfAAIAvv8nAPD/DADE/ywA1/9YALT/IwAGABkAKwDD/xkAjf9OAIL/KwDh/1gADwD8/w0Axv8nACgA+f8hADwAbf8kAJv/iwBE/34A4/8HADQAyP8vAH7/pgCN/2UAzv9YAKr/BQDa/9X/KgD5/00AxP9jAJr/AgDD/xoALwDu//X/BAAwAAgA4/8GAAgAwf8WAL3/TwDA/0sAEwDc/xEA2f8TAKz/UAAcABQA4f/0/5v/NgADAFAA0v/y/9f/CABVAHD/eAC0/4IAsv8PAPP/DQAmAIb/EAAAAFAA0/8SAO//AQDg/zMAAQD6//T/5f8pAPL////0/83/5P/g/wIARgBVAAYA7P/9/wQA6/8PALX/5v8SAOT/VACf/2YA5/9OAAsA3P8VAMD/FgCh/y0ApP85APj/AQAVACsA6f/d/2MAuP8UAO7/MQDE/zAAPgDk//L/hP/x/8n/RwD5/w0AFwAIABcAWQAVAOn/0f/o/9//1v8PAPT/JgDD/1EAtf8zAPb/HgDB/xkAYwC1/yoAGwDo/+r/GACV//P/0P9zAIn/fADX/+n/QgDa/10AW//OAFD/PQDi//v/EAAUAIEALP85APz/3P8MAC0Ar/9+AMf/TAA8/5UAuv/0/2cAjf+KAHv/qwAB/3YAyv9GAP7/BwD+/+j/SACv/+X/1P80ANv/cAD3//z/NgDT/9P/LQD0/yAAr/8LAID/KAD6/w0ABQA0AEsABABEAKb/PQBi/y0A1P/o//L/2P+VAIX/ZgDj/+b/QwDy/2UAz/8tAAQAhv9UAJb/x/81AIT/WQDQ/5UA5P/h/0UAvf9oANr/yP/a/0kAx/+a/zAAZwDR/xMACgCN/2wABwA9AIz/NwAkAI3/oQBr/zkApP8lAAoA0f99AIf/HgBIAPf/1P8JABQA4v+p/2kAzP8tACUAmf81AOf/fACA/yAAMwCf/0gACwCZ/1UAGQACAJf/BAD9/83/mwCI/+b/FwDWACn/YwDC/ysAf/9uANP/qf/iAIT/HgC//5QA4P4OAZr/FgDG/3sAWwAi//EAxv6QANT/2P86AH3/GAH7/tcAhP+a/7gApf+OAAb/HAEu/1IA3v+//yMA6v94AEL/pwDR/9v/BQB1AOH/2P8VAK//vv+yAHf/AgAnALD/EADc/2AA5v9KAIEAz//A/2YAu/+o/8b/mwAH/x4AxQD7/3AAogBoAID/wwDB/9n+Mv8k/5H+H/+F/6H/WQBUAU0BEAF7Ad4AWAB/AMn/BP9o/xf/df5W/ygAdf9kAPUAggBtAaABCAB7/6b+qP2z/dn+lP8uAB4CegQmByMGUAJZ/s39Gv2p+Uz1vPOl+F3/eQKCAp4ETgluDeMLagUqAPz/JwDJ/Pf3rPRD9iP7sP0U/Ez9IwIsBxkKkghABX0EZgXiAgj9ofjW97b4dPpS+uD6Af5GAzEGFgYGBpEFRwbvBIIBBf3E++j7fPtR+vT5XPsQ/lUAAgBUAGwBdgQcBokFOgMiBp8IuQsTBVH43PbJ9zP6JfG46iXtmPsbCE4IoQZ5Cx8W8RiHEJQAA/zz/MX8M/I461HqHPO5/gf+mfuHAFINABMmE6AMYQfzB3oHA/1Q8fTtLO8S8VT02/YZ/FwGSw7yDw8OhA3sCuQG2AD++b31vfWS9cLzTPW/+o3+cgH/AksE2AWfCSEJZwelBLoFjgUzCDkJivXS8s3y0flf9WPqd+mQ9owKoQzoCkUKDReyHPcWSACg9/X4P/vK8dvmaecW7tr/hwGt/ogAuQ/1F8QWUg87B/IEkwY9/Dnsiund7eDxP/LZ9rn7/QcmEmQU7BD4EBMP/gaq/m72HvEE7zjxnvBS9En6SgHGBJMHKwrLC2QL4QmnB5QFSQXjCxYG5O+f7uLxDfmS74vj8+YM/xUT3g+tDOoRcSFnIIEPQvSf8I34gvYo51biX+kc988IwAM1//kJTBqaGXcRUQjOAUMFqADB7TPlTO0C9czzoPWY+gIGGRLMEZ8Nag4mEp8MbAFH9QzyhvNg8+vvw+8w970A4gbyBhwHXQr+DeALHgRT/6f9X/5b+1750fq3CrEIhvfk+Mz7tQU5+PLplOl4AHgN8Ag1Az0Ihht6HdILHfAK9zv/TvtT6lPlAOuM/QcLZ/40/Q8MxRnLE2UO0wKS/xgF4QB07TTosfJ79iP30ve8/MkGDRNzEBkMJQy7CzYFlv0y9mbzkPVt9n311fSd+mYBSwbOBcoGuge4CdAFzwLu/on8Lfx3/wYAXwtkEJr46/f8+N0BDvcH5YPi4ve8Da0HVwWJCo4h4iQJFHD1tfbeAZb36+Eg3ZHpe/UJBxz/hv7qD8YgZhiBDg8LYwUkBHH+H+uk4YXuv/Pk8Mj2ff4TBtIUbhe9ELkNqg35BK3+e/dq7zrvy/Pu9er09fg6/zoHMwreCOoHiQpCChYEYP3d94T6X/3X/1cAuxCuCFv5L/wK+g//WO5q5Pnl/AEfDOQI6wmXFQ8lgx04CFvwo/wi++Hp89pe5gnuNv33CNL/5ghnHP0gNhBqDkAGVP/z+43xYuKA6LHz0/D19NX/aQq3FFIclhNED1gL1/+t9Cfy5e+a7JXxevqlAPsAeQMOCbcN3wtkASP9AwQWBcX7wPP19Jj8SQFw/iQDcAzXHC8NyvsH+xf/Uv6u3iLV8uRyAl4EqgSnDiclXjI+IIEEFfhX/urwP+CK0g3gh/LdAXwAfwICGBEk+h86EUEKRwYaBPP0kOPQ4SXsOPGp8IrzdQM/FF8aOxd8FYATcwrrAFnz7esM6VPrte1b93z/ygUtDhQTBhBvBiQDOAAp/R32rfOv9vT8ZABN/4D+zgLrDa8UcBVYC5f7Gv32+YDvnd/y1fHj5Pi6BZML5RkNK5I11yWHCTz2I/Xw6JbUec+S3m3vhPwoCi0PQB0ZKMEhKBGJEJQJDflY6vXj8eGy5JnrTu15+RQJZhaNGNIb6BkaGOQRUAEF8/7o9ee14mjkze1m+90DHAu1Ew4bOBpsDjAEcf74+Kfw3O/h8Xz0pfpYACoCgwNYBj8LQw6xFLURNAjE9pb1SPdN7OLchNkD8MYFwBDPC48avSpAK7EROvvk8JjvpOkt2m3cG+3p/sECvwuAE00ewB8LFxILcgZY/jXuHuUj4zrneO0a96X9igf+E6EYBBSHFBsTrwfD+mj2nfPe8LHqV+Zm70IAEQa0/9AGuRWZGiUNMwTRArIEy/4q8jfu8vPP+3/5wfQh+dgGBQnpAqgDXQynEQcTtQqZALUAj/6m8d7lY+IW49rvkvzkASEMCB6nJVci3BUNB0T+5fTB5UfeDOYh7oj1tv2VBkwNLxRjEvoQPhEUDCUBB/jP9eHxS+/P7uz07fky/v7+9AOzDCEQjwwXCn8MtgkhAhj6xvPY7Q/v2fGJ8rn2wQD/Cn4QEBCRD6sQNgxZAov6rPJA8IDzkvOT9Ij5g/+GBBQGbgW1CSQQFhQfDcMIigNH+s7yqOi/4AfkaO6a9gwDzRB6HMkikCJBFCMIjwCG88XmI+GN4xrqxPaA/IUDixDGGv8Wdg8sDm4K8wIt97Tuce5u8dTwsvAJ9lH+YgdUDGwOtw8HEqcQNAo1BAD2LO9D73vuOO1F70r6uAeMDx4PEBC4ETUPaQMl+IrzIPa193jzNPPN/OYE6ADr/5oG3QpoCvYM3QprBmoCTP3X91zv1ue05kzxO/tGAsYLExYSGq4ZsxJnB5X90PQ/64Dm1+3r8on2vf1eCRQPlQ+HDGYLag3SCCP9QvTS9Q71APFy8Bf4YgAFBtsGewcWC+INygq5A9UAmQHW/tX17u888Yv3o/ne+Uz/sArgECMQ8wxzCGICufqp9Tfx/PFm9cP6PQHgBtoG1wPrCAgKCwcABrgIuADQ+OT9UvqQ8b/pV+wG9VcAMATKB88URhtfFr4NLAeo/C31de3M6Dzse/Ja9kP+sgvwDaIK/wzKEJgM3gMq/PH4IfuF9+buTvBH/LUCxv23/BAGaQ3PC2cFbgRYB6kJYwHQ9Hf0zfkb+Sv0dvYw/EADagkRCkAFPwXRCJUEcfwo+vb7G/0K/lX7J/yyAGcD9f///xEEIgjWCaEAcvuwAFQDsPZi7kP1rPt//cL/SAWFC2sPqQpnBdEEhwF2+Zv2SvnA+HX1R/ZE/3MHKQR6/Y4FtA6ECSkBIgJ/Aw3+L/gZ9Bj3cPwB/b37IwEuByYGHgS6BLUE9gJdA8gBKf7M+qD7Ev02+gz4jvkl/sECGgZfAwICqAeKCRsCSv5TAbz+1vlu+k77yPp6/pUA4P/uAc0EUQNABcMFJgF7/64C+P+O91/4hvxw/AL61/7cAysFkgP0AhgEQAR1ASX9Hv7T/xYAMvwZ/I//owFNAL/93v9zApQDpAHT/6b/jwAoAW7+ZvyA/Yf/4P9gAGIAMQDPAfYCIAGQ/hIAcwLEAKz9CP4+/xX+uvzF/SwAGQPIA+QB2QKVA6f/OfyR/Qb9SfuV/cUAWAI6A28DlwJoAyEBd/3U/b3/uv1i/Pb+QP9p/rX/NAGaAJADiAUNA+P/6/5e/0X9tvq/+mv/dwKtAML+IgF3BEQDLwCf/+wCXAP3/xL9b/17/er7FfzU/Yf//v8FAxEGRASXAPQBzQLp/gj8w/1M/63+jv79/Y3+GABnALj+6gCZBMwCiQCQAuYCj/8H/UT9rf0O/UT8i/3BAD4CMQLQAusDyQOJAqD/cP1i/gL+SPvq+97/FQEw/w4A1AJBBG0CBgHXAO0A9f5o/Tj+I/4c/UD9qf87Af4BMwHTAVADJwN0AEj/BQAEAIH+tfwM/Rn/Nv/r/DD+mQLIA/gANQDAAWUDEwIY/xz/YAHO/w/9CP4e/rD85f1uAIoA8ADGASYCzQJTAgkAXP89AIX/0v4M/0/+jP4TAGH/xP4BAMcAFADTABYCRQKRAawA1P8B/+z+mP2Y/O/98gBwAWoAfQH/AsIBXP8NAHsAk/7G/Mr+vgCr/+f+tv90ATkBMgCH/0wB+AE3AJEAaQGe/xX9Yf4E/yT+Ff76/noAzgHWASUB1QLNAqgA9f8XAIP+qf0B/sv9j/6E//v/YQDsABUBAQK2Ae7/OACoAU0A2f6H/0n/gv2e/WH/dP9v/60AKQJVAoMC7AGuAN7/mv+H/ib9F/1f/lP/sv/EAJ0BTwIQAj0BmADdAA8Akv5B/kb/Bv8Q/nX+Vf+v/yYAfwH4AZcBxwGwAgsCtv/M/e79GP44/X/8Ef5+AJwCrgLBAcsC/gKbAGz+C//B/hP+O/4U/5X//f+2/6//ZAHZAQAANf+sARUCm/9I/osAUwHO/pz9Rv8EAL3+5f5nALkBmQFvAUABxwA8AKr/Uf5C/UT+/P/9AOAAOwCWAEcCcQHh/XX9jQBXAej+Xf6SANYBcgC9/kL/LABzAFgA2/8EABgB/wBc/xX/t//p/7H/n/91/7f/CAEQAWT/H/+7AGMBawBU/6z/aAAZADr/E/81/9X/jQAKANj/6AA3AREAzP/D/2j/RP+q/7//YgDvAPT/gP/MAA8B4v6//nAAjAAu/97/TwEQAX3/T/9QADIAG//A/mQAAwH1/2j/MABLAEsACQAt/17/xwARAZb/S/9XAKkAvP9v/+v/SwA8AAUALQAUAMP/zv/e/2//Uf/H/2YAkAABAMP/UwA1AfMA3P8fAB8BEwA+/qD+4v9O/0X+ZP/pAKIA2f+vANgBtgBL/w4AQwE8AO/+Yv8QAML/HP9X//r/RQDG//H/0AAeAWYA5/8xAEkApP/F/gr/MQCkAJn/Nf9FACYBnAC+/6H/TwDZAB8AIv83/9b/0f+a/6v/8P8qAJEA5gDEAEsALQCFABAARf///jv/Ov8J/4D/CABMALcAdwGLAQcBzABnAPf/Yf9x/uv9h/4z/yr/cf/SAKoBWQEqAQoBtwBGAM7/N/9F/2v/Xv9//6D/uv+w//r/SwA2ADkADAFdAWcAp//2/1AAQv8d/rD+JQBnAKX/0v9kARACmAAb/7f/0wALALP+8v4mADgAlv9z/8b/LgB3AF8AHQBYAMYAfADP/6z/wf+Y/2j/a//N/5AAeACN/9H/AAEMAf3/if8dAGYApf+k/u3+FABIAKv/pP96AO8AwQBiACwAagCJAOP/H/8H/5L/5v9z/0H/DwD2ALcAGwA6AHsATwDg/4n/U/+7/4AAWQCJ/33/XAABAV4Aof6R/iEAgQG8AFX+yv6aAcsCdADh/dH+MAHgALP+9/2t/88BYwEm//L+wgDxAIz/+v4EAIIABwC//zoAtAALAFX/2P+eAPz/C/97/5AAfgDK/wUAiwAaAKr/vv/i/+7/3P/z/ykAawA2ALz/rf8TAEwA5f+E/7r/SABfAEMAJwDv/xwAWACX//L+BQCOAMX/h/84AH4ATgAbANj/GABFANL/TP+v/0gAJgDO//D/JgAuACMA3P/N/+r/DgArAB8AVwCgAFoA3f+x/9H/fv++/uL+l/9OAJwAcwC9AGUBWAFOAKr/tv+Z/xj/6P7+/uH+cv9yAO8AAgEkAfIAsgDuAEkAVP5f/ev+lQAQAJX+Sf/RAe8CNgHR/jP/UAFGAQf+afxt/6ACiwHQ/tL+owCEAS4AQP63/gIBdwGc/xP/pgBaAVYAYv+N/y4A1f/G/qz+4P/CACgAov+WAK4BWQEtAGX/hv8MALz/WP5M/vn/+gB3AKb/SgCTAVIBgf/o/msA3gBJ/2X+Rf+QAK8Alf82/3cALQEiADL/+/8aAb8AkP8///H/KQB6/+z+Z/81AJMAcwBHAKYATAH5AIn/xv4q/9H/h/+M/qr+PwB9ATMBVwBtAHYBXAGV/xT+4f5pABkA0/7u/msA7wBWAG//d/8QALYA3QA+AAwAagCgADEAdf/u/kb/wv/N/y//TP81APsA7QBRACgAzQAtASIAiv9w/4b/Xf/e/gP/6v+tAAAAr/91ABgBuAAeADwAFgAlAM//f/80/4//pv/i/xYADgBTAIIAygAXAN7/qv85AOD/zP9f/5n/RwBhAP//W/8fAKkAcQCq/zoAWwAnAFz/nf/U/xgAtf/h/yEATADV//r/cgBzAOj/Mv+eAFIAcQDs/pH/0/9sAPr/Dv8aAGwAvwBhAAMA6f9HAGMAEADT/qv/GAAaAHD/Uv9SALIAQACl/zUAqABmACMAQ/8zAAkAhP/n/3b/jwCh/woAAgA4AFwAiv8vAPT/oADz/6T/+/8dAOn/2f9u/8n/jQDw/3EAif91AAAA2/8vAG//tgAiAL//lf/g/4UAeP9//9j/pgDbAG7/NQBeADQA9//v/rD/YwD8/9T/gP/lAG4Auf8BAMz/aADw/9T/ef8FAM4AFgB9/2v/3P/YAMv/M/9j/6sANwH6//n/OwDFANj/Hf8i/87/IwC+/8L/gACVAPz/u/9LAPsA2P+J/yH/lABJADT/gf/8/+kA+f+g/7n/XwBBANv/4/+OAAUAqAB2/5v/QADN/+r/sf54ABIAMQDV/yQAvgBbAAEAzf8GAAgA6f9k/xcAcv+cANz/2/8qAIf/3wCZ/3QAwv8nAFoAbf8XAGf/RgCY/x8AKACbACAA0v8JAN3/DwCK/10An/8eAB8AGADk//z/7/8DAAoA4P9mAPf/ZACV/6v/7//l/wkAn/8FAG8AFQAMABEAWAA/AJz/IADT/7z/qf/h/yYAVAAdAJ7/7/9LACUA5/8WAFwAVABf/zgA9P/L/8T/bP8gAL7/hwCs//z/lABiADsACgAlAOv/ov/A/6v/f/84AJv/gACE/9MAKwD0/5QAL//jAIX/QQDN/5L/MgBW/2IAaf/i/1MAQgBcAAUAowANAMX/x//V/8v/7f9u/zIA8/8VAMb/HgCUAPj/hwDQ/1IAvP8BALf/o//8/8T/LwCi/1QA8v8iAD8A8f/+/w4AjQCP/wkAAAAvAJP/xv+3/+H/DADW/2cAMwBsAMP/aQDj/24Alf/T/+D/rf8XAHH/JADg/6EAwP/1/ycAagA+ALj/KgDu/1MAl/+r/8T/4//7/woALgAfABYASADT//X/FgDK/wgAtP8sAN3/6/8jAPr/awAgAMT/AwDv/zkA1v/7/wAA4v/Y/6P/+P8jAEYA5P8AAGAATgDf/+//wf/g/z8Arf8VANX/MgAdALn/HADv/2YAxP/u/8n/FwD4/0kA9f+2/0IA8f9DAKj/MAAYAL3/7P+J/2MAJAAkAAUAxP9QAKv/MQCx/yEAJQAbAN3/2P8OAO7/MgDk/xAA2/8sAMH/JADf/xsAAwDx/0oA4P8hANL/KQDF/9f/MwDk/0IAi/81AAAACAADAO3/WQCC/xIAtf9cAMX/EwA2AOb/UAC7/ykAy/9AAA4AAwABAHb/IQATACgA7P8GAN7/vf89AP3/CAAoAOz/1P/7/w4A7f/n/2sAGAAkAL3/2//p//b/MwDR//r/+v8eAOr/4f8CAEEATgD//+r/vf/S/9z/FAA8AL//HAAHAPT/5f9LAPT/6//8/wgAIwDE/z8Atv9sAPH/1v/W/9j/HQDE/zAAzf8yAFIAEQDj//T/zf/d/zcAAAAMAA8APgDa/9v//P/j/wEAAQAaAMv/BgDx/xsAFwDs/xsA9v8cAPf/yv/c/w8A//8CAA4AHQA9AOP/y//J/zUAOgDI/+v/AQAwAMr//v/9/wUAQgDa/xQAAwDc/9j/+v83AA0AFgAnAB0Axv/L//j/5//r//L/JADO//j///9GAOX/BAAwAPX/FwDm/x0Ax/8eAPD/1v8FABgAFQAQAOn/EwDz//r/NADu//j/tf8WAOb/BAAfAP7/+v/n/+f/+P8GAC0AGQDh/zgAEAAnALj/BQDJ/+z/HwCx/zMA+v8HANj/LADw/w0ARgA0ANb/4P/v/8L/KgDZ/zEA6P8eAAQAAQDh/7f/NAAtABoAxv8jACkA4f/X/+L/8v/l/+3/9f9VACcAKQABANj/w//u/yYA/P/9/9n/XwDs//b/FgAEANL/xf/6/+//6P8dADcAFwAaAPH/BADS/xAA/f/2//f/8v9lAOf/0//6/7//AwAXAFwA3P/o/xoA0P/x/9T/KgAXACUACgC+/yIA3/8PAAkA7P8MAOH/BQAkABAA6f8GAAEAAQAHAAAA2//4//j/BwDi//7/EgALADcA4P/6/wUAFADY/9X/OwD0/x0A1P8pAOf/uv8dAOv/OwDO/zcA8v8RABEA6/8VAPD/9v/E/wkA3P8KAEEASwC7/9f/HgD0/+//5f8mAP7/FwDT/woALAAFAMr/vv9BAFAACQDl//L/0f/m//X/IADp/xwAFQDa//7/+/8PAAIAIwAIAOf/7v/V/+z/9P9RAP//EQASAP7/AADu/xoAqP/+/wwALwDC//r/PgD7/9H/3f8kAPT/HAD2/xEADgAMAPj/7v/3/wMA8//l/yQA/v/h//L/AAALACsACwDy/xEA3//3/xAA8//l/+//GwDT/yIAUAAiANj/4v/2/8r/9P8HADYAAQAIAPj/6v/u//v/8P/8/xEANwA3ANf/+f/1/+j/4f8GAN7/4P/7/wkALAAQACEAFgAgAM//5P8BAPD/v//8/yoACAAfADEABgDJ//j/BgD3/wUALADf/+z/AgDm/8P/DAAeABEAHQAmABcA1//a/+L/8f/v/yQA+f8cABQACQAHAM//6v8yAB8A1f8LAO//8/8CAAcADgARAPz/2//e/+//8P8PAAwA6f8bAAoALgAtAPj/yv/g/wMA7v8QACgA7f8HADwA6/+b//f/UwD8/9H/9P8AAAkAFgD4/+//DADt/+D/GQAkAPb/3P8oAAkA8v/5//r/FQARABAA3P/1/w0ABADj/+r/EADq/+P/JgAnAPv/zv/4/yQAAADu/xsADwD6/xEABwDg/9X/5f/5/yQALADu/9r/BgASACUA8f8DAO//+f8KAOn/z/8MACYAFQAcANj/8f/9/xEA/f8DAP7/EADr/+z/5//9/x8ADgD1/+f//f/1/xEAFAAgAA8A/f8IAOr/z//m/+3/GQDp/wUAIAAWAN//9f82ACkA8//S//z/8//7//P/AwAeAPv/5f8PAAoA8P/8/xsA+/8SAOn/4f8lAAQA4f8FAAkAzf+//wgAKQAjABAABwAKADIABgDE//D/+P/9/+T/GgDs/+D/JAA0ACAABQD6/8D/8v/d//r/AwASAAMAEwD9/9f/FQAZACkAz/8UAPv/BgDh/+z/GADy//X/8v8mAPr/BADo/+D/EQAjAAgAAQAyAPn//P/p/+P/y//G/yoAIAApAOn/GgDZ//f/2/8EADUAOAAeAL7/EQDr/+z/x/87APf/7/8MADYAAADK/+n/6v8uAPr/+P/y/y8A+v/k//b/+/8SAP//EQDy/xYA0v/t/xIA8f8HAND/UQAWAEwA0v/r/9z/tv/H/wYAigAHADoAs//q/7//QwDq/xgASgDo/wIAof8JALH/OgArANr/NQAKAN3/1////0sA5P9PAOv/vf8QAMH/PQB7/x4A5f8oAHgAwP9BAM//PAC4//H/IwADAC8Avf8QANv/6f/k/wIAHAAkACMAIADn/9L/EgDt/9//uv9AADUA///8//X/AgDP/+r/4/8CABoAHwAYAAcAFAASAOP/1P8GACQA6v8QAAAA3P/2/wQABQD+/yUA/f8EAM3/EADg/w0AKADL/yIAwv8VACIALQAQAN7/CwCt/+z/GADx//n/NgA1AOn/z/8VAAcADgD3/+T/CADV//r/CAAmABEABQDg/+L/CQAFAAIA//81APT/+//X/+j/DQAoAAEAvP8CAC8ADgDS/xoAEQARAOL//v8TAAMAEADV/+3/xf8JAO7/EAApAAYAFADx/x4A9f/Z//L/JAAHAP3//f/+//H/8/8qAPv/+v8GACEA5P/Y/xsA8f/X//r/CQDj/woAFQDd/wUANgAOAOT/HQD+/wAAIQACAAUA2P/O/9L/8f8IABAAMQAoAPP/8v8GAPz/DQD8/wkA6v/7/+f/zP/8/yIAPAAcAO3/tv/s/xcALAAWAAsA/v/T//D/6f/6/9H/BQAxADMABQC///7/BAAMAA4ALQA1AOj/uv+2/+3/FwAoABsAHgAeAOf/2P/y/9z/8f8EAA4AMgAkANz/u//x//n/JgBBACQA6v/a/wIA0P/u/w0A9P8WACYA6f/6/wQA4f/w/xkAFQDo//L/GgD6////FQAQAO3//v8gAPz/5//j/wIAFADv/+D/5v8LACIAEQD7/yEADQDy/+//9P8DAMf/2v8CAA0AKgAnAAsA7//2//f/7v/v//L/CQA7AAUA3P/y/wUA4P8CABUAGAAIAAYACQAIAOf/7P/h/xsAHgD3/47/a//v/wIA/////wAA//8AAP//AAD//wAA//8AAP//AAD//wAA//8AAP//AAD//wAA//8AAP//AAD//wAA//8AAP//AAD//wAA//8AAP//AAD//wAA//8AAP//AAD//wAA//8AAP//AAD//wAA//8AAP//AAD//wAA//8AAP//AAD//wAA//8AAP//AAD//wAA//8AAP//AAD//wAA//8AAP//AAD//wAA//8AAP//AAD//wAA//8AAP//AAD//wAA//8AAP//AAD//wAA//8AAP//AAD//wAA//8AAP//AAD//wAA//8AAP//AAD//wAA//8AAP//AAD//wAA//8AAP//AAD//wAA//8AAP//AAD//wAA//8AAP//AAD//wAA//8AAP//AAD//wAA//8AAP//AAD//wAA//8AAP//AAD//wAA//8AAP//AAD//wAA//8AAP//AAD//wAA//8AAP//AAD//wAA//8AAP//AAD//wAA//8AAP//AAD//wAA//8AAP//AAD//wAA//8AAP//AAD//wAA//8AAP//AAD//wAA//8AAP//AAD//wAA//8AAP//AAD//wAA//8AAP//AAD//wAA//8AAP//AAD//wAA//8AAP//AAD//wAA//8AAP//AAD//wAA//8AAP//AAD//wAA//8AAP//AAD//wAA//8AAP//AAD//wAA//8AAP//AAD//wAA//8AAP//AAD//wAA//8AAP//AAD//wAA//8AAP//AAD//wAA//8AAP//AAD//wAA//8AAP//AAD//wAA//8AAP//AAD//wAA//8AAP//AAD//wAA//8AAP//AAD//wAA//8AAP//AAD//wAA//8AAP//AAD//wAA//8AAP//AAD//wAA//8AAP//AAD//wAA//8AAP//AAD//wAA//8AAP//AAD//wAA//8AAP//AAD//wAA//8AAP//AAD//wAA//8AAP//AAD//wAA//8AAP//AAD//wAA//8AAP//AAD//wAA//8AAP//AAAAAP//AAD//wAA//8AAP//AAD//wAA//8AAP//AAD//wAA//8AAP//AAD//wAA//8AAP//AAD//wAA//8AAP//AAD//wAA//8AAP//AAD//wAA//8AAP//AAD//wAA//8AAP//AAD//wAA//8AAP//AAD//wAA//8AAP//AAD//wAA//8AAP//AAD//wAA//8AAP//AAD//wAA//8AAP//AAD//wAA//8AAP//AAD//wAA//8AAP//AAD//wAA//8AAP//AAD//wAA//8AAP//AAD//wAA//8AAP//AAD//wAA//8AAP//AAD//wAA//8AAP//AAD//wAA//8AAP//AAD//wAA//8AAP//AAD//wAA//8AAP//AAD//wAA//8AAP//AAD//wAA//8AAP//AAD//wAA//8AAP//AAD//wAA//8AAP//AAD//wAA//8AAP//AAD//wAA//8AAP//AAD//wAA//8AAP//AAD//wAA//8AAP//AAD//wAA//8AAP//AAD//wAA//8AAP//AAD//wAA//8AAP//AAD//wAA//8AAP//AAD//wAA//8AAP//AAD//wAA//8AAP//AAD//wAA//8AAP//AAD//wAA//8AAP//AAD//wAA//8AAP//AAD//wAA//8AAP//AAD//wAA//8AAP//AAD//wAA//8AAP//AAD//wAA//8AAP//AAD//wAA//8AAP//AAD//wAA//8AAP//AAD//wAA//8AAP//AAD//wAA//8AAP//AAD//wAA//8AAP//AAD//wAA//8AAP//AAD//wAA//8AAP//AAD//wAA//8AAP//AAD//wAA//8AAP//AAD//wAA//8AAP//AAD//wAA//8AAP//AAD//wAA//8AAP//AAD//wAA//8AAP//AAD//wAA//8AAP//AAD//wAA//8AAP//AAD//wAA//8AAP//AAD//wAA//8AAP//AAD//wAA//8AAP//AAD//wAA//8AAP//AAD//wAA//8AAP//AAD//wAA//8AAP//AAD//wAA//8AAP//AAD//wAA//8AAP//AAD//wAA//8AAP//AAD//wAA//8AAP//AAD//wAA//8AAP//AAD//wAA//8AAP//AAD//wAA//8AAP//AAD//wAA//8AAP//AAD//wAA//8AAP//AAD//wAA//8AAP//AAD//wAA//8AAP//AAD//wAA//8AAP//AAD//wAA//8AAP//AAD//wAA//8AAP//AAD//wAA//8AAP//AAD//wAA//8AAP//AAD//wAA//8AAP//AAD//wAA//8AAP//AAD//wAA//8AAP//AAD//wAA//8AAP//AAD//wAA//8AAP//AAD//wAA//8AAP//AAD//wAA//8AAP//AAD//wAA//8AAP//AAD//wAA//8AAP//AAD//wAA//8AAP//AAD//wAA//8AAP//AAD//wAA//8AAP//AAD//wAA//8AAP//AAD//wAA//8AAP//AAD//wAA//8AAP//AAD//wAA//8AAP//AAD//wAA//8AAP//AAD//wAA//8AAP//AAD//wAA/////wAA//8AAP//AAD//wAA//8AAP//AAD//wAA//8AAP//AAD//wAA//8AAP//AAD//wAA//8AAP//AAD//wAA//8AAP//AAD//wAA//8AAP//AAD//wAA//8AAP//AAD//wAA//8AAP//AAD//wAA//8AAP//AAD//wAA//8AAP//AAD//wAA//8AAP//AAD//wAA//8AAP//AAD//wAA//8AAP//AAD//wAA//8AAP//AAD//wAA//8AAP//AAD//wAA//8AAP//AAD//wAA//8AAP//AAD//wAA//8AAP//AAD//wAA//8AAP//AAD//wAA//8AAP//AAD//wAA//8AAP//AAD//wAA//8AAP//AAD//wAA//8AAP//AAD//wAA//8AAP//AAD//wAA//8AAP//AAD//wAA//8AAP//AAD//wAA//8AAP//AAD//wAA//8AAP//AAD//wAA//8AAP//AAD//wAA//8AAP//AAD//wAA//8AAP//AAD//wAA//8AAP//AAD//wAA//8AAP//AAD//wAA//8AAP//AAD//wAA//8AAP//AAD//wAA//8AAP//AAD//wAA//8AAP//AAD//wAA//8AAP//AAD//wAA//8AAP//AAD//wAA//8AAP//AAD//wAA//8AAP//AAD//wAA//8AAP//AAD//wAA//8AAP//AAD//wAA//8AAP//AAD//wAA//8AAP//AAD//wAA//8AAP//AAD//wAA//8AAP//AAD//wAA//8AAP//AAD//wAA//8AAP//AAD//wAA//8AAP//AAD//wAA//8AAP//AAD//wAA//8AAP//AAD//wAA//8AAP//AAD//wAA//8AAP//AAD//wAA//8AAP//AAD//wAA//8AAP//AAD//wAA//8AAP//AAD//wAA//8AAP//AAD//wAA//8AAP//AAD//wAA//8AAP//AAD//wAA//8AAP//AAD//wAA//8AAP//AAD//wAA//8AAP//AAD//wAA//8AAP//AAD//wAA//8AAP//AAD//wAA//8AAP//AAD//wAA//8AAP//AAD//wAA//8AAP//AAD//wAA//8AAP//AAD//wAA//8AAP//AAD//wAA//8AAP//AAD//wAA//8AAP//AAD//wAA//8AAP//AAD//wAA//8AAP//AAD//wAA//8AAP//AAD//wAA//8AAP//AAD//wAA//8AAP//AAD//wAA//8AAP//AAD//wAA//8AAP//AAD//wAA//8AAP//AAD//wAA//8AAP//AAD//wAA//8AAP//AAD//wAA//8AAP//AAD//wAA//8AAP//AAD//wAA//8AAP//AAD//wAA//8AAP//AAD//wAA//8AAP//AAD//wAA//8AAP//AAD//wAA//8AAP//AAD//wAA//8AAP//AAD//wAA//8AAP//AAD//wAA//8AAP//AAD//wAA//8AAP//AAD//wAA//8AAP//AAD//wAA//8AAP//AAD//wAA//8AAP//AAD//wAA//8AAP//AAD//wAA//8AAP//AAAAAAAAAAAAAAAAAAAAAAAAAAAAAAAAAAAAAAAAAAAAAAAAAAAAAAAAAAAAAAAAAAAAAAAAAAAAAAAAAAAAAAAAAAAAAAAAAAAAAAAAAAAAAAAAAAAAAAAAAAAAAAAAAAAAAAAAAAAAAAAAAAAAAAAAAAAAAAAAAAAAAAAAAAAAAAAAAAAAAAAAAAAAAAAAAAAAAAAAAAAAAAAAAAAAAAAAAAAAAAAAAAAAAAAAAAAAAAAAAAAAAAAAAAAAAAAAAAAAAAAAAAAAAAAAAAAAAAAAAAAAAAAAAAAAAAAAAAAAAAAAAAAAAAAAAAAAAAAAAAAAAAAAAAAAAAAAAAAAAAAAAAAAAAAAAAAAAAAAAAAAAAAAAAAAAAAAAAAAAAAAAAAAAAAAAAAAAAAAAAAAAAAAAAAAAAAAAAAAAAAAAAAAAAAAAAAAAAAAAAAAAAAAAAAAAAAAAAAAAAAAAAAAAAAAAAAAAAAAAAAAAAAAAAAAAAAAAAAAAAAAAAAAAAAAAAAAAAAAAAAAAAAAAAAAAAAAAAAAAAAAAAAAAAAAAAAAAAAAAAAAAAAAAAAAAAAAAAAAAAAAAAAAAAAAAAAAAAAAAAAAAAAAAAAAAAAAAAAAAAAAAAAAAAAAAAAAAAAAAAAAAAAAAAAAAAAAAAAAAAAAAAAAAAAAAAAAAAAAAAAAAAAAAAAAAAAAAAAAAAAAAAAAAAAAAAAAAAAAAAAAAAAAAAAAAAAAAAAAAAAAAAAAAAAAAAAAAAAAAAAAAAAAAAAAAAAAAAAAAAAAAAAAAAAAAAAAAAAAAAAAAAAAAAAAAAAAAAAAAAAAAAAAAAAAAAAAAAAAAAAAAAAAAAAAAAAAAAAAAAAAAAAAAAAAAAAAAAAAAAAAAAAAAAAAAAAAAAAAAAAAAAAAAAAAAAAAAAAAAAAAAAAAAAAAAAAAAAAAAAAAAAAAAAAAAAAAAAAAAAAAAAAAAAAAAAAAAAAAAAAAAAAAAAAAAAAAAAAAAAAAAAAAAAAAAAAAAAAAAAAAAAAAAAAAAAAAAAAAAAAAAAAAAAAAAAAAAAAAAAAAAAAAAAAAAAAAAAAAAAAAAAAAAAAAAAAAAAAAAAAAAAAAAAAAAAAAAAAAAAAAAAAAAAAAAAAAAAAAAAAAAAAAAAAAAAAAAAAAAAAAAAAAAAAAAAAAAAAAAAAAAAAAAAAAAAAAAAAAAAAAAAAAAAAAAAAAAAAAAAAAAAAAAAAAAAAAAAAAAAAAAAAAAAAAAAAAAAAAAAAAAAAAAAAAAAAAAAAAAAAAAAAAAAAAAAAAAAAAAAAAAAAAAAAAAAAAAAAAAAAAAAAAAAAAAAAAAAAAAAAAAAAAAAAAAAAAAAAAAAAAAAAAAAAAAAAAAAAAAAAAAAAAAAAAAAAAAAAAAAAAAAAAAAAAAAAAAAAAAAAAAAAAAAAAAAAAAAAAAAAAAAAAAAAAAAAAAAAAAAAAAAAAAAAAAAAAAAAAAAAAAAAAAAAAAAAAAAAAAAAAAAAAAAAAAAAAAAAAAAAAAAAAAAAAAAAAAAAAAAAAAAAAAAAAAAAAAAAAAAAAAAAAAAAAAAAAAAAAAAAAAAAAAAAAAAAAAAAAAAAAAAAAAAAAAAAAAAAAAAAAAAAAAAAAAAAAAAAAAAAAAAAAAAAAAAAAAAAAAAAAAAAAAAAAAAAAAAAAAAAAAAAAAAAAAAAAAAAAAAAAAAAAAAAAAAAAAAAAAAAAAAAAAAAAAAAAAAAAAAAAAAAAAAAAAAAAAAAAAAAAAAAAAAAAAAAAAAAAAAAAAAAAAAAAAAAAAAAAAAAAAAAAAAAAAAAAAAAAAAAAAAAAAAAAAAAAAAAAAAAAAAAAAAAAAAAAAAAAAAAAAAAAAAAAAAAAAAAAAAAAAAAAAAAAAAAAAAAAAAAAAAAAAAAAAAAAAAAAAAAAAAAAAAAAAAAAAAAAAAAAAAAAAAAAAAAAAAAAAAAAAAAAAAAAAAAAAAAAAAAAAAAAAAAAAAAAAAAAAAAAAAAAAAAAAAAAAAAAAAAAAAAAAAAAAAAAAAAAAAAAAAAAAAAAAAAAAAAAAAAAAAAAAAAAAAAAAAAAAAAAAAAAAAAAAAAAAAAAAAAAAAAAAAAAAAAAAAAAAAAAAAAAAAAAAAAAAAAAAAAAAAAAAAAAAAAAAAAAAAAAAAAAAAAAAAAAAAAAAAAAAAAAAAAAAAAAAAAAAAAAAAAAAAAAAAAAAAAAAAAAAAAAAAAAAAAAAAAAAAAAAAAAAAAAAAAAAAAAAAAAAAAAAAAAAAAAAAAAAAAAAAAAAAAAAAAAAAAAAAAAAAAAAAAAAAAAAAAAAAAAAAAAAAAAAAAAAAAAAAAAAAAAAAAAAAAAAAAAAAAAAAAAAAAAAAAAAAAAAAAAAAAAAAAAAAAAAAAAAAAAAAAAAAAAAAAAAAAAAAAAAAAAAAAAAAAAAAAAAAAAAAAAAAAAAAAAAAAAAAAAAAAAAAAAAAAAAAAAAAAAAAAAAAAAAAAAAAAAAAAAAAAAAAAAAAAAAAAAAAAAAAAAAAAAAAAAAAAAAAAAAAAAAAAAAAAAAAAAAAAAAAAAAAAAAAAAAAAAAAAAAAAAAAAAAAAAAAAAAAAAAAAAAAAAAAAAAAAAAAAAAAAAAAAAAAAAAAAAAAAAAAAAAAAAAAAAAAAAAAAAAAAAAAAAAAAAAAAAAAAAAAAAAAAAAAAAAAAAAAAAAAAAAAAAAAAAAAAAAAAAAAAAAAAAAAAAAAAAAAAAAAA=\" type=\"audio/wav\" />\n",
       "                    Your browser does not support the audio element.\n",
       "                </audio>\n",
       "              "
      ],
      "text/plain": [
       "<IPython.lib.display.Audio object>"
      ]
     },
     "execution_count": 51,
     "metadata": {},
     "output_type": "execute_result"
    }
   ],
   "source": [
    "xtest_fil=librosa.istft(Spec_test_fil)\n",
    "audio_path_record_in_fil=os.path.join(audio_path_record,\"0_jackson_0_filtered.wav\")\n",
    "soundfile.write(audio_path_record_in_fil,xtest_fil,sr)\n",
    "ipd.Audio(audio_path_record_in_fil)"
   ]
  },
  {
   "cell_type": "code",
   "execution_count": 52,
   "metadata": {},
   "outputs": [],
   "source": [
    "old_spec=Spec_testdb3"
   ]
  },
  {
   "cell_type": "code",
   "execution_count": 22,
   "metadata": {},
   "outputs": [
    {
     "data": {
      "text/plain": [
       "array([   0.        ,    4.58757473,    9.17514946,   13.76272419,\n",
       "         18.35029892,   22.93787366,   27.52544839,   32.11302312,\n",
       "         36.70059785,   41.28817258,   45.87574731,   50.46332204,\n",
       "         55.05089677,   59.63847151,   64.22604624,   68.81362097,\n",
       "         73.4011957 ,   77.98877043,   82.57634516,   87.16391989,\n",
       "         91.75149462,   96.33906936,  100.92664409,  105.51421882,\n",
       "        110.10179355,  114.68936828,  119.27694301,  123.86451774,\n",
       "        128.45209247,  133.0396672 ,  137.62724194,  142.21481667,\n",
       "        146.8023914 ,  151.38996613,  155.97754086,  160.56511559,\n",
       "        165.15269032,  169.74026505,  174.32783979,  178.91541452,\n",
       "        183.50298925,  188.09056398,  192.67813871,  197.26571344,\n",
       "        201.85328817,  206.4408629 ,  211.02843764,  215.61601237,\n",
       "        220.2035871 ,  224.79116183,  229.37873656,  233.96631129,\n",
       "        238.55388602,  243.14146075,  247.72903548,  252.31661022,\n",
       "        256.90418495,  261.49175968,  266.07933441,  270.66690914,\n",
       "        275.25448387,  279.8420586 ,  284.42963333,  289.01720807,\n",
       "        293.6047828 ,  298.19235753,  302.77993226,  307.36750699,\n",
       "        311.95508172,  316.54265645,  321.13023118,  325.71780591,\n",
       "        330.30538065,  334.89295538,  339.48053011,  344.06810484,\n",
       "        348.65567957,  353.2432543 ,  357.83082903,  362.41840376,\n",
       "        367.0059785 ,  371.59355323,  376.18112796,  380.76870269,\n",
       "        385.35627742,  389.94385215,  394.53142688,  399.11900161,\n",
       "        403.70657635,  408.29415108,  412.88172581,  417.46930054,\n",
       "        422.05687527,  426.64445   ,  431.23202473,  435.81959946,\n",
       "        440.40717419,  444.99474893,  449.58232366,  454.16989839,\n",
       "        458.75747312,  463.34504785,  467.93262258,  472.52019731,\n",
       "        477.10777204,  481.69534678,  486.28292151,  490.87049624,\n",
       "        495.45807097,  500.0456457 ,  504.63322043,  509.22079516,\n",
       "        513.80836989,  518.39594463,  522.98351936,  527.57109409,\n",
       "        532.15866882,  536.74624355,  541.33381828,  545.92139301,\n",
       "        550.50896774,  555.09654247,  559.68411721,  564.27169194,\n",
       "        568.85926667,  573.4468414 ,  578.03441613,  582.62199086,\n",
       "        587.20956559,  591.79714032,  596.38471506,  600.97228979,\n",
       "        605.55986452,  610.14743925,  614.73501398,  619.32258871,\n",
       "        623.91016344,  628.49773817,  633.08531291,  637.67288764,\n",
       "        642.26046237,  646.8480371 ,  651.43561183,  656.02318656,\n",
       "        660.61076129,  665.19833602,  669.78591075,  674.37348549,\n",
       "        678.96106022,  683.54863495,  688.13620968,  692.72378441,\n",
       "        697.31135914,  701.89893387,  706.4865086 ,  711.07408334,\n",
       "        715.66165807,  720.2492328 ,  724.83680753,  729.42438226,\n",
       "        734.01195699,  738.59953172,  743.18710645,  747.77468118,\n",
       "        752.36225592,  756.94983065,  761.53740538,  766.12498011,\n",
       "        770.71255484,  775.30012957,  779.8877043 ,  784.47527903,\n",
       "        789.06285377,  793.6504285 ,  798.23800323,  802.82557796,\n",
       "        807.41315269,  812.00072742,  816.58830215,  821.17587688,\n",
       "        825.76345162,  830.35102635,  834.93860108,  839.52617581,\n",
       "        844.11375054,  848.70132527,  853.2889    ,  857.87647473,\n",
       "        862.46404946,  867.0516242 ,  871.63919893,  876.22677366,\n",
       "        880.81434839,  885.40192312,  889.98949785,  894.57707258,\n",
       "        899.16464731,  903.75222205,  908.33979678,  912.92737151,\n",
       "        917.51494624,  922.10252097,  926.6900957 ,  931.27767043,\n",
       "        935.86524516,  940.4528199 ,  945.04039463,  949.62796936,\n",
       "        954.21554409,  958.80311882,  963.39069355,  967.97826828,\n",
       "        972.56584301,  977.15341774,  981.74099248,  986.32856721,\n",
       "        990.91614194,  995.50371667, 1000.09415112, 1004.83686549,\n",
       "       1009.60207109, 1014.38987456, 1019.20038308, 1024.03370432,\n",
       "       1028.88994647, 1033.76921821, 1038.67162877, 1043.59728788,\n",
       "       1048.54630578, 1053.51879324, 1058.51486158, 1063.53462261,\n",
       "       1068.57818869, 1073.64567271, 1078.7371881 , 1083.85284882,\n",
       "       1088.99276937, 1094.1570648 , 1099.34585071, 1104.55924323,\n",
       "       1109.79735905, 1115.06031542, 1120.34823014, 1125.66122156,\n",
       "       1130.99940862, 1136.36291079, 1141.75184812, 1147.16634124,\n",
       "       1152.60651133, 1158.07248017, 1163.5643701 , 1169.08230404,\n",
       "       1174.6264055 , 1180.19679857, 1185.79360794, 1191.41695888,\n",
       "       1197.06697726, 1202.74378954, 1208.44752278, 1214.17830465,\n",
       "       1219.93626343, 1225.72152799, 1231.53422782, 1237.37449303,\n",
       "       1243.24245435, 1249.13824311, 1255.06199128, 1261.01383144,\n",
       "       1266.99389683, 1273.0023213 , 1279.03923932, 1285.10478602,\n",
       "       1291.19909717, 1297.32230918, 1303.47455909, 1309.65598463,\n",
       "       1315.86672414, 1322.10691664, 1328.37670181, 1334.67621997,\n",
       "       1341.00561214, 1347.36501999, 1353.75458584, 1360.17445274,\n",
       "       1366.62476435, 1373.10566508, 1379.61729997, 1386.15981478,\n",
       "       1392.73335595, 1399.33807061, 1405.9741066 , 1412.64161244,\n",
       "       1419.34073739, 1426.07163138, 1432.83444507, 1439.62932984,\n",
       "       1446.45643777, 1453.31592168, 1460.20793509, 1467.13263228,\n",
       "       1474.09016824, 1481.0806987 , 1488.10438013, 1495.16136973,\n",
       "       1502.25182547, 1509.37590605, 1516.53377093, 1523.72558032,\n",
       "       1530.9514952 , 1538.21167731, 1545.50628914, 1552.83549397,\n",
       "       1560.19945586, 1567.59833963, 1575.03231088, 1582.50153602,\n",
       "       1590.00618223, 1597.54641748, 1605.12241054, 1612.73433099,\n",
       "       1620.38234921, 1628.06663638, 1635.7873645 , 1643.54470638,\n",
       "       1651.33883565, 1659.16992677, 1667.03815502, 1674.94369652,\n",
       "       1682.88672821, 1690.86742789, 1698.88597419, 1706.94254657,\n",
       "       1715.03732539, 1723.17049181, 1731.34222789, 1739.55271652,\n",
       "       1747.8021415 , 1756.09068746, 1764.41853992, 1772.78588529,\n",
       "       1781.19291085, 1789.63980478, 1798.12675615, 1806.65395491,\n",
       "       1815.22159193, 1823.82985898, 1832.47894874, 1841.1690548 ,\n",
       "       1849.90037168, 1858.67309479, 1867.48742051, 1876.34354612,\n",
       "       1885.24166985, 1894.18199087, 1903.16470929, 1912.19002616,\n",
       "       1921.2581435 , 1930.36926429, 1939.52359245, 1948.72133289,\n",
       "       1957.96269147, 1967.24787506, 1976.57709147, 1985.95054952,\n",
       "       1995.36845903, 2004.83103078, 2014.33847658, 2023.89100924,\n",
       "       2033.48884257, 2043.13219139, 2052.82127156, 2062.55629994,\n",
       "       2072.33749444, 2082.16507397, 2092.03925853, 2101.96026911,\n",
       "       2111.92832778, 2121.94365765, 2132.00648291, 2142.11702877,\n",
       "       2152.27552155, 2162.48218863, 2172.73725846, 2183.04096057,\n",
       "       2193.3935256 , 2203.79518527, 2214.24617239, 2224.74672089,\n",
       "       2235.29706581, 2245.89744329, 2256.5480906 , 2267.24924613,\n",
       "       2278.00114941, 2288.80404109, 2299.65816298, 2310.56375802,\n",
       "       2321.52107032, 2332.53034513, 2343.59182886, 2354.70576912,\n",
       "       2365.87241466, 2377.09201542, 2388.36482253, 2399.69108832,\n",
       "       2411.07106629, 2422.50501117, 2433.99317887, 2445.53582655,\n",
       "       2457.13321255, 2468.78559646, 2480.4932391 , 2492.25640252,\n",
       "       2504.07535001, 2515.95034611, 2527.88165663, 2539.86954861,\n",
       "       2551.91429039, 2564.01615157, 2576.17540301, 2588.39231688,\n",
       "       2600.66716663, 2613.000227  , 2625.39177405, 2637.84208513,\n",
       "       2650.35143893, 2662.92011543, 2675.54839596, 2688.23656318,\n",
       "       2700.98490109, 2713.79369504, 2726.66323171, 2739.59379918,\n",
       "       2752.58568686, 2765.63918555, 2778.75458743, 2791.93218606,\n",
       "       2805.17227639, 2818.47515478, 2831.84111897, 2845.27046816,\n",
       "       2858.76350291, 2872.32052525, 2885.94183862, 2899.62774791,\n",
       "       2913.37855944, 2927.19458101, 2941.07612185, 2955.02349268,\n",
       "       2969.03700568, 2983.1169745 , 2997.26371432, 3011.47754176,\n",
       "       3025.75877498, 3040.10773363, 3054.52473889, 3069.01011345,\n",
       "       3083.56418154, 3098.18726892, 3112.87970289, 3127.64181232,\n",
       "       3142.47392763, 3157.37638081, 3172.3495054 , 3187.39363657,\n",
       "       3202.50911104, 3217.69626713, 3232.95544479, 3248.28698556,\n",
       "       3263.69123259, 3279.1685307 , 3294.7192263 , 3310.34366746,\n",
       "       3326.04220391, 3341.81518702, 3357.66296985, 3373.58590711,\n",
       "       3389.5843552 , 3405.65867221, 3421.80921795, 3438.0363539 ,\n",
       "       3454.34044327, 3470.721851  , 3487.18094376, 3503.71808995,\n",
       "       3520.33365971, 3537.02802495, 3553.80155935, 3570.65463834,\n",
       "       3587.58763914, 3604.60094077, 3621.69492404, 3638.86997155,\n",
       "       3656.12646774, 3673.46479885, 3690.88535298, 3708.38852004,\n",
       "       3725.97469181, 3743.64426192, 3761.39762586, 3779.23518101,\n",
       "       3797.15732662, 3815.16446385, 3833.25699574, 3851.43532727,\n",
       "       3869.69986532, 3888.0510187 , 3906.48919817, 3925.01481642,\n",
       "       3943.62828811, 3962.33002988, 3981.12046031, 4000.        ])"
      ]
     },
     "execution_count": 22,
     "metadata": {},
     "output_type": "execute_result"
    }
   ],
   "source": [
    "librosa.core.mel_frequencies(n_mels=512, fmin=0.0, fmax=4000)"
   ]
  },
  {
   "cell_type": "code",
   "execution_count": null,
   "metadata": {},
   "outputs": [],
   "source": []
  }
 ],
 "metadata": {
  "kernelspec": {
   "display_name": "Python 3",
   "language": "python",
   "name": "python3"
  },
  "language_info": {
   "codemirror_mode": {
    "name": "ipython",
    "version": 3
   },
   "file_extension": ".py",
   "mimetype": "text/x-python",
   "name": "python",
   "nbconvert_exporter": "python",
   "pygments_lexer": "ipython3",
   "version": "3.6.8"
  }
 },
 "nbformat": 4,
 "nbformat_minor": 2
}
