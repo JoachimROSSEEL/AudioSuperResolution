{
 "cells": [
  {
   "cell_type": "code",
   "execution_count": 1,
   "metadata": {},
   "outputs": [
    {
     "name": "stderr",
     "output_type": "stream",
     "text": [
      "Using TensorFlow backend.\n"
     ]
    }
   ],
   "source": [
    "import numpy as np\n",
    "import scipy.signal\n",
    "from matplotlib.pyplot import *\n",
    "import librosa\n",
    "import os\n",
    "import matplotlib.pyplot as plt\n",
    "import librosa.display\n",
    "from filter_function import *\n",
    "from spectrogram import *\n",
    "\n",
    "import matplotlib.image as mpimg\n",
    "import glob\n",
    "from keras.models import Sequential,Model\n",
    "from keras.layers import Dense, Conv2D, Flatten,MaxPooling2D, UpSampling2D, Input,Dropout,Conv2DTranspose,Concatenate\n",
    "from keras.layers import  Conv1D, MaxPooling1D, UpSampling1D,Concatenate, PReLU\n",
    "from keras import optimizers"
   ]
  },
  {
   "cell_type": "code",
   "execution_count": 2,
   "metadata": {},
   "outputs": [],
   "source": [
    "original_dataset_dir = \"C:\\\\Users\\\\joaro\\\\OneDrive\\\\Documents\\\\deep_learning_jupiter\\\\free_spoken_digit_dataset\\\\recordings\\\\\"\n",
    "\n",
    "base_dir = \"C:\\\\Users\\\\joaro\\\\OneDrive\\\\Documents\\\\deep_learning_jupiter\\\\free_spoken_digit_dataset\\\\super_resolution_re_im\"\n",
    "train_dir = os.path.join(base_dir, 'train\\\\')\n",
    "\n",
    "test_dir = os.path.join(base_dir, 'test\\\\')\n",
    "train_dir_filtré=os.path.join(base_dir, 'train_dir_filtré\\\\')\n",
    "test_dir_filtré=os.path.join(base_dir, 'test_dir_filtré\\\\')"
   ]
  },
  {
   "cell_type": "code",
   "execution_count": null,
   "metadata": {},
   "outputs": [],
   "source": [
    "os.mkdir(base_dir)\n",
    "os.mkdir(train_dir)\n",
    "os.mkdir(test_dir)\n",
    "os.mkdir(train_dir_filtré)\n",
    "os.mkdir(test_dir_filtré)"
   ]
  },
  {
   "cell_type": "code",
   "execution_count": null,
   "metadata": {},
   "outputs": [],
   "source": [
    "speakername=['_jackson_{}.wav','_nicolas_{}.wav','_theo_{}.wav','_yweweler_{}.wav']\n",
    "for i in range(10):    \n",
    "    for s in speakername:\n",
    "        fnames_test=[str(i)+s.format(j) for j in range(5)]\n",
    "        fnames_train=[str(i)+s.format(j) for j in range(5,50)]\n",
    "        \n",
    "        for fname in fnames_test:\n",
    "            src = os.path.join(original_dataset_dir, fname)\n",
    "            dst = os.path.join(test_dir, fname)\n",
    "            \n",
    "            shutil.copyfile(src, dst)\n",
    "            \n",
    "        for fname in fnames_train:\n",
    "             src = os.path.join(original_dataset_dir, fname)\n",
    "             dst = os.path.join(train_dir, fname)\n",
    "            \n",
    "             shutil.copyfile(src, dst)\n",
    "             \n",
    "    i=i+1;\n"
   ]
  },
  {
   "cell_type": "code",
   "execution_count": 3,
   "metadata": {},
   "outputs": [
    {
     "name": "stdout",
     "output_type": "stream",
     "text": [
      "processing C:\\Users\\joaro\\OneDrive\\Documents\\deep_learning_jupiter\\free_spoken_digit_dataset\\super_resolution_re_im\\train\\\n",
      "processing C:\\Users\\joaro\\OneDrive\\Documents\\deep_learning_jupiter\\free_spoken_digit_dataset\\super_resolution_re_im\\test\\\n"
     ]
    }
   ],
   "source": [
    "fce=0.0226 #sr=22050\n",
    "ftype=\"butter\"\n",
    "ordre=2\n",
    "b,a = creer_filter(fce,\"highpass\",ftype,ordre)\n",
    "filter_path(train_dir,train_dir_filtré,b,a)\n",
    "filter_path(test_dir,test_dir_filtré,b,a)"
   ]
  },
  {
   "cell_type": "code",
   "execution_count": 3,
   "metadata": {
    "scrolled": true
   },
   "outputs": [
    {
     "name": "stdout",
     "output_type": "stream",
     "text": [
      "processing C:\\Users\\joaro\\OneDrive\\Documents\\deep_learning_jupiter\\free_spoken_digit_dataset\\super_resolution_re_im\\test\\\n"
     ]
    }
   ],
   "source": [
    "Xtest,testmaxr,testmaxi=dir_to_spectro_RI(test_dir)"
   ]
  },
  {
   "cell_type": "code",
   "execution_count": 4,
   "metadata": {
    "scrolled": true
   },
   "outputs": [
    {
     "name": "stdout",
     "output_type": "stream",
     "text": [
      "[[-1.68969240e-02  1.37014238e-18]\n",
      " [ 1.14567764e-02 -3.60413594e-03]\n",
      " [-2.05927179e-03  2.31237942e-03]\n",
      " [-1.55291834e-03  1.97633199e-04]\n",
      " [ 1.45434856e-03  5.11254184e-03]\n",
      " [ 1.02588290e-03 -1.40695022e-02]\n",
      " [-2.53181392e-03  1.07910717e-02]\n",
      " [ 6.51929644e-04 -2.35448941e-03]\n",
      " [ 3.52810730e-06  1.34198172e-05]\n",
      " [ 0.00000000e+00  0.00000000e+00]\n",
      " [ 0.00000000e+00  0.00000000e+00]\n",
      " [ 0.00000000e+00  0.00000000e+00]\n",
      " [ 0.00000000e+00  0.00000000e+00]\n",
      " [ 0.00000000e+00  0.00000000e+00]\n",
      " [ 0.00000000e+00  0.00000000e+00]\n",
      " [ 0.00000000e+00  0.00000000e+00]]\n"
     ]
    }
   ],
   "source": [
    "print(Xtest[10][10])"
   ]
  },
  {
   "cell_type": "code",
   "execution_count": 5,
   "metadata": {},
   "outputs": [
    {
     "name": "stdout",
     "output_type": "stream",
     "text": [
      "(200, 1024, 16, 2)\n"
     ]
    }
   ],
   "source": [
    "print(Xtest.shape)"
   ]
  },
  {
   "cell_type": "code",
   "execution_count": 6,
   "metadata": {
    "scrolled": true
   },
   "outputs": [
    {
     "name": "stdout",
     "output_type": "stream",
     "text": [
      "processing C:\\Users\\joaro\\OneDrive\\Documents\\deep_learning_jupiter\\free_spoken_digit_dataset\\super_resolution_re_im\\train\\\n",
      "C:\\Users\\joaro\\OneDrive\\Documents\\deep_learning_jupiter\\free_spoken_digit_dataset\\super_resolution_re_im\\train\\5_theo_36.wav\n",
      "C:\\Users\\joaro\\OneDrive\\Documents\\deep_learning_jupiter\\free_spoken_digit_dataset\\super_resolution_re_im\\train\\7_theo_36.wav\n",
      "C:\\Users\\joaro\\OneDrive\\Documents\\deep_learning_jupiter\\free_spoken_digit_dataset\\super_resolution_re_im\\train\\9_theo_16.wav\n",
      "C:\\Users\\joaro\\OneDrive\\Documents\\deep_learning_jupiter\\free_spoken_digit_dataset\\super_resolution_re_im\\train\\9_theo_28.wav\n",
      "processing C:\\Users\\joaro\\OneDrive\\Documents\\deep_learning_jupiter\\free_spoken_digit_dataset\\super_resolution_re_im\\train_dir_filtré\\\n",
      "C:\\Users\\joaro\\OneDrive\\Documents\\deep_learning_jupiter\\free_spoken_digit_dataset\\super_resolution_re_im\\train_dir_filtré\\5_theo_36.wav\n",
      "C:\\Users\\joaro\\OneDrive\\Documents\\deep_learning_jupiter\\free_spoken_digit_dataset\\super_resolution_re_im\\train_dir_filtré\\7_theo_36.wav\n",
      "C:\\Users\\joaro\\OneDrive\\Documents\\deep_learning_jupiter\\free_spoken_digit_dataset\\super_resolution_re_im\\train_dir_filtré\\9_theo_16.wav\n",
      "C:\\Users\\joaro\\OneDrive\\Documents\\deep_learning_jupiter\\free_spoken_digit_dataset\\super_resolution_re_im\\train_dir_filtré\\9_theo_28.wav\n",
      "processing C:\\Users\\joaro\\OneDrive\\Documents\\deep_learning_jupiter\\free_spoken_digit_dataset\\super_resolution_re_im\\test_dir_filtré\\\n"
     ]
    }
   ],
   "source": [
    "Xtrain,trainmaxr,trainmaxi=dir_to_spectro_RI(train_dir)\n",
    "Xtrain_fil,trainmaxr_fil,trainmaxi_fil=dir_to_spectro_RI(train_dir_filtré)\n",
    "Xtest_fil,testmaxr_fil,testmaxi_fil=dir_to_spectro_RI(test_dir_filtré)"
   ]
  },
  {
   "cell_type": "code",
   "execution_count": 7,
   "metadata": {},
   "outputs": [
    {
     "name": "stdout",
     "output_type": "stream",
     "text": [
      "[[ 8.11503094e-04 -1.06619710e-17]\n",
      " [-4.85861121e-04  1.04540457e-04]\n",
      " [ 2.36936103e-05 -8.52470039e-05]\n",
      " [ 6.45989167e-06 -3.27442285e-05]\n",
      " [ 1.05177809e-04  1.87129535e-05]\n",
      " [ 5.07118093e-05 -1.70002517e-04]\n",
      " [-3.02224449e-04  6.80474564e-04]\n",
      " [ 1.95319662e-04 -5.08392579e-04]\n",
      " [ 9.71232112e-07  8.92867411e-06]\n",
      " [ 0.00000000e+00  0.00000000e+00]\n",
      " [ 0.00000000e+00  0.00000000e+00]\n",
      " [ 0.00000000e+00  0.00000000e+00]\n",
      " [ 0.00000000e+00  0.00000000e+00]\n",
      " [ 0.00000000e+00  0.00000000e+00]\n",
      " [ 0.00000000e+00  0.00000000e+00]\n",
      " [ 0.00000000e+00  0.00000000e+00]]\n"
     ]
    }
   ],
   "source": [
    "print(Xtest_fil[10][10])"
   ]
  },
  {
   "cell_type": "code",
   "execution_count": 10,
   "metadata": {},
   "outputs": [
    {
     "name": "stdout",
     "output_type": "stream",
     "text": [
      "__________________________________________________________________________________________________\n",
      "Layer (type)                    Output Shape         Param #     Connected to                     \n",
      "==================================================================================================\n",
      "input_2 (InputLayer)            (None, 1024, 16, 2)  0                                            \n",
      "__________________________________________________________________________________________________\n",
      "conv2d_6 (Conv2D)               (None, 1024, 16, 32) 608         input_2[0][0]                    \n",
      "__________________________________________________________________________________________________\n",
      "max_pooling2d_3 (MaxPooling2D)  (None, 512, 16, 32)  0           conv2d_6[0][0]                   \n",
      "__________________________________________________________________________________________________\n",
      "conv2d_7 (Conv2D)               (None, 512, 16, 32)  9248        max_pooling2d_3[0][0]            \n",
      "__________________________________________________________________________________________________\n",
      "prelu2 (PReLU)                  (None, 512, 16, 32)  32          conv2d_7[0][0]                   \n",
      "__________________________________________________________________________________________________\n",
      "max_pooling2d_4 (MaxPooling2D)  (None, 256, 16, 32)  0           prelu2[0][0]                     \n",
      "__________________________________________________________________________________________________\n",
      "conv2d_8 (Conv2D)               (None, 256, 16, 32)  9248        max_pooling2d_4[0][0]            \n",
      "__________________________________________________________________________________________________\n",
      "prelu8 (PReLU)                  (None, 256, 16, 32)  32          conv2d_8[0][0]                   \n",
      "__________________________________________________________________________________________________\n",
      "up_sampling2d_3 (UpSampling2D)  (None, 512, 16, 32)  0           prelu8[0][0]                     \n",
      "__________________________________________________________________________________________________\n",
      "concatenate_2 (Concatenate)     (None, 512, 16, 64)  0           up_sampling2d_3[0][0]            \n",
      "                                                                 prelu2[0][0]                     \n",
      "__________________________________________________________________________________________________\n",
      "conv2d_9 (Conv2D)               (None, 512, 16, 32)  18464       concatenate_2[0][0]              \n",
      "__________________________________________________________________________________________________\n",
      "prelu5 (PReLU)                  (None, 512, 16, 32)  32          conv2d_9[0][0]                   \n",
      "__________________________________________________________________________________________________\n",
      "up_sampling2d_4 (UpSampling2D)  (None, 1024, 16, 32) 0           prelu5[0][0]                     \n",
      "__________________________________________________________________________________________________\n",
      "conv2d_10 (Conv2D)              (None, 1024, 16, 2)  578         up_sampling2d_4[0][0]            \n",
      "__________________________________________________________________________________________________\n",
      "prelu (PReLU)                   (None, 1024, 16, 2)  2           conv2d_10[0][0]                  \n",
      "__________________________________________________________________________________________________\n",
      "dropout_2 (Dropout)             (None, 1024, 16, 2)  0           prelu[0][0]                      \n",
      "==================================================================================================\n",
      "Total params: 38,244\n",
      "Trainable params: 38,244\n",
      "Non-trainable params: 0\n",
      "__________________________________________________________________________________________________\n"
     ]
    }
   ],
   "source": [
    "\n",
    "#pas séquentiel\n",
    "#comme une image rgb sauf que couleurs sont ici partie reelle et imag\n",
    "input_img = Input(shape=(1024, 16,2))  \n",
    "conv1= Conv2D(32, (3, 3), padding='same',activation='tanh')(input_img)\n",
    "# conv1 = PReLU(shared_axes=[1, 2], name='prelu1')(conv1)\n",
    "max1= MaxPooling2D((2, 1), padding='same')(conv1)\n",
    "conv2 = Conv2D(32, (3, 3), padding='same')(max1)\n",
    "conv2 = PReLU(shared_axes=[1, 2], name='prelu2')(conv2)\n",
    "max2= MaxPooling2D((2, 1), padding='same')(conv2)\n",
    "conv3 = Conv2D(32, (3, 3), padding='same')(max2)\n",
    "conv3 = PReLU(shared_axes=[1, 2], name='prelu8')(conv3)\n",
    "# max3= MaxPooling2D((2, 1), padding='same')(conv3)\n",
    "# conv4 = Conv2D(32, (3, 3),padding='same')(max3)\n",
    "# conv4 = PReLU(shared_axes=[1, 2], name='prelu7')(conv4)\n",
    "# # max4= MaxPooling2D((2, 1), padding='same')(conv4)\n",
    "# # conv5 = Conv2D(32, (3, 3),padding='same')(max4)\n",
    "# # x = PReLU(shared_axes=[1, 2], name='prelu10')(conv5)\n",
    "# # x = UpSampling2D((2, 1))(x)\n",
    "# x = Conv2D(32, (3, 3), padding='same')(conv4)\n",
    "# x = PReLU(shared_axes=[1, 2], name='prelu11')(x)\n",
    "# x = UpSampling2D((2, 1))(conv4)\n",
    "# merge1=Concatenate(axis=-1)([x,conv3])\n",
    "# x = Conv2D(32, (3, 3), padding='same')(x)\n",
    "# x = PReLU(shared_axes=[1, 2], name='prelu4')(x)\n",
    "x = UpSampling2D((2, 1))(conv3)\n",
    "merge2=Concatenate(axis=-1)([x,conv2])\n",
    "x = Conv2D(32, (3, 3), padding='same')(merge2)\n",
    "x = PReLU(shared_axes=[1, 2], name='prelu5')(x)\n",
    "x = UpSampling2D((2,1))(x)\n",
    "#merge2=Concatenate(axis=-1)([x,conv1])\n",
    "decoded = Conv2D(2, (3, 3),padding='same')(x)\n",
    "decoded = PReLU(shared_axes=[1, 2], name='prelu')(decoded)\n",
    "decoded =Dropout(0.5)(decoded)\n",
    "autoencoder = Model(input_img, decoded)\n",
    "autoencoder.compile(optimizer=optimizers.Adadelta(lr=10),loss='mae')\n",
    "#optimizer=optimizers.SGD(lr=0.0001, momentum=0.9, decay=0.0, nesterov=False)\n",
    "autoencoder.summary()\n"
   ]
  },
  {
   "cell_type": "code",
   "execution_count": 24,
   "metadata": {
    "scrolled": true
   },
   "outputs": [
    {
     "name": "stdout",
     "output_type": "stream",
     "text": [
      "Train on 1800 samples, validate on 200 samples\n",
      "Epoch 1/20\n",
      "1800/1800 [==============================] - 16s 9ms/step - loss: 0.0726 - val_loss: 0.0721\n",
      "Epoch 2/20\n",
      "1800/1800 [==============================] - 16s 9ms/step - loss: 0.0729 - val_loss: 0.0752\n",
      "Epoch 3/20\n",
      "1800/1800 [==============================] - 16s 9ms/step - loss: 0.0721 - val_loss: 0.0715\n",
      "Epoch 4/20\n",
      "1800/1800 [==============================] - 16s 9ms/step - loss: 0.0733 - val_loss: 0.0753\n",
      "Epoch 5/20\n",
      "1800/1800 [==============================] - 16s 9ms/step - loss: 0.0735 - val_loss: 0.0703\n",
      "Epoch 6/20\n",
      "1800/1800 [==============================] - 16s 9ms/step - loss: 0.0720 - val_loss: 0.0706\n",
      "Epoch 7/20\n",
      "1800/1800 [==============================] - 16s 9ms/step - loss: 0.0729 - val_loss: 0.0720\n",
      "Epoch 8/20\n",
      "1800/1800 [==============================] - 16s 9ms/step - loss: 0.0728 - val_loss: 0.0694\n",
      "Epoch 9/20\n",
      "1800/1800 [==============================] - 16s 9ms/step - loss: 0.0711 - val_loss: 0.0666\n",
      "Epoch 10/20\n",
      "1800/1800 [==============================] - 16s 9ms/step - loss: 0.0723 - val_loss: 0.0666\n",
      "Epoch 11/20\n",
      "1800/1800 [==============================] - 17s 9ms/step - loss: 0.0721 - val_loss: 0.0692\n",
      "Epoch 12/20\n",
      "1800/1800 [==============================] - 16s 9ms/step - loss: 0.0705 - val_loss: 0.0679\n",
      "Epoch 13/20\n",
      "1800/1800 [==============================] - 16s 9ms/step - loss: 0.0724 - val_loss: 0.0704\n",
      "Epoch 14/20\n",
      "1800/1800 [==============================] - 16s 9ms/step - loss: 0.0708 - val_loss: 0.0644\n",
      "Epoch 15/20\n",
      "1800/1800 [==============================] - 16s 9ms/step - loss: 0.0717 - val_loss: 0.0689\n",
      "Epoch 16/20\n",
      "1800/1800 [==============================] - 16s 9ms/step - loss: 0.0708 - val_loss: 0.0656\n",
      "Epoch 17/20\n",
      "1800/1800 [==============================] - 16s 9ms/step - loss: 0.0711 - val_loss: 0.0668\n",
      "Epoch 18/20\n",
      "1800/1800 [==============================] - 16s 9ms/step - loss: 0.0701 - val_loss: 0.0660\n",
      "Epoch 19/20\n",
      "1800/1800 [==============================] - 16s 9ms/step - loss: 0.0711 - val_loss: 0.0780\n",
      "Epoch 20/20\n",
      "1800/1800 [==============================] - 16s 9ms/step - loss: 0.0704 - val_loss: 0.0663\n"
     ]
    },
    {
     "data": {
      "text/plain": [
       "<keras.callbacks.History at 0x1d9301c66a0>"
      ]
     },
     "execution_count": 24,
     "metadata": {},
     "output_type": "execute_result"
    }
   ],
   "source": [
    "G=10\n",
    "autoencoder.fit(Xtrain_fil*G,Xtrain*G,epochs=20,\n",
    "                batch_size=16,\n",
    "                shuffle=True,\n",
    "                validation_data=(Xtest_fil*G, Xtest*G))"
   ]
  },
  {
   "cell_type": "code",
   "execution_count": 25,
   "metadata": {},
   "outputs": [
    {
     "name": "stdout",
     "output_type": "stream",
     "text": [
      "[[ 0.00058761 -0.00038631]\n",
      " [-0.0022599  -0.00063839]\n",
      " [-0.00073078 -0.01052478]\n",
      " [-0.03322465 -0.00290135]\n",
      " [ 0.00984246 -0.01529173]\n",
      " [-0.00201468 -0.00182578]\n",
      " [-0.00414062 -0.00234392]\n",
      " [-0.00602186  0.00433952]\n",
      " [-0.00205873  0.00373948]\n",
      " [-0.00265647  0.00257514]\n",
      " [-0.00267671  0.00148101]\n",
      " [-0.00286551  0.00188907]\n",
      " [-0.00295863  0.00202166]\n",
      " [-0.00292045  0.00164736]\n",
      " [-0.00321444  0.00147659]\n",
      " [-0.00275914  0.00124402]]\n",
      "[[ 6.04809187e-02  1.54488404e-17]\n",
      " [ 2.95964666e-02 -1.41340978e-02]\n",
      " [-1.47888558e-02 -1.67798270e-02]\n",
      " [-3.62167656e-02 -3.11062881e-03]\n",
      " [-1.52316382e-02  9.16804560e-03]\n",
      " [-2.11727433e-03 -3.28151463e-03]\n",
      " [ 2.45762174e-04 -1.68522843e-03]\n",
      " [ 1.87064670e-02  7.08211726e-03]\n",
      " [ 6.86734263e-03  6.94964081e-03]\n",
      " [-2.35070614e-03 -7.23413832e-04]\n",
      " [ 7.06664068e-05 -2.34084460e-03]\n",
      " [-2.14303305e-04 -6.01612206e-04]\n",
      " [ 1.46038502e-07 -1.44031264e-06]\n",
      " [ 0.00000000e+00  0.00000000e+00]\n",
      " [ 0.00000000e+00  0.00000000e+00]\n",
      " [ 0.00000000e+00  0.00000000e+00]]\n",
      "(200, 1024, 16, 2)\n"
     ]
    }
   ],
   "source": [
    "decoded = autoencoder.predict(Xtest_fil)\n",
    "p=0#indice to display\n",
    "print(decoded[p][100])\n",
    "print(Xtest[p][100])\n",
    "print(decoded.shape)"
   ]
  },
  {
   "cell_type": "code",
   "execution_count": 9,
   "metadata": {},
   "outputs": [
    {
     "name": "stdout",
     "output_type": "stream",
     "text": [
      "(1024, 16)\n"
     ]
    }
   ],
   "source": [
    "ic=complex(0,1)\n",
    "p=0\n",
    "size_freq=1024\n",
    "size_time=16\n",
    "Spec_test=np.zeros((size_freq,size_time),dtype=complex)\n",
    "Spec_test_fil=np.zeros((size_freq,size_time),dtype=complex)\n",
    "Spec_decoded=np.zeros((size_freq,size_time),dtype=complex)\n",
    "for i in range(size_freq):\n",
    "    for j in range(size_time):\n",
    "            Spec_test[i][j]=Xtest[p][i][j][0]*testmaxr[p]+Xtest[p][i][j][1]*ic*testmaxi[p]\n",
    "            Spec_test_fil[i][j]=Xtest_fil[p][i][j][0]*testmaxr_fil[p]+Xtest_fil[p][i][j][1]*ic*testmaxi_fil[p]\n",
    "            Spec_decoded[i][j]=decoded[p][i][j][0]*testmaxr[p]+decoded[p][i][j][1]*ic*testmaxi[p]\n",
    "            j=j+1 \n",
    "    i=i+1\n",
    "\n",
    "print(Spec_test.shape)"
   ]
  },
  {
   "cell_type": "code",
   "execution_count": 13,
   "metadata": {},
   "outputs": [
    {
     "data": {
      "text/plain": [
       "<matplotlib.colorbar.Colorbar at 0x188e5f56518>"
      ]
     },
     "execution_count": 13,
     "metadata": {},
     "output_type": "execute_result"
    },
    {
     "data": {
      "image/png": "[encoded data removed]",
      "text/plain": [
       "<Figure size 432x288 with 2 Axes>"
      ]
     },
     "metadata": {
      "needs_background": "light"
     },
     "output_type": "display_data"
    }
   ],
   "source": [
    "Spec_testdb= librosa.amplitude_to_db(abs(Spec_test))\n",
    "librosa.display.specshow(Spec_testdb, sr=8000, x_axis='time', y_axis='log')\n",
    "colorbar()"
   ]
  },
  {
   "cell_type": "code",
   "execution_count": 11,
   "metadata": {},
   "outputs": [
    {
     "data": {
      "text/plain": [
       "<matplotlib.colorbar.Colorbar at 0x188e5dfc3c8>"
      ]
     },
     "execution_count": 11,
     "metadata": {},
     "output_type": "execute_result"
    },
    {
     "data": {
      "image/png": "[encoded data removed]",
      "text/plain": [
       "<Figure size 432x288 with 2 Axes>"
      ]
     },
     "metadata": {
      "needs_background": "light"
     },
     "output_type": "display_data"
    }
   ],
   "source": [
    "Spec_testdb2= librosa.amplitude_to_db(abs(Spec_test_fil))\n",
    "\n",
    "librosa.display.specshow(Spec_testdb2, sr=8000, x_axis='time', y_axis='log')\n",
    "colorbar()\n"
   ]
  },
  {
   "cell_type": "code",
   "execution_count": 13,
   "metadata": {},
   "outputs": [
    {
     "ename": "NameError",
     "evalue": "name 'Spec_decoded' is not defined",
     "output_type": "error",
     "traceback": [
      "\u001b[1;31m---------------------------------------------------------------------------\u001b[0m",
      "\u001b[1;31mNameError\u001b[0m                                 Traceback (most recent call last)",
      "\u001b[1;32m<ipython-input-13-24c8b3fa62df>\u001b[0m in \u001b[0;36m<module>\u001b[1;34m\u001b[0m\n\u001b[1;32m----> 1\u001b[1;33m \u001b[0mSpec_testdb3\u001b[0m\u001b[1;33m=\u001b[0m \u001b[0mlibrosa\u001b[0m\u001b[1;33m.\u001b[0m\u001b[0mamplitude_to_db\u001b[0m\u001b[1;33m(\u001b[0m\u001b[0mabs\u001b[0m\u001b[1;33m(\u001b[0m\u001b[0mSpec_decoded\u001b[0m\u001b[1;33m)\u001b[0m\u001b[1;33m)\u001b[0m\u001b[1;33m\u001b[0m\u001b[1;33m\u001b[0m\u001b[0m\n\u001b[0m\u001b[0;32m      2\u001b[0m \u001b[0mplt\u001b[0m\u001b[1;33m.\u001b[0m\u001b[0mfigure\u001b[0m\u001b[1;33m(\u001b[0m\u001b[0mfigsize\u001b[0m\u001b[1;33m=\u001b[0m\u001b[1;33m(\u001b[0m\u001b[1;36m16\u001b[0m\u001b[1;33m,\u001b[0m \u001b[1;36m4\u001b[0m\u001b[1;33m)\u001b[0m\u001b[1;33m)\u001b[0m\u001b[1;33m\u001b[0m\u001b[1;33m\u001b[0m\u001b[0m\n\u001b[0;32m      3\u001b[0m \u001b[0mplt\u001b[0m\u001b[1;33m.\u001b[0m\u001b[0msubplot\u001b[0m\u001b[1;33m(\u001b[0m\u001b[1;36m1\u001b[0m\u001b[1;33m,\u001b[0m\u001b[1;36m2\u001b[0m\u001b[1;33m,\u001b[0m\u001b[1;36m1\u001b[0m\u001b[1;33m)\u001b[0m\u001b[1;33m\u001b[0m\u001b[1;33m\u001b[0m\u001b[0m\n\u001b[0;32m      4\u001b[0m \u001b[0mlibrosa\u001b[0m\u001b[1;33m.\u001b[0m\u001b[0mdisplay\u001b[0m\u001b[1;33m.\u001b[0m\u001b[0mspecshow\u001b[0m\u001b[1;33m(\u001b[0m\u001b[0mSpec_test\u001b[0m\u001b[1;33m,\u001b[0m \u001b[0msr\u001b[0m\u001b[1;33m=\u001b[0m\u001b[1;36m8000\u001b[0m\u001b[1;33m,\u001b[0m \u001b[0mx_axis\u001b[0m\u001b[1;33m=\u001b[0m\u001b[1;34m'time'\u001b[0m\u001b[1;33m,\u001b[0m \u001b[0my_axis\u001b[0m\u001b[1;33m=\u001b[0m\u001b[1;34m'hz'\u001b[0m\u001b[1;33m)\u001b[0m\u001b[1;33m\u001b[0m\u001b[1;33m\u001b[0m\u001b[0m\n\u001b[0;32m      5\u001b[0m \u001b[0mcolorbar\u001b[0m\u001b[1;33m(\u001b[0m\u001b[1;33m)\u001b[0m\u001b[1;33m\u001b[0m\u001b[1;33m\u001b[0m\u001b[0m\n",
      "\u001b[1;31mNameError\u001b[0m: name 'Spec_decoded' is not defined"
     ]
    }
   ],
   "source": [
    "Spec_testdb3= librosa.amplitude_to_db(abs(Spec_decoded))\n",
    "plt.figure(figsize=(16, 4))\n",
    "plt.subplot(1,2,1)\n",
    "librosa.display.specshow(Spec_test, sr=8000, x_axis='time', y_axis='hz')\n",
    "colorbar()\n",
    "plt.subplot(1,2,2)\n",
    "librosa.display.specshow(Spec_decoded, sr=8000, x_axis='time', y_axis='hz')\n",
    "colorbar()"
   ]
  },
  {
   "cell_type": "code",
   "execution_count": 17,
   "metadata": {},
   "outputs": [
    {
     "ename": "NameError",
     "evalue": "name 'Spec_decoded' is not defined",
     "output_type": "error",
     "traceback": [
      "\u001b[1;31m---------------------------------------------------------------------------\u001b[0m",
      "\u001b[1;31mNameError\u001b[0m                                 Traceback (most recent call last)",
      "\u001b[1;32m<ipython-input-17-9aaf38f7fedb>\u001b[0m in \u001b[0;36m<module>\u001b[1;34m\u001b[0m\n\u001b[0;32m      1\u001b[0m \u001b[0msr\u001b[0m\u001b[1;33m=\u001b[0m\u001b[1;36m8000\u001b[0m\u001b[1;33m\u001b[0m\u001b[1;33m\u001b[0m\u001b[0m\n\u001b[0;32m      2\u001b[0m \u001b[0maudio_path_record\u001b[0m\u001b[1;33m=\u001b[0m\u001b[1;34m\"C:\\\\Users\\\\joaro\\\\OneDrive\\\\Documents\\\\deep_learning_jupiter\\\\free_spoken_digit_dataset\\\\\"\u001b[0m\u001b[1;33m\u001b[0m\u001b[1;33m\u001b[0m\u001b[0m\n\u001b[1;32m----> 3\u001b[1;33m \u001b[0my\u001b[0m\u001b[1;33m=\u001b[0m\u001b[0mlibrosa\u001b[0m\u001b[1;33m.\u001b[0m\u001b[0mistft\u001b[0m\u001b[1;33m(\u001b[0m\u001b[0mSpec_decoded\u001b[0m\u001b[1;33m)\u001b[0m\u001b[1;33m\u001b[0m\u001b[1;33m\u001b[0m\u001b[0m\n\u001b[0m\u001b[0;32m      4\u001b[0m \u001b[1;33m\u001b[0m\u001b[0m\n\u001b[0;32m      5\u001b[0m \u001b[0maudio_path_record_out\u001b[0m\u001b[1;33m=\u001b[0m\u001b[0mos\u001b[0m\u001b[1;33m.\u001b[0m\u001b[0mpath\u001b[0m\u001b[1;33m.\u001b[0m\u001b[0mjoin\u001b[0m\u001b[1;33m(\u001b[0m\u001b[0maudio_path_record\u001b[0m\u001b[1;33m,\u001b[0m\u001b[1;34m\"0_jackson_0_reconstructed.wav\"\u001b[0m\u001b[1;33m)\u001b[0m\u001b[1;33m\u001b[0m\u001b[1;33m\u001b[0m\u001b[0m\n",
      "\u001b[1;31mNameError\u001b[0m: name 'Spec_decoded' is not defined"
     ]
    }
   ],
   "source": [
    "sr=8000\n",
    "y=librosa.istft(Spec_decoded)\n",
    "audio_path_record=\"C:\\\\Users\\\\joaro\\\\OneDrive\\\\Documents\\\\deep_learning_jupiter\\\\free_spoken_digit_dataset\\\\\"\n",
    "audio_path_record_out=os.path.join(audio_path_record,\"0_jackson_0_reconstructed.wav\")\n",
    "soundfile.write(audio_path_record_out,y,sr)\n",
    "ipd.Audio(audio_path_record_out)\n"
   ]
  },
  {
   "cell_type": "code",
   "execution_count": 21,
   "metadata": {},
   "outputs": [
    {
     "name": "stderr",
     "output_type": "stream",
     "text": [
      "C:\\Users\\joaro\\Anaconda3\\envs\\psychopy\\lib\\site-packages\\librosa\\core\\constantq.py:615: UserWarning: librosa.icqt is unstable, and subject to change in future versions. Please use with caution.\n",
      "  warnings.warn('librosa.icqt is unstable, and subject to change in future versions. '\n"
     ]
    },
    {
     "data": {
      "text/html": [
       "\n",
       "                <audio  controls=\"controls\" >\n",
       "                    <source src=\"data:audio/wav;base64,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\" type=\"audio/wav\" />\n",
       "                    Your browser does not support the audio element.\n",
       "                </audio>\n",
       "              "
      ],
      "text/plain": [
       "<IPython.lib.display.Audio object>"
      ]
     },
     "execution_count": 21,
     "metadata": {},
     "output_type": "execute_result"
    }
   ],
   "source": [
    "\n",
    "xtest=librosa.istft(Spec_test)\n",
    "audio_path_record_in=os.path.join(audio_path_record,\"0_jackson_0_normal.wav\")\n",
    "soundfile.write(audio_path_record_in,xtest,sr)\n",
    "ipd.Audio(audio_path_record_in)\n"
   ]
  },
  {
   "cell_type": "code",
   "execution_count": 19,
   "metadata": {},
   "outputs": [
    {
     "data": {
      "text/html": [
       "\n",
       "                <audio  controls=\"controls\" >\n",
       "                    <source src=\"data:audio/wav;base64,UklGRvIEAABXQVZFZm10IBAAAAABAAEAQB8AAIA+AAACABAAZGF0Yc4EAAC+/0MA4f/v/ycA4v8DABUA3/8YAP3/7v8ZAOj/EgD2//j/FwDm/wcADQDq/wwAAwDx/wkABwDp/xIABwDe/yQA8P/z/x8A2/8eAOz/BwADAPD/HgDY/x8A+v/q/x0A8P/9/wQACwDh/yMA7P/y/y8Av/8xAP7/x/9bALT/DgA/AID/mwB8/zYAOQBi/8kAU/9WABUAif+sAGD/TgAkAHr/tgBS/28A9/+e/5oAef87ABkArf9fAL7/AgBEAIz/bQDR/8r/lwA2/6oAw/+t/78AKv+PAOf/sf96AJL/RADh/wUA+/8gALH/agCv/wMAWwBh/54Atv+y/98A5v7cAKX/4/9ZAKL/OgD9/9L/NgDp/+j/NQDC/ysABwCs/5EAa/9RABoAcf/wANj+GAFC/zUAVAA///oADv+qAL3/3v9xAFH/ywBG/3gA3f/Q/3UAWP+yAHj/MAA+AE7/CwHi/sUA5f9q//4A+v63AMn/rP+3ADH/lgDV/7H/swAa/8kAp/+1/+UAvv5BARj/SwBmABP/CgFM/xYAfwAo/+oAL/+iAIv/WQCq/1kArf86AOv/4v9QAI//XADt/7j/fwB//1sAz/8PAAQA8v8GAA4A2v8zAMr/NQDF/zsA0P8aAPb/BQDw/yMAxf9CANz/4P9dAJL/RwD+/7T/kgBH/5oAz/+j/8wACP/cAHP/HgBNAGr/qQBx/1IA/v+y/3cAmf8pABIAy/9BALT/WQCi/0wA3v/k/1oAff+FAJf/NgAJAK7/jQBj/20A8v+o/5sAU/+QAJ//NQDk/w0AAADt/xsA6/8EAAoA5/8nANP/HQAFANX/QQC8/zUA4P8JAAYA7v8cAN3/HAD2//z//v8RAOj/BwAZAMn/PQDW/woADQDr/xIA6f8hANP/LADh/wkACgDk/ygAzP84AM//FgANANP/OgDI/yUA9P/v/yIA2/8ZAPb//P8HAPj/BgD0/xEA8f8BAAwA8P8HAAEA///5/wwA9//7/xEA7/8BABAA6v8LAAIA9/8EAP/////+/wQA+/8BAAIA/P8BAP//AwD5/wMAAwD6/wAABAD7/wAAAQABAPn/CQD3/wIABwD0/wQABgD2/wEABwD4////BgD6/wEAAQD8/wEAAQD8/wAABAD5/wIAAQD8/wEAAAAAAP////8BAP3/AAABAP3/AAACAPz/AQACAPz/AQACAP3/AAACAP3/AAACAP3/AAABAP3/AQABAP3/AAABAP3/AAABAP3/AAABAP7/AAAAAP7/AQD/////AAD/////AAAAAP////8AAP//AAD/////AAAAAAAA/////wAAAAD/////AAAAAAAA/////wAAAAAAAAAA/////wAAAAAAAAAAAAD///////8AAAAAAAD///////8AAAAAAAD///////8AAAAAAAD//////////wAAAAAAAP//////////AAAAAAAAAAAAAAAAAAD/////////////AAAAAAAAAAD///////8AAAAAAAAAAAAAAAD/////AAAAAAAAAAAAAAAA////////////////AAAAAAAAAAAAAP////8AAAAAAAAAAP///////////////wAAAAAAAAAA/////////////wAAAAAAAAAAAAA=\" type=\"audio/wav\" />\n",
       "                    Your browser does not support the audio element.\n",
       "                </audio>\n",
       "              "
      ],
      "text/plain": [
       "<IPython.lib.display.Audio object>"
      ]
     },
     "execution_count": 19,
     "metadata": {},
     "output_type": "execute_result"
    }
   ],
   "source": [
    "xtest_fil=librosa.istft(Spec_test_fil)\n",
    "audio_path_record_in_fil=os.path.join(audio_path_record,\"0_jackson_0_filtered.wav\")\n",
    "soundfile.write(audio_path_record_in_fil,xtest_fil,sr)\n",
    "ipd.Audio(audio_path_record_in_fil)"
   ]
  },
  {
   "cell_type": "code",
   "execution_count": 33,
   "metadata": {},
   "outputs": [],
   "source": [
    "old_spec=Spec_testdb3"
   ]
  },
  {
   "cell_type": "code",
   "execution_count": 21,
   "metadata": {},
   "outputs": [
    {
     "data": {
      "text/plain": [
       "array([   0.        ,    4.58757473,    9.17514946,   13.76272419,\n",
       "         18.35029892,   22.93787366,   27.52544839,   32.11302312,\n",
       "         36.70059785,   41.28817258,   45.87574731,   50.46332204,\n",
       "         55.05089677,   59.63847151,   64.22604624,   68.81362097,\n",
       "         73.4011957 ,   77.98877043,   82.57634516,   87.16391989,\n",
       "         91.75149462,   96.33906936,  100.92664409,  105.51421882,\n",
       "        110.10179355,  114.68936828,  119.27694301,  123.86451774,\n",
       "        128.45209247,  133.0396672 ,  137.62724194,  142.21481667,\n",
       "        146.8023914 ,  151.38996613,  155.97754086,  160.56511559,\n",
       "        165.15269032,  169.74026505,  174.32783979,  178.91541452,\n",
       "        183.50298925,  188.09056398,  192.67813871,  197.26571344,\n",
       "        201.85328817,  206.4408629 ,  211.02843764,  215.61601237,\n",
       "        220.2035871 ,  224.79116183,  229.37873656,  233.96631129,\n",
       "        238.55388602,  243.14146075,  247.72903548,  252.31661022,\n",
       "        256.90418495,  261.49175968,  266.07933441,  270.66690914,\n",
       "        275.25448387,  279.8420586 ,  284.42963333,  289.01720807,\n",
       "        293.6047828 ,  298.19235753,  302.77993226,  307.36750699,\n",
       "        311.95508172,  316.54265645,  321.13023118,  325.71780591,\n",
       "        330.30538065,  334.89295538,  339.48053011,  344.06810484,\n",
       "        348.65567957,  353.2432543 ,  357.83082903,  362.41840376,\n",
       "        367.0059785 ,  371.59355323,  376.18112796,  380.76870269,\n",
       "        385.35627742,  389.94385215,  394.53142688,  399.11900161,\n",
       "        403.70657635,  408.29415108,  412.88172581,  417.46930054,\n",
       "        422.05687527,  426.64445   ,  431.23202473,  435.81959946,\n",
       "        440.40717419,  444.99474893,  449.58232366,  454.16989839,\n",
       "        458.75747312,  463.34504785,  467.93262258,  472.52019731,\n",
       "        477.10777204,  481.69534678,  486.28292151,  490.87049624,\n",
       "        495.45807097,  500.0456457 ,  504.63322043,  509.22079516,\n",
       "        513.80836989,  518.39594463,  522.98351936,  527.57109409,\n",
       "        532.15866882,  536.74624355,  541.33381828,  545.92139301,\n",
       "        550.50896774,  555.09654247,  559.68411721,  564.27169194,\n",
       "        568.85926667,  573.4468414 ,  578.03441613,  582.62199086,\n",
       "        587.20956559,  591.79714032,  596.38471506,  600.97228979,\n",
       "        605.55986452,  610.14743925,  614.73501398,  619.32258871,\n",
       "        623.91016344,  628.49773817,  633.08531291,  637.67288764,\n",
       "        642.26046237,  646.8480371 ,  651.43561183,  656.02318656,\n",
       "        660.61076129,  665.19833602,  669.78591075,  674.37348549,\n",
       "        678.96106022,  683.54863495,  688.13620968,  692.72378441,\n",
       "        697.31135914,  701.89893387,  706.4865086 ,  711.07408334,\n",
       "        715.66165807,  720.2492328 ,  724.83680753,  729.42438226,\n",
       "        734.01195699,  738.59953172,  743.18710645,  747.77468118,\n",
       "        752.36225592,  756.94983065,  761.53740538,  766.12498011,\n",
       "        770.71255484,  775.30012957,  779.8877043 ,  784.47527903,\n",
       "        789.06285377,  793.6504285 ,  798.23800323,  802.82557796,\n",
       "        807.41315269,  812.00072742,  816.58830215,  821.17587688,\n",
       "        825.76345162,  830.35102635,  834.93860108,  839.52617581,\n",
       "        844.11375054,  848.70132527,  853.2889    ,  857.87647473,\n",
       "        862.46404946,  867.0516242 ,  871.63919893,  876.22677366,\n",
       "        880.81434839,  885.40192312,  889.98949785,  894.57707258,\n",
       "        899.16464731,  903.75222205,  908.33979678,  912.92737151,\n",
       "        917.51494624,  922.10252097,  926.6900957 ,  931.27767043,\n",
       "        935.86524516,  940.4528199 ,  945.04039463,  949.62796936,\n",
       "        954.21554409,  958.80311882,  963.39069355,  967.97826828,\n",
       "        972.56584301,  977.15341774,  981.74099248,  986.32856721,\n",
       "        990.91614194,  995.50371667, 1000.09415112, 1004.83686549,\n",
       "       1009.60207109, 1014.38987456, 1019.20038308, 1024.03370432,\n",
       "       1028.88994647, 1033.76921821, 1038.67162877, 1043.59728788,\n",
       "       1048.54630578, 1053.51879324, 1058.51486158, 1063.53462261,\n",
       "       1068.57818869, 1073.64567271, 1078.7371881 , 1083.85284882,\n",
       "       1088.99276937, 1094.1570648 , 1099.34585071, 1104.55924323,\n",
       "       1109.79735905, 1115.06031542, 1120.34823014, 1125.66122156,\n",
       "       1130.99940862, 1136.36291079, 1141.75184812, 1147.16634124,\n",
       "       1152.60651133, 1158.07248017, 1163.5643701 , 1169.08230404,\n",
       "       1174.6264055 , 1180.19679857, 1185.79360794, 1191.41695888,\n",
       "       1197.06697726, 1202.74378954, 1208.44752278, 1214.17830465,\n",
       "       1219.93626343, 1225.72152799, 1231.53422782, 1237.37449303,\n",
       "       1243.24245435, 1249.13824311, 1255.06199128, 1261.01383144,\n",
       "       1266.99389683, 1273.0023213 , 1279.03923932, 1285.10478602,\n",
       "       1291.19909717, 1297.32230918, 1303.47455909, 1309.65598463,\n",
       "       1315.86672414, 1322.10691664, 1328.37670181, 1334.67621997,\n",
       "       1341.00561214, 1347.36501999, 1353.75458584, 1360.17445274,\n",
       "       1366.62476435, 1373.10566508, 1379.61729997, 1386.15981478,\n",
       "       1392.73335595, 1399.33807061, 1405.9741066 , 1412.64161244,\n",
       "       1419.34073739, 1426.07163138, 1432.83444507, 1439.62932984,\n",
       "       1446.45643777, 1453.31592168, 1460.20793509, 1467.13263228,\n",
       "       1474.09016824, 1481.0806987 , 1488.10438013, 1495.16136973,\n",
       "       1502.25182547, 1509.37590605, 1516.53377093, 1523.72558032,\n",
       "       1530.9514952 , 1538.21167731, 1545.50628914, 1552.83549397,\n",
       "       1560.19945586, 1567.59833963, 1575.03231088, 1582.50153602,\n",
       "       1590.00618223, 1597.54641748, 1605.12241054, 1612.73433099,\n",
       "       1620.38234921, 1628.06663638, 1635.7873645 , 1643.54470638,\n",
       "       1651.33883565, 1659.16992677, 1667.03815502, 1674.94369652,\n",
       "       1682.88672821, 1690.86742789, 1698.88597419, 1706.94254657,\n",
       "       1715.03732539, 1723.17049181, 1731.34222789, 1739.55271652,\n",
       "       1747.8021415 , 1756.09068746, 1764.41853992, 1772.78588529,\n",
       "       1781.19291085, 1789.63980478, 1798.12675615, 1806.65395491,\n",
       "       1815.22159193, 1823.82985898, 1832.47894874, 1841.1690548 ,\n",
       "       1849.90037168, 1858.67309479, 1867.48742051, 1876.34354612,\n",
       "       1885.24166985, 1894.18199087, 1903.16470929, 1912.19002616,\n",
       "       1921.2581435 , 1930.36926429, 1939.52359245, 1948.72133289,\n",
       "       1957.96269147, 1967.24787506, 1976.57709147, 1985.95054952,\n",
       "       1995.36845903, 2004.83103078, 2014.33847658, 2023.89100924,\n",
       "       2033.48884257, 2043.13219139, 2052.82127156, 2062.55629994,\n",
       "       2072.33749444, 2082.16507397, 2092.03925853, 2101.96026911,\n",
       "       2111.92832778, 2121.94365765, 2132.00648291, 2142.11702877,\n",
       "       2152.27552155, 2162.48218863, 2172.73725846, 2183.04096057,\n",
       "       2193.3935256 , 2203.79518527, 2214.24617239, 2224.74672089,\n",
       "       2235.29706581, 2245.89744329, 2256.5480906 , 2267.24924613,\n",
       "       2278.00114941, 2288.80404109, 2299.65816298, 2310.56375802,\n",
       "       2321.52107032, 2332.53034513, 2343.59182886, 2354.70576912,\n",
       "       2365.87241466, 2377.09201542, 2388.36482253, 2399.69108832,\n",
       "       2411.07106629, 2422.50501117, 2433.99317887, 2445.53582655,\n",
       "       2457.13321255, 2468.78559646, 2480.4932391 , 2492.25640252,\n",
       "       2504.07535001, 2515.95034611, 2527.88165663, 2539.86954861,\n",
       "       2551.91429039, 2564.01615157, 2576.17540301, 2588.39231688,\n",
       "       2600.66716663, 2613.000227  , 2625.39177405, 2637.84208513,\n",
       "       2650.35143893, 2662.92011543, 2675.54839596, 2688.23656318,\n",
       "       2700.98490109, 2713.79369504, 2726.66323171, 2739.59379918,\n",
       "       2752.58568686, 2765.63918555, 2778.75458743, 2791.93218606,\n",
       "       2805.17227639, 2818.47515478, 2831.84111897, 2845.27046816,\n",
       "       2858.76350291, 2872.32052525, 2885.94183862, 2899.62774791,\n",
       "       2913.37855944, 2927.19458101, 2941.07612185, 2955.02349268,\n",
       "       2969.03700568, 2983.1169745 , 2997.26371432, 3011.47754176,\n",
       "       3025.75877498, 3040.10773363, 3054.52473889, 3069.01011345,\n",
       "       3083.56418154, 3098.18726892, 3112.87970289, 3127.64181232,\n",
       "       3142.47392763, 3157.37638081, 3172.3495054 , 3187.39363657,\n",
       "       3202.50911104, 3217.69626713, 3232.95544479, 3248.28698556,\n",
       "       3263.69123259, 3279.1685307 , 3294.7192263 , 3310.34366746,\n",
       "       3326.04220391, 3341.81518702, 3357.66296985, 3373.58590711,\n",
       "       3389.5843552 , 3405.65867221, 3421.80921795, 3438.0363539 ,\n",
       "       3454.34044327, 3470.721851  , 3487.18094376, 3503.71808995,\n",
       "       3520.33365971, 3537.02802495, 3553.80155935, 3570.65463834,\n",
       "       3587.58763914, 3604.60094077, 3621.69492404, 3638.86997155,\n",
       "       3656.12646774, 3673.46479885, 3690.88535298, 3708.38852004,\n",
       "       3725.97469181, 3743.64426192, 3761.39762586, 3779.23518101,\n",
       "       3797.15732662, 3815.16446385, 3833.25699574, 3851.43532727,\n",
       "       3869.69986532, 3888.0510187 , 3906.48919817, 3925.01481642,\n",
       "       3943.62828811, 3962.33002988, 3981.12046031, 4000.        ])"
      ]
     },
     "execution_count": 21,
     "metadata": {},
     "output_type": "execute_result"
    }
   ],
   "source": [
    "librosa.core.mel_frequencies(n_mels=512, fmin=0.0, fmax=4000)"
   ]
  },
  {
   "cell_type": "code",
   "execution_count": null,
   "metadata": {},
   "outputs": [],
   "source": []
  }
 ],
 "metadata": {
  "kernelspec": {
   "display_name": "Python 3",
   "language": "python",
   "name": "python3"
  },
  "language_info": {
   "codemirror_mode": {
    "name": "ipython",
    "version": 3
   },
   "file_extension": ".py",
   "mimetype": "text/x-python",
   "name": "python",
   "nbconvert_exporter": "python",
   "pygments_lexer": "ipython3",
   "version": "3.6.8"
  }
 },
 "nbformat": 4,
 "nbformat_minor": 2
}
