{
 "cells": [
  {
   "cell_type": "code",
   "execution_count": 1,
   "metadata": {},
   "outputs": [
    {
     "name": "stderr",
     "output_type": "stream",
     "text": [
      "Using TensorFlow backend.\n"
     ]
    }
   ],
   "source": [
    "import numpy as np\n",
    "import scipy.signal\n",
    "from matplotlib.pyplot import *\n",
    "import librosa\n",
    "import os\n",
    "import matplotlib.pyplot as plt\n",
    "import librosa.display\n",
    "from filter_function import *\n",
    "from spectrogram import *\n",
    "from wav_preprocessing import *\n",
    "import matplotlib.image as mpimg\n",
    "import glob\n",
    "from keras.models import Sequential,Model\n",
    "from keras.layers import Dense, Conv2D, Flatten,MaxPooling2D, UpSampling2D, Input,Dropout,Conv2DTranspose,Concatenate\n",
    "from keras.layers import  Conv1D, MaxPooling1D, UpSampling1D,Concatenate, PReLU\n",
    "from keras import optimizers"
   ]
  },
  {
   "cell_type": "code",
   "execution_count": 2,
   "metadata": {},
   "outputs": [],
   "source": [
    "original_dataset_dir = \"C:\\\\Users\\\\joaro\\\\OneDrive\\\\Documents\\\\deep_learning_jupiter\\\\free_spoken_digit_dataset\\\\recordings\\\\\"\n",
    "\n",
    "base_dir = \"C:\\\\Users\\\\joaro\\\\OneDrive\\\\Documents\\\\deep_learning_jupiter\\\\free_spoken_digit_dataset\\\\super_resolution_re_im\"\n",
    "train_dir = os.path.join(base_dir, 'train\\\\')\n",
    "\n",
    "test_dir = os.path.join(base_dir, 'test\\\\')\n",
    "train_dir_filtré=os.path.join(base_dir, 'train_dir_filtré\\\\')\n",
    "test_dir_filtré=os.path.join(base_dir, 'test_dir_filtré\\\\')"
   ]
  },
  {
   "cell_type": "code",
   "execution_count": 3,
   "metadata": {},
   "outputs": [
    {
     "name": "stdout",
     "output_type": "stream",
     "text": [
      "processing C:\\Users\\joaro\\OneDrive\\Documents\\deep_learning_jupiter\\free_spoken_digit_dataset\\super_resolution_re_im\\test\\\n",
      "processing C:\\Users\\joaro\\OneDrive\\Documents\\deep_learning_jupiter\\free_spoken_digit_dataset\\super_resolution_re_im\\train\\\n",
      "C:\\Users\\joaro\\OneDrive\\Documents\\deep_learning_jupiter\\free_spoken_digit_dataset\\super_resolution_re_im\\train\\5_theo_36.wav\n",
      "C:\\Users\\joaro\\OneDrive\\Documents\\deep_learning_jupiter\\free_spoken_digit_dataset\\super_resolution_re_im\\train\\7_theo_36.wav\n",
      "C:\\Users\\joaro\\OneDrive\\Documents\\deep_learning_jupiter\\free_spoken_digit_dataset\\super_resolution_re_im\\train\\9_theo_16.wav\n",
      "C:\\Users\\joaro\\OneDrive\\Documents\\deep_learning_jupiter\\free_spoken_digit_dataset\\super_resolution_re_im\\train\\9_theo_28.wav\n"
     ]
    }
   ],
   "source": [
    "Xtest,max_test= dir_to_wav_array(test_dir)\n",
    "Xtrain,max_train= dir_to_wav_array(train_dir)"
   ]
  },
  {
   "cell_type": "code",
   "execution_count": null,
   "metadata": {},
   "outputs": [],
   "source": [
    "fce=0.04535#sr=22050\n",
    "ftype=\"butter\"\n",
    "ordre=4\n",
    "b,a = creer_filter(fce,\"lowpass\",ftype,ordre)\n",
    "filter_path(train_dir,train_dir_filtré,b,a)\n",
    "filter_path(test_dir,test_dir_filtré,b,a)"
   ]
  },
  {
   "cell_type": "code",
   "execution_count": 4,
   "metadata": {},
   "outputs": [
    {
     "name": "stdout",
     "output_type": "stream",
     "text": [
      "(200, 8000, 1, 1)\n"
     ]
    }
   ],
   "source": [
    "print(Xtest.shape)"
   ]
  },
  {
   "cell_type": "code",
   "execution_count": 5,
   "metadata": {},
   "outputs": [
    {
     "name": "stdout",
     "output_type": "stream",
     "text": [
      "processing C:\\Users\\joaro\\OneDrive\\Documents\\deep_learning_jupiter\\free_spoken_digit_dataset\\super_resolution_re_im\\train_dir_filtré\\\n",
      "C:\\Users\\joaro\\OneDrive\\Documents\\deep_learning_jupiter\\free_spoken_digit_dataset\\super_resolution_re_im\\train_dir_filtré\\5_theo_36.wav\n",
      "C:\\Users\\joaro\\OneDrive\\Documents\\deep_learning_jupiter\\free_spoken_digit_dataset\\super_resolution_re_im\\train_dir_filtré\\7_theo_36.wav\n",
      "C:\\Users\\joaro\\OneDrive\\Documents\\deep_learning_jupiter\\free_spoken_digit_dataset\\super_resolution_re_im\\train_dir_filtré\\9_theo_16.wav\n",
      "C:\\Users\\joaro\\OneDrive\\Documents\\deep_learning_jupiter\\free_spoken_digit_dataset\\super_resolution_re_im\\train_dir_filtré\\9_theo_28.wav\n",
      "processing C:\\Users\\joaro\\OneDrive\\Documents\\deep_learning_jupiter\\free_spoken_digit_dataset\\super_resolution_re_im\\test_dir_filtré\\\n"
     ]
    }
   ],
   "source": [
    "Xtrain_fil,max_train_fil=dir_to_wav_array(train_dir_filtré)\n",
    "Xtest_fil,max_test_fil=dir_to_wav_array(test_dir_filtré)"
   ]
  },
  {
   "cell_type": "code",
   "execution_count": 79,
   "metadata": {},
   "outputs": [
    {
     "name": "stdout",
     "output_type": "stream",
     "text": [
      "__________________________________________________________________________________________________\n",
      "Layer (type)                    Output Shape         Param #     Connected to                     \n",
      "==================================================================================================\n",
      "input_11 (InputLayer)           (None, 8000, 1, 1)   0                                            \n",
      "__________________________________________________________________________________________________\n",
      "conv2d_49 (Conv2D)              (None, 8000, 1, 32)  128         input_11[0][0]                   \n",
      "__________________________________________________________________________________________________\n",
      "prelu1 (PReLU)                  (None, 8000, 1, 32)  32          conv2d_49[0][0]                  \n",
      "__________________________________________________________________________________________________\n",
      "max_pooling2d_21 (MaxPooling2D) (None, 4000, 1, 32)  0           prelu1[0][0]                     \n",
      "__________________________________________________________________________________________________\n",
      "conv2d_50 (Conv2D)              (None, 4000, 1, 32)  3104        max_pooling2d_21[0][0]           \n",
      "__________________________________________________________________________________________________\n",
      "prelu3 (PReLU)                  (None, 4000, 1, 32)  32          conv2d_50[0][0]                  \n",
      "__________________________________________________________________________________________________\n",
      "max_pooling2d_22 (MaxPooling2D) (None, 2000, 1, 32)  0           prelu3[0][0]                     \n",
      "__________________________________________________________________________________________________\n",
      "conv2d_51 (Conv2D)              (None, 2000, 1, 32)  3104        max_pooling2d_22[0][0]           \n",
      "__________________________________________________________________________________________________\n",
      "prelu4 (PReLU)                  (None, 2000, 1, 32)  32          conv2d_51[0][0]                  \n",
      "__________________________________________________________________________________________________\n",
      "up_sampling2d_20 (UpSampling2D) (None, 4000, 1, 32)  0           prelu4[0][0]                     \n",
      "__________________________________________________________________________________________________\n",
      "concatenate_12 (Concatenate)    (None, 4000, 1, 64)  0           up_sampling2d_20[0][0]           \n",
      "                                                                 prelu3[0][0]                     \n",
      "__________________________________________________________________________________________________\n",
      "conv2d_52 (Conv2D)              (None, 4000, 1, 32)  6176        concatenate_12[0][0]             \n",
      "__________________________________________________________________________________________________\n",
      "prelu8 (PReLU)                  (None, 4000, 1, 32)  32          conv2d_52[0][0]                  \n",
      "__________________________________________________________________________________________________\n",
      "up_sampling2d_21 (UpSampling2D) (None, 8000, 1, 32)  0           prelu8[0][0]                     \n",
      "__________________________________________________________________________________________________\n",
      "conv2d_53 (Conv2D)              (None, 8000, 1, 1)   97          up_sampling2d_21[0][0]           \n",
      "__________________________________________________________________________________________________\n",
      "prelu9 (PReLU)                  (None, 8000, 1, 1)   1           conv2d_53[0][0]                  \n",
      "==================================================================================================\n",
      "Total params: 12,738\n",
      "Trainable params: 12,738\n",
      "Non-trainable params: 0\n",
      "__________________________________________________________________________________________________\n"
     ]
    }
   ],
   "source": [
    "#réseau audio net\n",
    "input_img = Input(shape=(8000,1,1))\n",
    "\n",
    "conv1= Conv2D(32, (3, 1), padding='same',strides=1)(input_img)\n",
    "conv1 = PReLU(shared_axes=[1, 2], name='prelu1')(conv1)\n",
    "max1= MaxPooling2D((2, 1), padding='same')(conv1)\n",
    "\n",
    "conv3 = Conv2D(32, (3, 1), padding='same',strides=1)(max1)\n",
    "conv3 = PReLU(shared_axes=[1, 2], name='prelu3')(conv3)              \n",
    "encoded = MaxPooling2D((2, 1), padding='same')(conv3)\n",
    "x = Conv2D(32, (3, 1), padding='same',strides=1)(encoded)\n",
    "x = PReLU(shared_axes=[1, 2], name='prelu4')(x)\n",
    "\n",
    "\n",
    "x = UpSampling2D((2, 1))(x)\n",
    "merge2=Concatenate(axis=-1)([x,conv3])\n",
    "x = Conv2D(32, (3, 1), padding='same',strides=1)(merge2)\n",
    "x = PReLU(shared_axes=[1, 2], name='prelu8')(x)\n",
    "# x=Dropout(0.5)(x)\n",
    "x = UpSampling2D((2, 1))(x)\n",
    "# merge1=Concatenate(axis=-1)([x,conv1])\n",
    "decoded = Conv2D(1, (3, 1), padding='same',strides=1)(x)\n",
    "decoded = PReLU(shared_axes=[1, 2], name='prelu9')(decoded)\n",
    "# decoded=Dropout(0.5)(decoded)\n",
    "autoencoder = Model(input_img, decoded)\n",
    "autoencoder.compile(optimizer=optimizers.Adam(lr=0.001), loss='logcosh')\n",
    "#optimizer=optimizers.SGD(lr=0.0001, momentum=0.9, decay=0.0, nesterov=False)\n",
    "autoencoder.summary()"
   ]
  },
  {
   "cell_type": "code",
   "execution_count": 104,
   "metadata": {
    "scrolled": true
   },
   "outputs": [
    {
     "name": "stdout",
     "output_type": "stream",
     "text": [
      "Train on 1800 samples, validate on 200 samples\n",
      "Epoch 1/20\n",
      "1800/1800 [==============================] - 8s 4ms/step - loss: 0.0482 - val_loss: 0.0313\n",
      "Epoch 2/20\n",
      "1800/1800 [==============================] - 7s 4ms/step - loss: 0.0445 - val_loss: 0.0307\n",
      "Epoch 3/20\n",
      "1800/1800 [==============================] - 7s 4ms/step - loss: 0.0436 - val_loss: 0.0300\n",
      "Epoch 4/20\n",
      "1800/1800 [==============================] - 7s 4ms/step - loss: 0.0443 - val_loss: 0.0294\n",
      "Epoch 5/20\n",
      "1800/1800 [==============================] - 7s 4ms/step - loss: 0.0430 - val_loss: 0.0293\n",
      "Epoch 6/20\n",
      "1800/1800 [==============================] - 7s 4ms/step - loss: 0.0413 - val_loss: 0.0283\n",
      "Epoch 7/20\n",
      "1800/1800 [==============================] - 7s 4ms/step - loss: 0.0405 - val_loss: 0.0275\n",
      "Epoch 8/20\n",
      "1800/1800 [==============================] - 7s 4ms/step - loss: 0.0410 - val_loss: 0.0287\n",
      "Epoch 9/20\n",
      "1800/1800 [==============================] - 7s 4ms/step - loss: 0.0389 - val_loss: 0.0265\n",
      "Epoch 10/20\n",
      "1800/1800 [==============================] - 7s 4ms/step - loss: 0.0381 - val_loss: 0.0258\n",
      "Epoch 11/20\n",
      "1800/1800 [==============================] - 7s 4ms/step - loss: 0.0375 - val_loss: 0.0255\n",
      "Epoch 12/20\n",
      "1800/1800 [==============================] - 7s 4ms/step - loss: 0.0380 - val_loss: 0.0250\n",
      "Epoch 13/20\n",
      "1800/1800 [==============================] - 7s 4ms/step - loss: 0.0380 - val_loss: 0.0272\n",
      "Epoch 14/20\n",
      "1800/1800 [==============================] - 7s 4ms/step - loss: 0.0364 - val_loss: 0.0241\n",
      "Epoch 15/20\n",
      "1800/1800 [==============================] - 7s 4ms/step - loss: 0.0351 - val_loss: 0.0237\n",
      "Epoch 16/20\n",
      "1800/1800 [==============================] - 7s 4ms/step - loss: 0.0345 - val_loss: 0.0245\n",
      "Epoch 17/20\n",
      "1800/1800 [==============================] - 7s 4ms/step - loss: 0.0341 - val_loss: 0.0230\n",
      "Epoch 18/20\n",
      "1800/1800 [==============================] - 7s 4ms/step - loss: 0.0339 - val_loss: 0.0238\n",
      "Epoch 19/20\n",
      "1800/1800 [==============================] - 7s 4ms/step - loss: 0.0331 - val_loss: 0.0224\n",
      "Epoch 20/20\n",
      "1800/1800 [==============================] - 7s 4ms/step - loss: 0.0325 - val_loss: 0.0219\n"
     ]
    },
    {
     "data": {
      "text/plain": [
       "<keras.callbacks.History at 0x23159cd6320>"
      ]
     },
     "execution_count": 104,
     "metadata": {},
     "output_type": "execute_result"
    }
   ],
   "source": [
    "G=100\n",
    "autoencoder.fit(Xtrain_fil*G,Xtrain*G,epochs=20,\n",
    "                batch_size=20,\n",
    "                shuffle=True,\n",
    "                validation_data=(Xtest_fil*G, Xtest*G))"
   ]
  },
  {
   "cell_type": "code",
   "execution_count": 105,
   "metadata": {},
   "outputs": [],
   "source": [
    "decoded = autoencoder.predict(Xtest_fil)"
   ]
  },
  {
   "cell_type": "code",
   "execution_count": 112,
   "metadata": {},
   "outputs": [
    {
     "data": {
      "text/html": [
       "\n",
       "                <audio  controls=\"controls\" >\n",
       "                    <source src=\"data:audio/wav;base64,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\" type=\"audio/wav\" />\n",
       "                    Your browser does not support the audio element.\n",
       "                </audio>\n",
       "              "
      ],
      "text/plain": [
       "<IPython.lib.display.Audio object>"
      ]
     },
     "execution_count": 112,
     "metadata": {},
     "output_type": "execute_result"
    }
   ],
   "source": [
    "p=180\n",
    "sr=8000\n",
    "#indice to display\n",
    "xtest=np.reshape(Xtest[p],(8000))\n",
    "audio_path_record=\"C:\\\\Users\\\\joaro\\\\OneDrive\\\\Documents\\\\deep_learning_jupiter\\\\free_spoken_digit_dataset\\\\\"\n",
    "audio_path_record_in=os.path.join(audio_path_record,\"0_jackson_0_wav_test.wav\")\n",
    "soundfile.write(audio_path_record_in,xtest,sr)\n",
    "ipd.Audio(audio_path_record_in)"
   ]
  },
  {
   "cell_type": "code",
   "execution_count": 117,
   "metadata": {},
   "outputs": [
    {
     "name": "stdout",
     "output_type": "stream",
     "text": [
      "[[[-0.0067097 ]]\n",
      "\n",
      " [[-0.01107203]]\n",
      "\n",
      " [[-0.00886711]]\n",
      "\n",
      " ...\n",
      "\n",
      " [[ 0.        ]]\n",
      "\n",
      " [[ 0.        ]]\n",
      "\n",
      " [[ 0.        ]]]\n"
     ]
    }
   ],
   "source": [
    "print(Xtest[p])"
   ]
  },
  {
   "cell_type": "code",
   "execution_count": 114,
   "metadata": {},
   "outputs": [
    {
     "name": "stdout",
     "output_type": "stream",
     "text": [
      "[[[ 0.03864403]]\n",
      "\n",
      " [[ 0.01705245]]\n",
      "\n",
      " [[-0.01888631]]\n",
      "\n",
      " ...\n",
      "\n",
      " [[-0.07647765]]\n",
      "\n",
      " [[-0.04984839]]\n",
      "\n",
      " [[-0.03538423]]]\n"
     ]
    }
   ],
   "source": [
    "print(decoded[p])"
   ]
  },
  {
   "cell_type": "code",
   "execution_count": 115,
   "metadata": {},
   "outputs": [
    {
     "data": {
      "text/html": [
       "\n",
       "                <audio  controls=\"controls\" >\n",
       "                    <source src=\"data:audio/wav;base64,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\" type=\"audio/wav\" />\n",
       "                    Your browser does not support the audio element.\n",
       "                </audio>\n",
       "              "
      ],
      "text/plain": [
       "<IPython.lib.display.Audio object>"
      ]
     },
     "execution_count": 115,
     "metadata": {},
     "output_type": "execute_result"
    }
   ],
   "source": [
    "y=np.reshape(decoded[p],(8000))\n",
    "audio_path_record_out=os.path.join(audio_path_record,\"0_jackson_0_wav_reconstructed.wav\")\n",
    "soundfile.write(audio_path_record_out,y,sr)\n",
    "ipd.Audio(audio_path_record_out)"
   ]
  },
  {
   "cell_type": "code",
   "execution_count": 116,
   "metadata": {},
   "outputs": [
    {
     "data": {
      "text/html": [
       "\n",
       "                <audio  controls=\"controls\" >\n",
       "                    <source src=\"data:audio/wav;base64,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\" type=\"audio/wav\" />\n",
       "                    Your browser does not support the audio element.\n",
       "                </audio>\n",
       "              "
      ],
      "text/plain": [
       "<IPython.lib.display.Audio object>"
      ]
     },
     "execution_count": 116,
     "metadata": {},
     "output_type": "execute_result"
    }
   ],
   "source": [
    "xtest_fil=np.reshape(Xtest_fil[p],(8000))\n",
    "audio_path_record_in_fil=os.path.join(audio_path_record,\"0_jackson_0_filtered.wav\")\n",
    "soundfile.write(audio_path_record_in_fil,xtest_fil,sr)\n",
    "ipd.Audio(audio_path_record_in_fil)"
   ]
  },
  {
   "cell_type": "code",
   "execution_count": 111,
   "metadata": {},
   "outputs": [
    {
     "name": "stdout",
     "output_type": "stream",
     "text": [
      "2.3181293763254806e-06\n"
     ]
    }
   ],
   "source": [
    "import sklearn\n",
    "error=sklearn.metrics.mean_squared_error(xtest,y)\n",
    "print(error)"
   ]
  },
  {
   "cell_type": "code",
   "execution_count": null,
   "metadata": {},
   "outputs": [],
   "source": []
  }
 ],
 "metadata": {
  "kernelspec": {
   "display_name": "Python 3",
   "language": "python",
   "name": "python3"
  },
  "language_info": {
   "codemirror_mode": {
    "name": "ipython",
    "version": 3
   },
   "file_extension": ".py",
   "mimetype": "text/x-python",
   "name": "python",
   "nbconvert_exporter": "python",
   "pygments_lexer": "ipython3",
   "version": "3.6.8"
  }
 },
 "nbformat": 4,
 "nbformat_minor": 2
}
