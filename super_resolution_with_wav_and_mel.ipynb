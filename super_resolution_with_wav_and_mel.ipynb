{
 "cells": [
  {
   "cell_type": "code",
   "execution_count": 2,
   "metadata": {},
   "outputs": [
    {
     "name": "stderr",
     "output_type": "stream",
     "text": [
      "Using TensorFlow backend.\n"
     ]
    }
   ],
   "source": [
    "import numpy as np\n",
    "import scipy.signal\n",
    "from matplotlib.pyplot import *\n",
    "import librosa\n",
    "import os\n",
    "import matplotlib.pyplot as plt\n",
    "import librosa.display\n",
    "from filter_function import *\n",
    "from spectrogram import *\n",
    "from wav_preprocessing import *\n",
    "import matplotlib.image as mpimg\n",
    "import glob\n",
    "from keras.models import Sequential,Model,load_model\n",
    "from keras.layers import Dense, Conv2D, Flatten,MaxPooling2D, UpSampling2D, Input,Dropout,Conv2DTranspose,Concatenate\n",
    "from keras.layers import  Conv1D, MaxPooling1D, UpSampling1D,Concatenate, PReLU\n",
    "from keras import optimizers\n",
    "from error_measure import *"
   ]
  },
  {
   "cell_type": "code",
   "execution_count": 3,
   "metadata": {},
   "outputs": [],
   "source": [
    "original_dataset_dir = \"C:\\\\Users\\\\joaro\\\\OneDrive\\\\Documents\\\\deep_learning_jupiter\\\\free_spoken_digit_dataset\\\\recordings\\\\\"\n",
    "\n",
    "base_dir = \"C:\\\\Users\\\\joaro\\\\OneDrive\\\\Documents\\\\deep_learning_jupiter\\\\free_spoken_digit_dataset\\\\super_resolution_re_im\"\n",
    "train_dir = os.path.join(base_dir, 'train\\\\')\n",
    "\n",
    "test_dir = os.path.join(base_dir, 'test\\\\')\n",
    "train_dir_filtré=os.path.join(base_dir, 'train_dir_filtré\\\\')\n",
    "test_dir_filtré=os.path.join(base_dir, 'test_dir_filtré\\\\')"
   ]
  },
  {
   "cell_type": "code",
   "execution_count": 4,
   "metadata": {},
   "outputs": [
    {
     "name": "stdout",
     "output_type": "stream",
     "text": [
      "processing C:\\Users\\joaro\\OneDrive\\Documents\\deep_learning_jupiter\\free_spoken_digit_dataset\\super_resolution_re_im\\test\\\n",
      "processing C:\\Users\\joaro\\OneDrive\\Documents\\deep_learning_jupiter\\free_spoken_digit_dataset\\super_resolution_re_im\\train\\\n",
      "C:\\Users\\joaro\\OneDrive\\Documents\\deep_learning_jupiter\\free_spoken_digit_dataset\\super_resolution_re_im\\train\\5_theo_36.wav\n",
      "C:\\Users\\joaro\\OneDrive\\Documents\\deep_learning_jupiter\\free_spoken_digit_dataset\\super_resolution_re_im\\train\\7_theo_36.wav\n",
      "C:\\Users\\joaro\\OneDrive\\Documents\\deep_learning_jupiter\\free_spoken_digit_dataset\\super_resolution_re_im\\train\\9_theo_16.wav\n",
      "C:\\Users\\joaro\\OneDrive\\Documents\\deep_learning_jupiter\\free_spoken_digit_dataset\\super_resolution_re_im\\train\\9_theo_28.wav\n"
     ]
    }
   ],
   "source": [
    "Xtest,max_test= dir_to_wav_array(test_dir)\n",
    "Xtrain,max_train= dir_to_wav_array(train_dir)"
   ]
  },
  {
   "cell_type": "code",
   "execution_count": 5,
   "metadata": {},
   "outputs": [
    {
     "name": "stdout",
     "output_type": "stream",
     "text": [
      "processing C:\\Users\\joaro\\OneDrive\\Documents\\deep_learning_jupiter\\free_spoken_digit_dataset\\super_resolution_re_im\\train\\\n",
      "processing C:\\Users\\joaro\\OneDrive\\Documents\\deep_learning_jupiter\\free_spoken_digit_dataset\\super_resolution_re_im\\test\\\n"
     ]
    }
   ],
   "source": [
    "fce=0.1814#sr=22050\n",
    "ftype=\"butter\"\n",
    "ordre=2\n",
    "b,a = creer_filter(fce,\"highpass\",ftype,ordre)\n",
    "filter_path(train_dir,train_dir_filtré,b,a)\n",
    "filter_path(test_dir,test_dir_filtré,b,a)"
   ]
  },
  {
   "cell_type": "code",
   "execution_count": 6,
   "metadata": {},
   "outputs": [
    {
     "name": "stdout",
     "output_type": "stream",
     "text": [
      "(200, 8000, 1, 1)\n"
     ]
    }
   ],
   "source": [
    "print(Xtest.shape)"
   ]
  },
  {
   "cell_type": "code",
   "execution_count": 7,
   "metadata": {},
   "outputs": [
    {
     "name": "stdout",
     "output_type": "stream",
     "text": [
      "processing C:\\Users\\joaro\\OneDrive\\Documents\\deep_learning_jupiter\\free_spoken_digit_dataset\\super_resolution_re_im\\train_dir_filtré\\\n",
      "C:\\Users\\joaro\\OneDrive\\Documents\\deep_learning_jupiter\\free_spoken_digit_dataset\\super_resolution_re_im\\train_dir_filtré\\5_theo_36.wav\n",
      "C:\\Users\\joaro\\OneDrive\\Documents\\deep_learning_jupiter\\free_spoken_digit_dataset\\super_resolution_re_im\\train_dir_filtré\\7_theo_36.wav\n",
      "C:\\Users\\joaro\\OneDrive\\Documents\\deep_learning_jupiter\\free_spoken_digit_dataset\\super_resolution_re_im\\train_dir_filtré\\9_theo_16.wav\n",
      "C:\\Users\\joaro\\OneDrive\\Documents\\deep_learning_jupiter\\free_spoken_digit_dataset\\super_resolution_re_im\\train_dir_filtré\\9_theo_28.wav\n",
      "processing C:\\Users\\joaro\\OneDrive\\Documents\\deep_learning_jupiter\\free_spoken_digit_dataset\\super_resolution_re_im\\test_dir_filtré\\\n"
     ]
    }
   ],
   "source": [
    "Xtrain_fil,max_train_fil=dir_to_wav_array(train_dir_filtré)\n",
    "Xtest_fil,max_test_fil=dir_to_wav_array(test_dir_filtré)"
   ]
  },
  {
   "cell_type": "code",
   "execution_count": 8,
   "metadata": {
    "scrolled": true
   },
   "outputs": [
    {
     "name": "stdout",
     "output_type": "stream",
     "text": [
      "WARNING:tensorflow:From C:\\Users\\joaro\\Anaconda3\\envs\\psychopy\\lib\\site-packages\\tensorflow\\python\\framework\\op_def_library.py:263: colocate_with (from tensorflow.python.framework.ops) is deprecated and will be removed in a future version.\n",
      "Instructions for updating:\n",
      "Colocations handled automatically by placer.\n",
      "_________________________________________________________________\n",
      "Layer (type)                 Output Shape              Param #   \n",
      "=================================================================\n",
      "input_1 (InputLayer)         (None, 8000, 1, 1)        0         \n",
      "_________________________________________________________________\n",
      "conv2d_1 (Conv2D)            (None, 8000, 1, 32)       256       \n",
      "_________________________________________________________________\n",
      "prelu1 (PReLU)               (None, 8000, 1, 32)       32        \n",
      "_________________________________________________________________\n",
      "max_pooling2d_1 (MaxPooling2 (None, 4000, 1, 32)       0         \n",
      "_________________________________________________________________\n",
      "conv2d_2 (Conv2D)            (None, 4000, 1, 32)       7200      \n",
      "_________________________________________________________________\n",
      "prelu3 (PReLU)               (None, 4000, 1, 32)       32        \n",
      "_________________________________________________________________\n",
      "max_pooling2d_2 (MaxPooling2 (None, 2000, 1, 32)       0         \n",
      "_________________________________________________________________\n",
      "conv2d_3 (Conv2D)            (None, 2000, 1, 32)       7200      \n",
      "_________________________________________________________________\n",
      "prelu4 (PReLU)               (None, 2000, 1, 32)       32        \n",
      "_________________________________________________________________\n",
      "conv2d_4 (Conv2D)            (None, 2000, 1, 32)       7200      \n",
      "_________________________________________________________________\n",
      "prelu5 (PReLU)               (None, 2000, 1, 32)       32        \n",
      "_________________________________________________________________\n",
      "conv2d_5 (Conv2D)            (None, 2000, 1, 32)       7200      \n",
      "_________________________________________________________________\n",
      "prelu6 (PReLU)               (None, 2000, 1, 32)       32        \n",
      "_________________________________________________________________\n",
      "up_sampling2d_1 (UpSampling2 (None, 4000, 1, 32)       0         \n",
      "_________________________________________________________________\n",
      "conv2d_6 (Conv2D)            (None, 4000, 1, 32)       7200      \n",
      "_________________________________________________________________\n",
      "prelu8 (PReLU)               (None, 4000, 1, 32)       32        \n",
      "_________________________________________________________________\n",
      "up_sampling2d_2 (UpSampling2 (None, 8000, 1, 32)       0         \n",
      "_________________________________________________________________\n",
      "conv2d_7 (Conv2D)            (None, 8000, 1, 1)        225       \n",
      "_________________________________________________________________\n",
      "prelu9 (PReLU)               (None, 8000, 1, 1)        1         \n",
      "=================================================================\n",
      "Total params: 36,674\n",
      "Trainable params: 36,674\n",
      "Non-trainable params: 0\n",
      "_________________________________________________________________\n"
     ]
    }
   ],
   "source": [
    "#réseau audio net\n",
    "input_img = Input(shape=(8000,1,1))\n",
    "\n",
    "conv1= Conv2D(32, (7, 1), padding='same',strides=1)(input_img)\n",
    "conv1 = PReLU(shared_axes=[1, 2], name='prelu1')(conv1)\n",
    "max1= MaxPooling2D((2, 1), padding='same')(conv1)\n",
    "\n",
    "conv3 = Conv2D(32, (7, 1), padding='same',strides=1)(max1)\n",
    "conv3 = PReLU(shared_axes=[1, 2], name='prelu3')(conv3)              \n",
    "encoded = MaxPooling2D((2, 1), padding='same')(conv3)\n",
    "x = Conv2D(32, (7, 1), padding='same',strides=1)(encoded)\n",
    "x = PReLU(shared_axes=[1, 2], name='prelu4')(x)\n",
    "x = Conv2D(32, (7, 1), padding='same',strides=1)(x)\n",
    "x = PReLU(shared_axes=[1, 2], name='prelu5')(x)\n",
    "x = Conv2D(32, (7, 1), padding='same',strides=1)(x)\n",
    "x = PReLU(shared_axes=[1, 2], name='prelu6')(x)\n",
    "\n",
    "x = UpSampling2D((2, 1))(x)\n",
    "# merge2=Concatenate(axis=-1)([x,conv3])\n",
    "x = Conv2D(32, (7, 1), padding='same',strides=1)(x)\n",
    "x = PReLU(shared_axes=[1, 2], name='prelu8')(x)\n",
    "# x=Dropout(0.5)(x)\n",
    "x = UpSampling2D((2, 1))(x)\n",
    "# merge1=Concatenate(axis=-1)([x,conv1])\n",
    "decoded = Conv2D(1, (7, 1), padding='same',strides=1)(x)\n",
    "decoded = PReLU(shared_axes=[1, 2], name='prelu9')(decoded)\n",
    "# decoded=Dropout(0.5)(decoded)\n",
    "autoencoder = Model(input_img, decoded)\n",
    "autoencoder.compile(optimizer=optimizers.Adam(lr=0.001), loss='mae')\n",
    "#optimizer=optimizers.SGD(lr=0.0001, momentum=0.9, decay=0.0, nesterov=False)\n",
    "autoencoder.summary()"
   ]
  },
  {
   "cell_type": "code",
   "execution_count": 9,
   "metadata": {
    "scrolled": true
   },
   "outputs": [
    {
     "name": "stdout",
     "output_type": "stream",
     "text": [
      "WARNING:tensorflow:From C:\\Users\\joaro\\Anaconda3\\envs\\psychopy\\lib\\site-packages\\tensorflow\\python\\ops\\math_ops.py:3066: to_int32 (from tensorflow.python.ops.math_ops) is deprecated and will be removed in a future version.\n",
      "Instructions for updating:\n",
      "Use tf.cast instead.\n",
      "Train on 1800 samples, validate on 200 samples\n",
      "Epoch 1/40\n",
      "1800/1800 [==============================] - 182s 101ms/step - loss: 0.0624 - val_loss: 0.0569\n",
      "Epoch 2/40\n",
      "1800/1800 [==============================] - 9s 5ms/step - loss: 0.0624 - val_loss: 0.0569\n",
      "Epoch 3/40\n",
      "1800/1800 [==============================] - 9s 5ms/step - loss: 0.0625 - val_loss: 0.0569\n",
      "Epoch 4/40\n",
      "1800/1800 [==============================] - 9s 5ms/step - loss: 0.0624 - val_loss: 0.0568\n",
      "Epoch 5/40\n",
      "1800/1800 [==============================] - 9s 5ms/step - loss: 0.0624 - val_loss: 0.0568\n",
      "Epoch 6/40\n",
      "1800/1800 [==============================] - 9s 5ms/step - loss: 0.0622 - val_loss: 0.0566\n",
      "Epoch 7/40\n",
      "1800/1800 [==============================] - 9s 5ms/step - loss: 0.0618 - val_loss: 0.0561\n",
      "Epoch 8/40\n",
      "1800/1800 [==============================] - 9s 5ms/step - loss: 0.0613 - val_loss: 0.0559\n",
      "Epoch 9/40\n",
      "1800/1800 [==============================] - 9s 5ms/step - loss: 0.0612 - val_loss: 0.0556\n",
      "Epoch 10/40\n",
      "1800/1800 [==============================] - 9s 5ms/step - loss: 0.0609 - val_loss: 0.0553\n",
      "Epoch 11/40\n",
      "1800/1800 [==============================] - 9s 5ms/step - loss: 0.0608 - val_loss: 0.0552\n",
      "Epoch 12/40\n",
      "1800/1800 [==============================] - 9s 5ms/step - loss: 0.0606 - val_loss: 0.0550\n",
      "Epoch 13/40\n",
      "1800/1800 [==============================] - 9s 5ms/step - loss: 0.0612 - val_loss: 0.0565\n",
      "Epoch 14/40\n",
      "1800/1800 [==============================] - 9s 5ms/step - loss: 0.0612 - val_loss: 0.0557\n",
      "Epoch 15/40\n",
      "1800/1800 [==============================] - 9s 5ms/step - loss: 0.0612 - val_loss: 0.0554\n",
      "Epoch 16/40\n",
      "1800/1800 [==============================] - 9s 5ms/step - loss: 0.0608 - val_loss: 0.0552\n",
      "Epoch 17/40\n",
      "1800/1800 [==============================] - 9s 5ms/step - loss: 0.0605 - val_loss: 0.0548\n",
      "Epoch 18/40\n",
      "1800/1800 [==============================] - 9s 5ms/step - loss: 0.0599 - val_loss: 0.0538\n",
      "Epoch 19/40\n",
      "1800/1800 [==============================] - 9s 5ms/step - loss: 0.0593 - val_loss: 0.0534\n",
      "Epoch 20/40\n",
      "1800/1800 [==============================] - 9s 5ms/step - loss: 0.0591 - val_loss: 0.0534\n",
      "Epoch 21/40\n",
      "1800/1800 [==============================] - 9s 5ms/step - loss: 0.0579 - val_loss: 0.0506\n",
      "Epoch 22/40\n",
      "1800/1800 [==============================] - 9s 5ms/step - loss: 0.0553 - val_loss: 0.0488\n",
      "Epoch 23/40\n",
      "1800/1800 [==============================] - 9s 5ms/step - loss: 0.0544 - val_loss: 0.0477\n",
      "Epoch 24/40\n",
      "1800/1800 [==============================] - 9s 5ms/step - loss: 0.0541 - val_loss: 0.0474\n",
      "Epoch 25/40\n",
      "1800/1800 [==============================] - 9s 5ms/step - loss: 0.0535 - val_loss: 0.0468\n",
      "Epoch 26/40\n",
      "1800/1800 [==============================] - 9s 5ms/step - loss: 0.0516 - val_loss: 0.0459\n",
      "Epoch 27/40\n",
      "1800/1800 [==============================] - 9s 5ms/step - loss: 0.0506 - val_loss: 0.0451\n",
      "Epoch 28/40\n",
      "1800/1800 [==============================] - 9s 5ms/step - loss: 0.0498 - val_loss: 0.0448\n",
      "Epoch 29/40\n",
      "1800/1800 [==============================] - 9s 5ms/step - loss: 0.0492 - val_loss: 0.0440\n",
      "Epoch 30/40\n",
      "1800/1800 [==============================] - 9s 5ms/step - loss: 0.0516 - val_loss: 0.0478\n",
      "Epoch 31/40\n",
      "1800/1800 [==============================] - 9s 5ms/step - loss: 0.0508 - val_loss: 0.0445\n",
      "Epoch 32/40\n",
      "1800/1800 [==============================] - 9s 5ms/step - loss: 0.0493 - val_loss: 0.0439\n",
      "Epoch 33/40\n",
      "1800/1800 [==============================] - 9s 5ms/step - loss: 0.0489 - val_loss: 0.0445\n",
      "Epoch 34/40\n",
      "1800/1800 [==============================] - 9s 5ms/step - loss: 0.0486 - val_loss: 0.0435\n",
      "Epoch 35/40\n",
      "1800/1800 [==============================] - 9s 5ms/step - loss: 0.0482 - val_loss: 0.0432\n",
      "Epoch 36/40\n",
      "1800/1800 [==============================] - 9s 5ms/step - loss: 0.0476 - val_loss: 0.0427\n",
      "Epoch 37/40\n",
      "1800/1800 [==============================] - 9s 5ms/step - loss: 0.0485 - val_loss: 0.0431\n",
      "Epoch 38/40\n",
      "1800/1800 [==============================] - 9s 5ms/step - loss: 0.0477 - val_loss: 0.0431\n",
      "Epoch 39/40\n",
      "1800/1800 [==============================] - 9s 5ms/step - loss: 0.0474 - val_loss: 0.0425\n",
      "Epoch 40/40\n",
      "1800/1800 [==============================] - 9s 5ms/step - loss: 0.0469 - val_loss: 0.0421 - l\n"
     ]
    }
   ],
   "source": [
    "G=1\n",
    "history=autoencoder.fit(Xtrain_fil*G,Xtrain*G,epochs=40,\n",
    "                batch_size=20,\n",
    "                shuffle=True,\n",
    "                validation_data=(Xtest_fil*G, Xtest*G))"
   ]
  },
  {
   "cell_type": "code",
   "execution_count": 10,
   "metadata": {},
   "outputs": [],
   "source": [
    "# autoencoder.save(\"audio_network_800Hz_40epochs.h5\")"
   ]
  },
  {
   "cell_type": "code",
   "execution_count": 11,
   "metadata": {},
   "outputs": [],
   "source": [
    "# autoencoder=load_model(\"audio_network.h5\")"
   ]
  },
  {
   "cell_type": "code",
   "execution_count": 12,
   "metadata": {},
   "outputs": [],
   "source": [
    "decoded = autoencoder.predict(Xtest_fil)"
   ]
  },
  {
   "cell_type": "code",
   "execution_count": 13,
   "metadata": {},
   "outputs": [
    {
     "data": {
      "text/html": [
       "\n",
       "                <audio  controls=\"controls\" >\n",
       "                    <source src=\"data:audio/wav;base64,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\" type=\"audio/wav\" />\n",
       "                    Your browser does not support the audio element.\n",
       "                </audio>\n",
       "              "
      ],
      "text/plain": [
       "<IPython.lib.display.Audio object>"
      ]
     },
     "execution_count": 13,
     "metadata": {},
     "output_type": "execute_result"
    }
   ],
   "source": [
    "p=15\n",
    "sr=8000\n",
    "#indice to display\n",
    "xtest=np.reshape(Xtest[p],(8000))\n",
    "audio_path_record=\"C:\\\\Users\\\\joaro\\\\OneDrive\\\\Documents\\\\deep_learning_jupiter\\\\free_spoken_digit_dataset\\\\\"\n",
    "audio_path_record_in=os.path.join(audio_path_record,\"0_jackson_0_wav_test.wav\")\n",
    "soundfile.write(audio_path_record_in,xtest*max_test[p],sr)\n",
    "ipd.Audio(audio_path_record_in)"
   ]
  },
  {
   "cell_type": "code",
   "execution_count": 14,
   "metadata": {},
   "outputs": [
    {
     "name": "stdout",
     "output_type": "stream",
     "text": [
      "[[[0.00015959]]\n",
      "\n",
      " [[0.00010922]]\n",
      "\n",
      " [[0.00032732]]\n",
      "\n",
      " ...\n",
      "\n",
      " [[0.        ]]\n",
      "\n",
      " [[0.        ]]\n",
      "\n",
      " [[0.        ]]]\n"
     ]
    }
   ],
   "source": [
    "print(Xtest[p]*max_test[p])"
   ]
  },
  {
   "cell_type": "code",
   "execution_count": 15,
   "metadata": {},
   "outputs": [
    {
     "name": "stdout",
     "output_type": "stream",
     "text": [
      "[[[-1.0433410e-03]]\n",
      "\n",
      " [[-1.9568431e-03]]\n",
      "\n",
      " [[-2.4835663e-03]]\n",
      "\n",
      " ...\n",
      "\n",
      " [[-2.6406276e-05]]\n",
      "\n",
      " [[-4.6654532e-05]]\n",
      "\n",
      " [[-3.7729702e-04]]]\n"
     ]
    }
   ],
   "source": [
    "print(decoded[p])"
   ]
  },
  {
   "cell_type": "code",
   "execution_count": 16,
   "metadata": {},
   "outputs": [
    {
     "data": {
      "text/html": [
       "\n",
       "                <audio  controls=\"controls\" >\n",
       "                    <source src=\"data:audio/wav;base64,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\" type=\"audio/wav\" />\n",
       "                    Your browser does not support the audio element.\n",
       "                </audio>\n",
       "              "
      ],
      "text/plain": [
       "<IPython.lib.display.Audio object>"
      ]
     },
     "execution_count": 16,
     "metadata": {},
     "output_type": "execute_result"
    }
   ],
   "source": [
    "y=np.reshape(decoded[p],(8000))\n",
    "bpost,apost=creer_filter(0.005,\"highpass\",\"butter\",ordre=6)\n",
    "y_fil=filtrage(bpost,apost,y)\n",
    "audio_path_record_out=os.path.join(audio_path_record,\"0_jackson_0_wav_reconstructed.wav\")\n",
    "soundfile.write(audio_path_record_out,y*max_test[p],sr)\n",
    "ipd.Audio(audio_path_record_out)"
   ]
  },
  {
   "cell_type": "code",
   "execution_count": 17,
   "metadata": {
    "scrolled": true
   },
   "outputs": [
    {
     "data": {
      "text/html": [
       "\n",
       "                <audio  controls=\"controls\" >\n",
       "                    <source src=\"data:audio/wav;base64,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\" type=\"audio/wav\" />\n",
       "                    Your browser does not support the audio element.\n",
       "                </audio>\n",
       "              "
      ],
      "text/plain": [
       "<IPython.lib.display.Audio object>"
      ]
     },
     "execution_count": 17,
     "metadata": {},
     "output_type": "execute_result"
    }
   ],
   "source": [
    "xtest_fil=np.reshape(Xtest_fil[p],(8000))\n",
    "audio_path_record_in_fil=os.path.join(audio_path_record,\"0_jackson_0_filtered.wav\")\n",
    "soundfile.write(audio_path_record_in_fil,xtest_fil*max_test_fil[p],sr)\n",
    "ipd.Audio(audio_path_record_in_fil)"
   ]
  },
  {
   "cell_type": "code",
   "execution_count": 18,
   "metadata": {},
   "outputs": [
    {
     "name": "stdout",
     "output_type": "stream",
     "text": [
      "0.018772194995155457\n"
     ]
    }
   ],
   "source": [
    "import sklearn\n",
    "error=sklearn.metrics.mean_squared_error(xtest,y)\n",
    "print(error)"
   ]
  },
  {
   "cell_type": "code",
   "execution_count": 19,
   "metadata": {},
   "outputs": [
    {
     "name": "stdout",
     "output_type": "stream",
     "text": [
      "0.018740552620344648\n"
     ]
    }
   ],
   "source": [
    "error_fil=sklearn.metrics.mean_squared_error(xtest,y_fil)\n",
    "print(error_fil)"
   ]
  },
  {
   "cell_type": "code",
   "execution_count": 20,
   "metadata": {},
   "outputs": [
    {
     "name": "stdout",
     "output_type": "stream",
     "text": [
      "(1025, 16)\n",
      "(1025, 16)\n",
      "(1025, 16)\n"
     ]
    },
    {
     "data": {
      "text/plain": [
       "<matplotlib.colorbar.Colorbar at 0x1a233ddb2b0>"
      ]
     },
     "execution_count": 20,
     "metadata": {},
     "output_type": "execute_result"
    },
    {
     "data": {
      "image/png": "[encoded data removed]",
      "text/plain": [
       "<Figure size 1008x360 with 6 Axes>"
      ]
     },
     "metadata": {
      "needs_background": "light"
     },
     "output_type": "display_data"
    }
   ],
   "source": [
    "X=librosa.stft(xtest*max_test[p])\n",
    "Xdec=librosa.stft(y*max_test[p])\n",
    "Xfil=librosa.stft(xtest_fil*max_test_fil[p])\n",
    "figure(figsize=(14, 5))\n",
    "plt.subplot(1,3,1)\n",
    "Xdb = np.log10(abs(X)+1)\n",
    "print(Xdb.shape)\n",
    "librosa.display.specshow(Xdb, sr=sr, x_axis='time', y_axis='mel',cmap='Spectral_r')\n",
    "colorbar()\n",
    "plt.subplot(1,3,2)\n",
    "Xfildb = np.log10(abs(Xfil)+1)\n",
    "print(Xfildb.shape)\n",
    "librosa.display.specshow(Xfildb, sr=sr, x_axis='time', y_axis='mel',cmap='Spectral_r')\n",
    "colorbar()\n",
    "plt.subplot(1,3,3)\n",
    "Xdecdb = np.log10(abs(Xdec)+1)\n",
    "print(Xdecdb.shape)\n",
    "librosa.display.specshow(Xdecdb, sr=sr, x_axis='time', y_axis='mel',cmap='Spectral_r')\n",
    "colorbar()"
   ]
  },
  {
   "cell_type": "code",
   "execution_count": 21,
   "metadata": {},
   "outputs": [
    {
     "name": "stdout",
     "output_type": "stream",
     "text": [
      "0.0010816898\n"
     ]
    }
   ],
   "source": [
    "error_spec=sklearn.metrics.mean_squared_error(Xdb,Xdecdb)\n",
    "print(error_spec)"
   ]
  },
  {
   "cell_type": "code",
   "execution_count": 22,
   "metadata": {},
   "outputs": [
    {
     "data": {
      "image/png": "[encoded data removed]",
      "text/plain": [
       "<Figure size 432x288 with 1 Axes>"
      ]
     },
     "metadata": {
      "needs_background": "light"
     },
     "output_type": "display_data"
    }
   ],
   "source": [
    "loss = history.history['loss']\n",
    "val_loss = history.history['val_loss']\n",
    "\n",
    "epochs = range(len(loss))\n",
    "\n",
    "plt.figure()\n",
    "\n",
    "plt.plot(epochs, loss, 'bo', label='Training loss')\n",
    "plt.plot(epochs, val_loss, 'b', label='Validation loss')\n",
    "plt.title('Training and validation loss')\n",
    "plt.legend()\n",
    "\n",
    "plt.show()"
   ]
  },
  {
   "cell_type": "code",
   "execution_count": 23,
   "metadata": {},
   "outputs": [
    {
     "name": "stdout",
     "output_type": "stream",
     "text": [
      "processing C:\\Users\\joaro\\OneDrive\\Documents\\deep_learning_jupiter\\free_spoken_digit_dataset\\super_resolution_re_im\\test\\\n",
      "processing C:\\Users\\joaro\\OneDrive\\Documents\\deep_learning_jupiter\\free_spoken_digit_dataset\\super_resolution_re_im\\train\\\n",
      "C:\\Users\\joaro\\OneDrive\\Documents\\deep_learning_jupiter\\free_spoken_digit_dataset\\super_resolution_re_im\\train\\5_theo_36.wav\n",
      "C:\\Users\\joaro\\OneDrive\\Documents\\deep_learning_jupiter\\free_spoken_digit_dataset\\super_resolution_re_im\\train\\7_theo_36.wav\n",
      "C:\\Users\\joaro\\OneDrive\\Documents\\deep_learning_jupiter\\free_spoken_digit_dataset\\super_resolution_re_im\\train\\9_theo_16.wav\n",
      "C:\\Users\\joaro\\OneDrive\\Documents\\deep_learning_jupiter\\free_spoken_digit_dataset\\super_resolution_re_im\\train\\9_theo_28.wav\n"
     ]
    }
   ],
   "source": [
    "# mel spectro reconstruction\n",
    "Xtest_mel,Phase_test=dir_to_log_mel(test_dir)\n",
    "Xtrain_mel,Phase_train=dir_to_log_mel(train_dir)"
   ]
  },
  {
   "cell_type": "code",
   "execution_count": 24,
   "metadata": {},
   "outputs": [
    {
     "name": "stdout",
     "output_type": "stream",
     "text": [
      "processing C:\\Users\\joaro\\OneDrive\\Documents\\deep_learning_jupiter\\free_spoken_digit_dataset\\super_resolution_re_im\\train_dir_filtré\\\n",
      "C:\\Users\\joaro\\OneDrive\\Documents\\deep_learning_jupiter\\free_spoken_digit_dataset\\super_resolution_re_im\\train_dir_filtré\\5_theo_36.wav\n",
      "C:\\Users\\joaro\\OneDrive\\Documents\\deep_learning_jupiter\\free_spoken_digit_dataset\\super_resolution_re_im\\train_dir_filtré\\7_theo_36.wav\n",
      "C:\\Users\\joaro\\OneDrive\\Documents\\deep_learning_jupiter\\free_spoken_digit_dataset\\super_resolution_re_im\\train_dir_filtré\\9_theo_16.wav\n",
      "C:\\Users\\joaro\\OneDrive\\Documents\\deep_learning_jupiter\\free_spoken_digit_dataset\\super_resolution_re_im\\train_dir_filtré\\9_theo_28.wav\n",
      "processing C:\\Users\\joaro\\OneDrive\\Documents\\deep_learning_jupiter\\free_spoken_digit_dataset\\super_resolution_re_im\\test_dir_filtré\\\n"
     ]
    }
   ],
   "source": [
    "Xtrain_fil_mel,Phase_train_fil=dir_to_log_mel(train_dir_filtré)\n",
    "Xtest_fil_mel,Phase_test_fil=dir_to_log_mel(test_dir_filtré)"
   ]
  },
  {
   "cell_type": "code",
   "execution_count": 27,
   "metadata": {},
   "outputs": [
    {
     "name": "stdout",
     "output_type": "stream",
     "text": [
      "_________________________________________________________________\n",
      "Layer (type)                 Output Shape              Param #   \n",
      "=================================================================\n",
      "input_3 (InputLayer)         (None, 1024, 16, 1)       0         \n",
      "_________________________________________________________________\n",
      "conv2d_15 (Conv2D)           (None, 1024, 16, 32)      320       \n",
      "_________________________________________________________________\n",
      "max_pooling2d_5 (MaxPooling2 (None, 512, 16, 32)       0         \n",
      "_________________________________________________________________\n",
      "conv2d_16 (Conv2D)           (None, 512, 16, 32)       9248      \n",
      "_________________________________________________________________\n",
      "max_pooling2d_6 (MaxPooling2 (None, 256, 16, 32)       0         \n",
      "_________________________________________________________________\n",
      "conv2d_17 (Conv2D)           (None, 256, 16, 32)       9248      \n",
      "_________________________________________________________________\n",
      "conv2d_18 (Conv2D)           (None, 256, 16, 32)       9248      \n",
      "_________________________________________________________________\n",
      "conv2d_19 (Conv2D)           (None, 256, 16, 32)       9248      \n",
      "_________________________________________________________________\n",
      "up_sampling2d_5 (UpSampling2 (None, 512, 16, 32)       0         \n",
      "_________________________________________________________________\n",
      "conv2d_20 (Conv2D)           (None, 512, 16, 32)       9248      \n",
      "_________________________________________________________________\n",
      "up_sampling2d_6 (UpSampling2 (None, 1024, 16, 32)      0         \n",
      "_________________________________________________________________\n",
      "conv2d_21 (Conv2D)           (None, 1024, 16, 1)       289       \n",
      "=================================================================\n",
      "Total params: 46,849\n",
      "Trainable params: 46,849\n",
      "Non-trainable params: 0\n",
      "_________________________________________________________________\n"
     ]
    }
   ],
   "source": [
    "input_mel = Input(shape=(1024, 16,1))\n",
    "\n",
    "conv1= Conv2D(32, (3, 3), activation='relu', padding='same')(input_mel)\n",
    "max1= MaxPooling2D((2, 1), padding='same')(conv1)\n",
    "conv2 = Conv2D(32, (3, 3), activation='relu', padding='same')(max1)\n",
    "encoded = MaxPooling2D((2, 1), padding='same')(conv2)\n",
    "x = Conv2D(32, (3, 3), activation='relu', padding='same')(encoded)\n",
    "x = Conv2D(32, (3, 3), activation='relu', padding='same')(x)\n",
    "\n",
    "x = Conv2D(32, (3, 3), activation='relu', padding='same')(x)\n",
    "\n",
    "x = UpSampling2D((2, 1))(x)\n",
    "x = Conv2D(32, (3, 3), activation='relu', padding='same')(x)\n",
    "\n",
    "x = UpSampling2D((2, 1))(x)\n",
    "\n",
    "\n",
    "\n",
    "decoded_mel = Conv2D(1, (3, 3), activation='relu', padding='same')(x)\n",
    "autoencoder_mel = Model(input_mel, decoded_mel)\n",
    "autoencoder_mel.compile(optimizer=optimizers.Adam(lr=0.001), loss='mae')\n",
    "#optimizer=optimizers.SGD(lr=0.0001, momentum=0.9, decay=0.0, nesterov=False)\n",
    "autoencoder_mel.summary()\n"
   ]
  },
  {
   "cell_type": "code",
   "execution_count": 28,
   "metadata": {
    "scrolled": true
   },
   "outputs": [
    {
     "name": "stdout",
     "output_type": "stream",
     "text": [
      "Train on 1800 samples, validate on 200 samples\n",
      "Epoch 1/40\n",
      "1800/1800 [==============================] - 12s 7ms/step - loss: 0.0324 - val_loss: 0.0309\n",
      "Epoch 2/40\n",
      "1800/1800 [==============================] - 11s 6ms/step - loss: 0.0324 - val_loss: 0.0309\n",
      "Epoch 3/40\n",
      "1800/1800 [==============================] - 11s 6ms/step - loss: 0.0324 - val_loss: 0.0309\n",
      "Epoch 4/40\n",
      "1800/1800 [==============================] - 11s 6ms/step - loss: 0.0324 - val_loss: 0.0309\n",
      "Epoch 5/40\n",
      "1800/1800 [==============================] - 11s 6ms/step - loss: 0.0324 - val_loss: 0.0309\n",
      "Epoch 6/40\n",
      "1800/1800 [==============================] - 11s 6ms/step - loss: 0.0324 - val_loss: 0.0309\n",
      "Epoch 7/40\n",
      "1800/1800 [==============================] - 11s 6ms/step - loss: 0.0324 - val_loss: 0.0309\n",
      "Epoch 8/40\n",
      "1800/1800 [==============================] - 11s 6ms/step - loss: 0.0324 - val_loss: 0.0309\n",
      "Epoch 9/40\n",
      "1800/1800 [==============================] - 11s 6ms/step - loss: 0.0324 - val_loss: 0.0309\n",
      "Epoch 10/40\n",
      "1800/1800 [==============================] - 11s 6ms/step - loss: 0.0324 - val_loss: 0.0309\n",
      "Epoch 11/40\n",
      "1800/1800 [==============================] - 11s 6ms/step - loss: 0.0324 - val_loss: 0.0309\n",
      "Epoch 12/40\n",
      "1800/1800 [==============================] - 11s 6ms/step - loss: 0.0324 - val_loss: 0.0309\n",
      "Epoch 13/40\n",
      "1800/1800 [==============================] - 11s 6ms/step - loss: 0.0324 - val_loss: 0.0309\n",
      "Epoch 14/40\n",
      "1800/1800 [==============================] - 11s 6ms/step - loss: 0.0324 - val_loss: 0.0309\n",
      "Epoch 15/40\n",
      "1800/1800 [==============================] - 11s 6ms/step - loss: 0.0324 - val_loss: 0.0309\n",
      "Epoch 16/40\n",
      "1800/1800 [==============================] - 11s 6ms/step - loss: 0.0324 - val_loss: 0.0309\n",
      "Epoch 17/40\n",
      "1800/1800 [==============================] - 11s 6ms/step - loss: 0.0324 - val_loss: 0.0309\n",
      "Epoch 18/40\n",
      "1800/1800 [==============================] - 11s 6ms/step - loss: 0.0324 - val_loss: 0.0309\n",
      "Epoch 19/40\n",
      "1800/1800 [==============================] - 11s 6ms/step - loss: 0.0324 - val_loss: 0.0309\n",
      "Epoch 20/40\n",
      "1800/1800 [==============================] - 11s 6ms/step - loss: 0.0324 - val_loss: 0.0309\n",
      "Epoch 21/40\n",
      "1800/1800 [==============================] - 12s 6ms/step - loss: 0.0324 - val_loss: 0.0309\n",
      "Epoch 22/40\n",
      "1800/1800 [==============================] - 12s 6ms/step - loss: 0.0324 - val_loss: 0.0309\n",
      "Epoch 23/40\n",
      "1800/1800 [==============================] - 11s 6ms/step - loss: 0.0324 - val_loss: 0.0309\n",
      "Epoch 24/40\n",
      "1800/1800 [==============================] - 11s 6ms/step - loss: 0.0324 - val_loss: 0.0309\n",
      "Epoch 25/40\n",
      "1800/1800 [==============================] - 11s 6ms/step - loss: 0.0324 - val_loss: 0.0309\n",
      "Epoch 26/40\n",
      "1800/1800 [==============================] - 11s 6ms/step - loss: 0.0324 - val_loss: 0.0309\n",
      "Epoch 27/40\n",
      "1800/1800 [==============================] - 11s 6ms/step - loss: 0.0324 - val_loss: 0.0309\n",
      "Epoch 28/40\n",
      "1800/1800 [==============================] - 11s 6ms/step - loss: 0.0324 - val_loss: 0.0309\n",
      "Epoch 29/40\n",
      "1800/1800 [==============================] - 12s 6ms/step - loss: 0.0324 - val_loss: 0.0309\n",
      "Epoch 30/40\n",
      "1800/1800 [==============================] - 11s 6ms/step - loss: 0.0324 - val_loss: 0.0309\n",
      "Epoch 31/40\n",
      "1800/1800 [==============================] - 11s 6ms/step - loss: 0.0324 - val_loss: 0.0309\n",
      "Epoch 32/40\n",
      "1800/1800 [==============================] - 11s 6ms/step - loss: 0.0324 - val_loss: 0.0309\n",
      "Epoch 33/40\n",
      "1800/1800 [==============================] - 11s 6ms/step - loss: 0.0324 - val_loss: 0.0309\n",
      "Epoch 34/40\n",
      "1800/1800 [==============================] - 11s 6ms/step - loss: 0.0324 - val_loss: 0.0309\n",
      "Epoch 35/40\n",
      "1800/1800 [==============================] - 11s 6ms/step - loss: 0.0324 - val_loss: 0.0309\n",
      "Epoch 36/40\n",
      "1800/1800 [==============================] - 11s 6ms/step - loss: 0.0324 - val_loss: 0.0309\n",
      "Epoch 37/40\n",
      "1800/1800 [==============================] - 11s 6ms/step - loss: 0.0324 - val_loss: 0.0309\n",
      "Epoch 38/40\n",
      "1800/1800 [==============================] - 11s 6ms/step - loss: 0.0324 - val_loss: 0.0309\n",
      "Epoch 39/40\n",
      "1800/1800 [==============================] - 11s 6ms/step - loss: 0.0324 - val_loss: 0.0309\n",
      "Epoch 40/40\n",
      "1800/1800 [==============================] - 11s 6ms/step - loss: 0.0324 - val_loss: 0.0309\n"
     ]
    },
    {
     "data": {
      "text/plain": [
       "<keras.callbacks.History at 0x1a24d267518>"
      ]
     },
     "execution_count": 28,
     "metadata": {},
     "output_type": "execute_result"
    }
   ],
   "source": [
    "autoencoder_mel.fit(Xtrain_fil_mel,Xtrain_mel,epochs=40,\n",
    "                batch_size=20,\n",
    "                shuffle=True,\n",
    "                validation_data=(Xtest_fil_mel, Xtest_mel))"
   ]
  },
  {
   "cell_type": "code",
   "execution_count": null,
   "metadata": {},
   "outputs": [],
   "source": [
    "# autoencoder_mel.save(\"mel_spec_network_800Hz_40epochs.h5\")"
   ]
  },
  {
   "cell_type": "code",
   "execution_count": null,
   "metadata": {},
   "outputs": [],
   "source": [
    "# autoencoder_mel=load_model(\"mel_spec_network.h5\")"
   ]
  },
  {
   "cell_type": "code",
   "execution_count": 29,
   "metadata": {},
   "outputs": [],
   "source": [
    "decoded_mel = autoencoder_mel.predict(Xtest_fil_mel)"
   ]
  },
  {
   "cell_type": "code",
   "execution_count": 30,
   "metadata": {},
   "outputs": [
    {
     "data": {
      "text/plain": [
       "<matplotlib.colorbar.Colorbar at 0x1a263f3b6a0>"
      ]
     },
     "execution_count": 30,
     "metadata": {},
     "output_type": "execute_result"
    },
    {
     "data": {
      "image/png": "[encoded data removed]",
      "text/plain": [
       "<Figure size 1152x288 with 4 Axes>"
      ]
     },
     "metadata": {
      "needs_background": "light"
     },
     "output_type": "display_data"
    }
   ],
   "source": [
    "p3=125\n",
    "Spec_dec=np.reshape(decoded_mel[p3],(decoded_mel.shape[1],decoded_mel.shape[2]))\n",
    "Spec=np.reshape(Xtest_mel[p3],(Xtest_mel.shape[1],Xtest_mel.shape[2]))\n",
    "plt.figure(figsize=(16, 4))\n",
    "plt.subplot(1,2,1)\n",
    "librosa.display.specshow(Spec, sr=8000, x_axis='time', y_axis='mel',fmax=4000)\n",
    "colorbar()\n",
    "plt.subplot(1,2,2)\n",
    "librosa.display.specshow(Spec_dec, sr=8000, x_axis='time', y_axis='mel',fmax=4000)\n",
    "colorbar()"
   ]
  },
  {
   "cell_type": "code",
   "execution_count": 31,
   "metadata": {},
   "outputs": [
    {
     "name": "stdout",
     "output_type": "stream",
     "text": [
      "0.011429155838131842\n"
     ]
    }
   ],
   "source": [
    "error_spec=sklearn.metrics.mean_squared_error(Spec,Spec_dec)\n",
    "print(error_spec)"
   ]
  },
  {
   "cell_type": "code",
   "execution_count": 32,
   "metadata": {},
   "outputs": [],
   "source": [
    "Lin_dec=mel_to_linspec(decoded_mel,sr=8000,n_mels=1024,n_fft=2048)\n",
    "mix_audio=merge_specphase_to_audio(Lin_dec,decoded)"
   ]
  },
  {
   "cell_type": "code",
   "execution_count": 33,
   "metadata": {},
   "outputs": [
    {
     "name": "stdout",
     "output_type": "stream",
     "text": [
      "0.00020871767928965778\n"
     ]
    }
   ],
   "source": [
    "print(mse_audio(Xtest,Xtest_fil))"
   ]
  },
  {
   "cell_type": "code",
   "execution_count": 34,
   "metadata": {},
   "outputs": [
    {
     "name": "stdout",
     "output_type": "stream",
     "text": [
      "8.214905553986016e-05\n"
     ]
    }
   ],
   "source": [
    "print(mse_audio(Xtest,decoded))"
   ]
  },
  {
   "cell_type": "code",
   "execution_count": 35,
   "metadata": {},
   "outputs": [
    {
     "name": "stderr",
     "output_type": "stream",
     "text": [
      "C:\\Users\\joaro\\OneDrive\\Documents\\deep_learning_jupiter\\error_measure.py:16: RuntimeWarning: invalid value encountered in true_divide\n",
      "  error=sklearn.metrics.mean_squared_error(np.reshape(x[i],(x.shape[1]))*1/np.linalg.norm(x[i]),np.reshape(y[i],(y.shape[1]))*1/np.linalg.norm(y[i]))+error\n"
     ]
    },
    {
     "ename": "ValueError",
     "evalue": "Input contains NaN, infinity or a value too large for dtype('float64').",
     "output_type": "error",
     "traceback": [
      "\u001b[1;31m---------------------------------------------------------------------------\u001b[0m",
      "\u001b[1;31mValueError\u001b[0m                                Traceback (most recent call last)",
      "\u001b[1;32m<ipython-input-35-3d5e109e02f9>\u001b[0m in \u001b[0;36m<module>\u001b[1;34m\u001b[0m\n\u001b[1;32m----> 1\u001b[1;33m \u001b[0mprint\u001b[0m\u001b[1;33m(\u001b[0m\u001b[0mmse_audio\u001b[0m\u001b[1;33m(\u001b[0m\u001b[0mXtest\u001b[0m\u001b[1;33m,\u001b[0m\u001b[0mmix_audio\u001b[0m\u001b[1;33m)\u001b[0m\u001b[1;33m)\u001b[0m\u001b[1;33m\u001b[0m\u001b[1;33m\u001b[0m\u001b[0m\n\u001b[0m",
      "\u001b[1;32m~\\OneDrive\\Documents\\deep_learning_jupiter\\error_measure.py\u001b[0m in \u001b[0;36mmse_audio\u001b[1;34m(x, y)\u001b[0m\n\u001b[0;32m     14\u001b[0m         \u001b[1;32mraise\u001b[0m \u001b[0mValueError\u001b[0m\u001b[1;33m(\u001b[0m\u001b[1;34m\"the two arrays must have the same lenght\"\u001b[0m\u001b[1;33m)\u001b[0m\u001b[1;33m\u001b[0m\u001b[1;33m\u001b[0m\u001b[0m\n\u001b[0;32m     15\u001b[0m     \u001b[1;32mfor\u001b[0m \u001b[0mi\u001b[0m \u001b[1;32min\u001b[0m \u001b[0mrange\u001b[0m\u001b[1;33m(\u001b[0m\u001b[0mlenght\u001b[0m\u001b[1;33m)\u001b[0m\u001b[1;33m:\u001b[0m\u001b[1;33m\u001b[0m\u001b[1;33m\u001b[0m\u001b[0m\n\u001b[1;32m---> 16\u001b[1;33m         \u001b[0merror\u001b[0m\u001b[1;33m=\u001b[0m\u001b[0msklearn\u001b[0m\u001b[1;33m.\u001b[0m\u001b[0mmetrics\u001b[0m\u001b[1;33m.\u001b[0m\u001b[0mmean_squared_error\u001b[0m\u001b[1;33m(\u001b[0m\u001b[0mnp\u001b[0m\u001b[1;33m.\u001b[0m\u001b[0mreshape\u001b[0m\u001b[1;33m(\u001b[0m\u001b[0mx\u001b[0m\u001b[1;33m[\u001b[0m\u001b[0mi\u001b[0m\u001b[1;33m]\u001b[0m\u001b[1;33m,\u001b[0m\u001b[1;33m(\u001b[0m\u001b[0mx\u001b[0m\u001b[1;33m.\u001b[0m\u001b[0mshape\u001b[0m\u001b[1;33m[\u001b[0m\u001b[1;36m1\u001b[0m\u001b[1;33m]\u001b[0m\u001b[1;33m)\u001b[0m\u001b[1;33m)\u001b[0m\u001b[1;33m*\u001b[0m\u001b[1;36m1\u001b[0m\u001b[1;33m/\u001b[0m\u001b[0mnp\u001b[0m\u001b[1;33m.\u001b[0m\u001b[0mlinalg\u001b[0m\u001b[1;33m.\u001b[0m\u001b[0mnorm\u001b[0m\u001b[1;33m(\u001b[0m\u001b[0mx\u001b[0m\u001b[1;33m[\u001b[0m\u001b[0mi\u001b[0m\u001b[1;33m]\u001b[0m\u001b[1;33m)\u001b[0m\u001b[1;33m,\u001b[0m\u001b[0mnp\u001b[0m\u001b[1;33m.\u001b[0m\u001b[0mreshape\u001b[0m\u001b[1;33m(\u001b[0m\u001b[0my\u001b[0m\u001b[1;33m[\u001b[0m\u001b[0mi\u001b[0m\u001b[1;33m]\u001b[0m\u001b[1;33m,\u001b[0m\u001b[1;33m(\u001b[0m\u001b[0my\u001b[0m\u001b[1;33m.\u001b[0m\u001b[0mshape\u001b[0m\u001b[1;33m[\u001b[0m\u001b[1;36m1\u001b[0m\u001b[1;33m]\u001b[0m\u001b[1;33m)\u001b[0m\u001b[1;33m)\u001b[0m\u001b[1;33m*\u001b[0m\u001b[1;36m1\u001b[0m\u001b[1;33m/\u001b[0m\u001b[0mnp\u001b[0m\u001b[1;33m.\u001b[0m\u001b[0mlinalg\u001b[0m\u001b[1;33m.\u001b[0m\u001b[0mnorm\u001b[0m\u001b[1;33m(\u001b[0m\u001b[0my\u001b[0m\u001b[1;33m[\u001b[0m\u001b[0mi\u001b[0m\u001b[1;33m]\u001b[0m\u001b[1;33m)\u001b[0m\u001b[1;33m)\u001b[0m\u001b[1;33m+\u001b[0m\u001b[0merror\u001b[0m\u001b[1;33m\u001b[0m\u001b[1;33m\u001b[0m\u001b[0m\n\u001b[0m\u001b[0;32m     17\u001b[0m \u001b[1;33m\u001b[0m\u001b[0m\n\u001b[0;32m     18\u001b[0m         \u001b[0mi\u001b[0m\u001b[1;33m=\u001b[0m\u001b[0mi\u001b[0m\u001b[1;33m+\u001b[0m\u001b[1;36m1\u001b[0m\u001b[1;33m\u001b[0m\u001b[1;33m\u001b[0m\u001b[0m\n",
      "\u001b[1;32m~\\Anaconda3\\envs\\psychopy\\lib\\site-packages\\sklearn\\metrics\\regression.py\u001b[0m in \u001b[0;36mmean_squared_error\u001b[1;34m(y_true, y_pred, sample_weight, multioutput)\u001b[0m\n\u001b[0;32m    237\u001b[0m     \"\"\"\n\u001b[0;32m    238\u001b[0m     y_type, y_true, y_pred, multioutput = _check_reg_targets(\n\u001b[1;32m--> 239\u001b[1;33m         y_true, y_pred, multioutput)\n\u001b[0m\u001b[0;32m    240\u001b[0m     \u001b[0mcheck_consistent_length\u001b[0m\u001b[1;33m(\u001b[0m\u001b[0my_true\u001b[0m\u001b[1;33m,\u001b[0m \u001b[0my_pred\u001b[0m\u001b[1;33m,\u001b[0m \u001b[0msample_weight\u001b[0m\u001b[1;33m)\u001b[0m\u001b[1;33m\u001b[0m\u001b[1;33m\u001b[0m\u001b[0m\n\u001b[0;32m    241\u001b[0m     output_errors = np.average((y_true - y_pred) ** 2, axis=0,\n",
      "\u001b[1;32m~\\Anaconda3\\envs\\psychopy\\lib\\site-packages\\sklearn\\metrics\\regression.py\u001b[0m in \u001b[0;36m_check_reg_targets\u001b[1;34m(y_true, y_pred, multioutput)\u001b[0m\n\u001b[0;32m     75\u001b[0m     \u001b[0mcheck_consistent_length\u001b[0m\u001b[1;33m(\u001b[0m\u001b[0my_true\u001b[0m\u001b[1;33m,\u001b[0m \u001b[0my_pred\u001b[0m\u001b[1;33m)\u001b[0m\u001b[1;33m\u001b[0m\u001b[1;33m\u001b[0m\u001b[0m\n\u001b[0;32m     76\u001b[0m     \u001b[0my_true\u001b[0m \u001b[1;33m=\u001b[0m \u001b[0mcheck_array\u001b[0m\u001b[1;33m(\u001b[0m\u001b[0my_true\u001b[0m\u001b[1;33m,\u001b[0m \u001b[0mensure_2d\u001b[0m\u001b[1;33m=\u001b[0m\u001b[1;32mFalse\u001b[0m\u001b[1;33m)\u001b[0m\u001b[1;33m\u001b[0m\u001b[1;33m\u001b[0m\u001b[0m\n\u001b[1;32m---> 77\u001b[1;33m     \u001b[0my_pred\u001b[0m \u001b[1;33m=\u001b[0m \u001b[0mcheck_array\u001b[0m\u001b[1;33m(\u001b[0m\u001b[0my_pred\u001b[0m\u001b[1;33m,\u001b[0m \u001b[0mensure_2d\u001b[0m\u001b[1;33m=\u001b[0m\u001b[1;32mFalse\u001b[0m\u001b[1;33m)\u001b[0m\u001b[1;33m\u001b[0m\u001b[1;33m\u001b[0m\u001b[0m\n\u001b[0m\u001b[0;32m     78\u001b[0m \u001b[1;33m\u001b[0m\u001b[0m\n\u001b[0;32m     79\u001b[0m     \u001b[1;32mif\u001b[0m \u001b[0my_true\u001b[0m\u001b[1;33m.\u001b[0m\u001b[0mndim\u001b[0m \u001b[1;33m==\u001b[0m \u001b[1;36m1\u001b[0m\u001b[1;33m:\u001b[0m\u001b[1;33m\u001b[0m\u001b[1;33m\u001b[0m\u001b[0m\n",
      "\u001b[1;32m~\\Anaconda3\\envs\\psychopy\\lib\\site-packages\\sklearn\\utils\\validation.py\u001b[0m in \u001b[0;36mcheck_array\u001b[1;34m(array, accept_sparse, accept_large_sparse, dtype, order, copy, force_all_finite, ensure_2d, allow_nd, ensure_min_samples, ensure_min_features, warn_on_dtype, estimator)\u001b[0m\n\u001b[0;32m    571\u001b[0m         \u001b[1;32mif\u001b[0m \u001b[0mforce_all_finite\u001b[0m\u001b[1;33m:\u001b[0m\u001b[1;33m\u001b[0m\u001b[1;33m\u001b[0m\u001b[0m\n\u001b[0;32m    572\u001b[0m             _assert_all_finite(array,\n\u001b[1;32m--> 573\u001b[1;33m                                allow_nan=force_all_finite == 'allow-nan')\n\u001b[0m\u001b[0;32m    574\u001b[0m \u001b[1;33m\u001b[0m\u001b[0m\n\u001b[0;32m    575\u001b[0m     \u001b[0mshape_repr\u001b[0m \u001b[1;33m=\u001b[0m \u001b[0m_shape_repr\u001b[0m\u001b[1;33m(\u001b[0m\u001b[0marray\u001b[0m\u001b[1;33m.\u001b[0m\u001b[0mshape\u001b[0m\u001b[1;33m)\u001b[0m\u001b[1;33m\u001b[0m\u001b[1;33m\u001b[0m\u001b[0m\n",
      "\u001b[1;32m~\\Anaconda3\\envs\\psychopy\\lib\\site-packages\\sklearn\\utils\\validation.py\u001b[0m in \u001b[0;36m_assert_all_finite\u001b[1;34m(X, allow_nan)\u001b[0m\n\u001b[0;32m     54\u001b[0m                 not allow_nan and not np.isfinite(X).all()):\n\u001b[0;32m     55\u001b[0m             \u001b[0mtype_err\u001b[0m \u001b[1;33m=\u001b[0m \u001b[1;34m'infinity'\u001b[0m \u001b[1;32mif\u001b[0m \u001b[0mallow_nan\u001b[0m \u001b[1;32melse\u001b[0m \u001b[1;34m'NaN, infinity'\u001b[0m\u001b[1;33m\u001b[0m\u001b[1;33m\u001b[0m\u001b[0m\n\u001b[1;32m---> 56\u001b[1;33m             \u001b[1;32mraise\u001b[0m \u001b[0mValueError\u001b[0m\u001b[1;33m(\u001b[0m\u001b[0mmsg_err\u001b[0m\u001b[1;33m.\u001b[0m\u001b[0mformat\u001b[0m\u001b[1;33m(\u001b[0m\u001b[0mtype_err\u001b[0m\u001b[1;33m,\u001b[0m \u001b[0mX\u001b[0m\u001b[1;33m.\u001b[0m\u001b[0mdtype\u001b[0m\u001b[1;33m)\u001b[0m\u001b[1;33m)\u001b[0m\u001b[1;33m\u001b[0m\u001b[1;33m\u001b[0m\u001b[0m\n\u001b[0m\u001b[0;32m     57\u001b[0m \u001b[1;33m\u001b[0m\u001b[0m\n\u001b[0;32m     58\u001b[0m \u001b[1;33m\u001b[0m\u001b[0m\n",
      "\u001b[1;31mValueError\u001b[0m: Input contains NaN, infinity or a value too large for dtype('float64')."
     ]
    }
   ],
   "source": [
    "print(mse_audio(Xtest,mix_audio))"
   ]
  },
  {
   "cell_type": "code",
   "execution_count": null,
   "metadata": {
    "scrolled": true
   },
   "outputs": [],
   "source": [
    "\n",
    "xtest3=np.reshape(Xtest[p3],(8000))\n",
    "soundfile.write(audio_path_record_in,xtest3*max_test[p3],sr)\n",
    "ipd.Audio(audio_path_record_in)"
   ]
  },
  {
   "cell_type": "code",
   "execution_count": null,
   "metadata": {},
   "outputs": [],
   "source": [
    "xtest3_fil=np.reshape(Xtest_fil[p3],(8000))\n",
    "soundfile.write(audio_path_record_in_fil,xtest3_fil*max_test_fil[p3],sr)\n",
    "ipd.Audio(audio_path_record_in_fil)"
   ]
  },
  {
   "cell_type": "code",
   "execution_count": null,
   "metadata": {},
   "outputs": [],
   "source": [
    "\n",
    "audio_path_record_audio_mix3=os.path.join(audio_path_record,\"3_mix.wav\")\n",
    "soundfile.write(audio_path_record_audio_mix3,mix_audio[p3]*2,sr)\n",
    "ipd.Audio(audio_path_record_audio_mix3)"
   ]
  },
  {
   "cell_type": "code",
   "execution_count": null,
   "metadata": {},
   "outputs": [],
   "source": [
    "y3=np.reshape(decoded[p3],(8000))\n",
    "audio_path_record_out3=os.path.join(audio_path_record,\"3_reconstructed.wav\")\n",
    "soundfile.write(audio_path_record_out3,y3*max_test[p3],sr)\n",
    "ipd.Audio(audio_path_record_out3)"
   ]
  },
  {
   "cell_type": "code",
   "execution_count": null,
   "metadata": {},
   "outputs": [],
   "source": [
    "from scipy.stats import pearsonr\n",
    "print(pearsonr(xtest3,y3)[0])"
   ]
  },
  {
   "cell_type": "code",
   "execution_count": null,
   "metadata": {},
   "outputs": [],
   "source": [
    "print(pearsonr(xtest3,mix_audio[p3])[0])"
   ]
  },
  {
   "cell_type": "code",
   "execution_count": null,
   "metadata": {},
   "outputs": [],
   "source": [
    "print(np.linalg.norm(xtest3))"
   ]
  },
  {
   "cell_type": "code",
   "execution_count": null,
   "metadata": {},
   "outputs": [],
   "source": [
    "print(np.linalg.norm(y3))"
   ]
  },
  {
   "cell_type": "code",
   "execution_count": null,
   "metadata": {},
   "outputs": [],
   "source": [
    "print(np.linalg.norm(mix_audio[p3]))"
   ]
  },
  {
   "cell_type": "code",
   "execution_count": null,
   "metadata": {},
   "outputs": [],
   "source": [
    "error3mix=sklearn.metrics.mean_squared_error(xtest3*1/np.linalg.norm(xtest3),mix_audio[p3]*1/np.linalg.norm(mix_audio[p3]))\n",
    "print(error3mix)"
   ]
  },
  {
   "cell_type": "code",
   "execution_count": null,
   "metadata": {},
   "outputs": [],
   "source": [
    "error3=sklearn.metrics.mean_squared_error(xtest3*1/np.linalg.norm(xtest3),y3*1/np.linalg.norm(y3))\n",
    "print(error3)"
   ]
  },
  {
   "cell_type": "code",
   "execution_count": null,
   "metadata": {},
   "outputs": [],
   "source": [
    "print(np.correlate(xtest3*1/np.linalg.norm(xtest3),mix_audio[p3]*1/np.linalg.norm(mix_audio[p3])))"
   ]
  },
  {
   "cell_type": "code",
   "execution_count": null,
   "metadata": {},
   "outputs": [],
   "source": [
    "print(np.correlate(xtest3*1/np.linalg.norm(xtest3),y3*1/np.linalg.norm(y3)))"
   ]
  },
  {
   "cell_type": "code",
   "execution_count": null,
   "metadata": {},
   "outputs": [],
   "source": [
    "plt.figure(figsize=(16, 4))\n",
    "plt.subplot(1,3,1)\n",
    "plt.plot(xtest3)\n",
    "title(\"signal attendu\")\n",
    "plt.subplot(1,3,2)\n",
    "plt.plot(y3)\n",
    "title(\"signal en sortie du réseau audio\")\n",
    "plt.subplot(1,3,3)\n",
    "plt.plot(mix_audio[p3])\n",
    "title(\"signal après mixage mel audio\")"
   ]
  },
  {
   "cell_type": "code",
   "execution_count": null,
   "metadata": {},
   "outputs": [],
   "source": [
    "lim_sup=2100\n",
    "lim_min=2000\n",
    "\n",
    "plt.figure(figsize=(16, 4))\n",
    "plt.subplot(1,4,1)\n",
    "plt.plot(xtest3[lim_min:lim_sup],\"bo--\")\n",
    "title(\"signal attendu\")\n",
    "plt.subplot(1,4,2)\n",
    "plt.plot(y3[lim_min:lim_sup],\"bo--\")\n",
    "\n",
    "title(\"signal en sortie du réseau audio\")\n",
    "plt.subplot(1,4,3)\n",
    "plt.plot(mix_audio[p3][lim_min:lim_sup],\"bo--\")\n",
    "title(\"signal après mixage mel audio\")\n",
    "plt.subplot(1,4,4)\n",
    "plt.plot(xtest3[lim_min:lim_sup]*1/np.linalg.norm(xtest3),\"bo\",label=\"attendu\")\n",
    "plt.plot(y3[lim_min:lim_sup]*1/np.linalg.norm(y3),\"go\",label=\"sortie reseau audio\")\n",
    "plt.plot(mix_audio[p3][lim_min:lim_sup]*1/np.linalg.norm(mix_audio[p3]),\"ro\",label=\"mix mel audio\")\n",
    "title(\"visualisation des 3 sur un meme graphe\")\n",
    "plt.legend()"
   ]
  },
  {
   "cell_type": "code",
   "execution_count": null,
   "metadata": {},
   "outputs": [],
   "source": [
    "print(mse_melSpectro(Xtest_mel,Xtest_fil_mel))"
   ]
  },
  {
   "cell_type": "code",
   "execution_count": null,
   "metadata": {},
   "outputs": [],
   "source": [
    "Spec_decoded=audioarray_to_melspectro(decoded)\n",
    "print(mse_melSpectro(Xtest_mel,Spec_decoded))"
   ]
  },
  {
   "cell_type": "code",
   "execution_count": null,
   "metadata": {},
   "outputs": [],
   "source": [
    "print(mse_melSpectro(Xtest_mel,decoded_mel))"
   ]
  },
  {
   "cell_type": "code",
   "execution_count": null,
   "metadata": {},
   "outputs": [],
   "source": [
    "p3=125\n",
    "plt.figure(figsize=(16, 4))\n",
    "plt.subplot(1,4,1)\n",
    "librosa.display.specshow(np.reshape(Xtest_mel[p3],(1024,16)), sr=8000, x_axis='time', y_axis='mel',fmax=4000,cmap='Spectral_r')\n",
    "colorbar()\n",
    "plt.subplot(1,4,2)\n",
    "librosa.display.specshow(np.reshape(Xtest_fil_mel[p3],(1024,16)), sr=8000, x_axis='time', y_axis='mel',fmax=4000,cmap='Spectral_r')\n",
    "colorbar()\n",
    "plt.subplot(1,4,3)\n",
    "librosa.display.specshow(np.reshape(Spec_decoded[p3],(1024,16)), sr=8000, x_axis='time', y_axis='mel',fmax=4000,cmap='Spectral_r')\n",
    "colorbar()\n",
    "plt.subplot(1,4,4)\n",
    "librosa.display.specshow(np.reshape(decoded_mel[p3],(1024,16)), sr=8000, x_axis='time', y_axis='mel',fmax=4000,cmap='Spectral_r')\n",
    "colorbar()"
   ]
  },
  {
   "cell_type": "code",
   "execution_count": null,
   "metadata": {},
   "outputs": [],
   "source": [
    "Lin_test_mel=mel_to_linspec(Xtest_mel,sr=8000,n_mels=1024,n_fft=2048)\n",
    "\n",
    "print(mse_melSpectro(Lin_test_mel,Lin_dec))"
   ]
  },
  {
   "cell_type": "code",
   "execution_count": null,
   "metadata": {},
   "outputs": [],
   "source": [
    "Lin_audio=mel_to_linspec(Spec_decoded,sr=8000,n_mels=1024,n_fft=2048)\n",
    "print(mse_melSpectro(Lin_test_mel,Lin_audio))"
   ]
  },
  {
   "cell_type": "code",
   "execution_count": null,
   "metadata": {},
   "outputs": [],
   "source": [
    "plt.figure(figsize=(16, 4))\n",
    "plt.subplot(1,3,1)\n",
    "librosa.display.specshow(Lin_test_mel[p3], sr=8000, x_axis='time', y_axis='log',fmax=4000,cmap='Spectral_r')\n",
    "colorbar()\n",
    "plt.subplot(1,3,2)\n",
    "librosa.display.specshow(Lin_audio[p3], sr=8000, x_axis='time', y_axis='log',fmax=4000,cmap='Spectral_r')\n",
    "colorbar()\n",
    "plt.subplot(1,3,3)\n",
    "librosa.display.specshow(Lin_dec[p3], sr=8000, x_axis='time', y_axis='log',fmax=4000,cmap='Spectral_r')\n",
    "colorbar()"
   ]
  },
  {
   "cell_type": "code",
   "execution_count": null,
   "metadata": {},
   "outputs": [],
   "source": []
  }
 ],
 "metadata": {
  "kernelspec": {
   "display_name": "Python 3",
   "language": "python",
   "name": "python3"
  },
  "language_info": {
   "codemirror_mode": {
    "name": "ipython",
    "version": 3
   },
   "file_extension": ".py",
   "mimetype": "text/x-python",
   "name": "python",
   "nbconvert_exporter": "python",
   "pygments_lexer": "ipython3",
   "version": "3.6.8"
  }
 },
 "nbformat": 4,
 "nbformat_minor": 2
}
